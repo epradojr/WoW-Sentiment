{
 "cells": [
  {
   "cell_type": "markdown",
   "metadata": {},
   "source": [
    "# Classification Model Building"
   ]
  },
  {
   "cell_type": "markdown",
   "metadata": {},
   "source": [
    "What this model should do:\n",
    "\n",
    "    - The model will be fed pre-processed WoWChatlog.txt that will be transformed into a CSV file for model processing via pandas."
   ]
  },
  {
   "cell_type": "markdown",
   "metadata": {},
   "source": [
    "## Imports"
   ]
  },
  {
   "cell_type": "code",
   "execution_count": 74,
   "metadata": {},
   "outputs": [],
   "source": [
    "import pandas as pd\n",
    "import numpy as np\n",
    "import seaborn as sns\n",
    "import matplotlib.pyplot as plt\n",
    "\n",
    "# Modeling imports\n",
    "from sklearn.pipeline import Pipeline\n",
    "from sklearn.model_selection import GridSearchCV\n",
    "from sklearn.feature_extraction.text import CountVectorizer\n",
    "from sklearn.feature_extraction.text import TfidfTransformer\n",
    "from sklearn.linear_model import SGDClassifier, LogisticRegression\n",
    "from sklearn.svm import SVC\n",
    "from sklearn.ensemble import RandomForestClassifier\n",
    "from sklearn.naive_bayes import MultinomialNB\n",
    "\n",
    "from sklearn.metrics import accuracy_score, confusion_matrix, classification_report, precision_score, recall_score\n",
    "from sklearn.model_selection import train_test_split, cross_val_score\n",
    "import time\n",
    "\n",
    "\n",
    "SEED = 22\n",
    "\n",
    "\n"
   ]
  },
  {
   "cell_type": "markdown",
   "metadata": {},
   "source": [
    "## Setup"
   ]
  },
  {
   "cell_type": "code",
   "execution_count": 2,
   "metadata": {},
   "outputs": [],
   "source": [
    "%store -r cm_df_token\n",
    "df = cm_df_token"
   ]
  },
  {
   "cell_type": "code",
   "execution_count": 4,
   "metadata": {},
   "outputs": [
    {
     "data": {
      "text/html": [
       "<div>\n",
       "<style scoped>\n",
       "    .dataframe tbody tr th:only-of-type {\n",
       "        vertical-align: middle;\n",
       "    }\n",
       "\n",
       "    .dataframe tbody tr th {\n",
       "        vertical-align: top;\n",
       "    }\n",
       "\n",
       "    .dataframe thead th {\n",
       "        text-align: right;\n",
       "    }\n",
       "</style>\n",
       "<table border=\"1\" class=\"dataframe\">\n",
       "  <thead>\n",
       "    <tr style=\"text-align: right;\">\n",
       "      <th></th>\n",
       "      <th>date</th>\n",
       "      <th>time</th>\n",
       "      <th>text</th>\n",
       "      <th>sentiment</th>\n",
       "      <th>target</th>\n",
       "      <th>text_tokenized</th>\n",
       "      <th>joined_tokens</th>\n",
       "    </tr>\n",
       "  </thead>\n",
       "  <tbody>\n",
       "    <tr>\n",
       "      <th>0</th>\n",
       "      <td>2/22/2022</td>\n",
       "      <td>8:14:35 AM</td>\n",
       "      <td>how long will downtime be</td>\n",
       "      <td>Other</td>\n",
       "      <td>Game</td>\n",
       "      <td>[long, downtime]</td>\n",
       "      <td>long downtime</td>\n",
       "    </tr>\n",
       "    <tr>\n",
       "      <th>1</th>\n",
       "      <td>2/22/2022</td>\n",
       "      <td>8:14:40 AM</td>\n",
       "      <td>8 hours</td>\n",
       "      <td>Other</td>\n",
       "      <td>Game</td>\n",
       "      <td>[hours]</td>\n",
       "      <td>hours</td>\n",
       "    </tr>\n",
       "    <tr>\n",
       "      <th>2</th>\n",
       "      <td>2/22/2022</td>\n",
       "      <td>8:14:42 AM</td>\n",
       "      <td>few hours</td>\n",
       "      <td>Other</td>\n",
       "      <td>Game</td>\n",
       "      <td>[hours]</td>\n",
       "      <td>hours</td>\n",
       "    </tr>\n",
       "    <tr>\n",
       "      <th>3</th>\n",
       "      <td>2/22/2022</td>\n",
       "      <td>8:14:42 AM</td>\n",
       "      <td>8 hours?</td>\n",
       "      <td>Negative</td>\n",
       "      <td>Game</td>\n",
       "      <td>[hours]</td>\n",
       "      <td>hours</td>\n",
       "    </tr>\n",
       "    <tr>\n",
       "      <th>4</th>\n",
       "      <td>2/22/2022</td>\n",
       "      <td>8:14:42 AM</td>\n",
       "      <td>7hrs</td>\n",
       "      <td>Other</td>\n",
       "      <td>Game</td>\n",
       "      <td>[other]</td>\n",
       "      <td>other</td>\n",
       "    </tr>\n",
       "    <tr>\n",
       "      <th>...</th>\n",
       "      <td>...</td>\n",
       "      <td>...</td>\n",
       "      <td>...</td>\n",
       "      <td>...</td>\n",
       "      <td>...</td>\n",
       "      <td>...</td>\n",
       "      <td>...</td>\n",
       "    </tr>\n",
       "    <tr>\n",
       "      <th>2950</th>\n",
       "      <td>2/23/2022</td>\n",
       "      <td>10:17:02 PM</td>\n",
       "      <td>tank and healer looking for late night raidin...</td>\n",
       "      <td>Other</td>\n",
       "      <td>Service</td>\n",
       "      <td>[tank, healer, looking, late, night, raiding, ...</td>\n",
       "      <td>tank healer looking late night raiding guild pst</td>\n",
       "    </tr>\n",
       "    <tr>\n",
       "      <th>2951</th>\n",
       "      <td>2/23/2022</td>\n",
       "      <td>10:17:06 PM</td>\n",
       "      <td>&gt;&gt;one more rep&lt;&lt; need more motivation to get ...</td>\n",
       "      <td>Other</td>\n",
       "      <td>Service</td>\n",
       "      <td>[one, rep, need, motivation, get, last, rep, g...</td>\n",
       "      <td>one rep need motivation get last rep get aotc ...</td>\n",
       "    </tr>\n",
       "    <tr>\n",
       "      <th>2952</th>\n",
       "      <td>2/23/2022</td>\n",
       "      <td>10:18:21 PM</td>\n",
       "      <td>wts spectral tiger cub</td>\n",
       "      <td>Other</td>\n",
       "      <td>Service</td>\n",
       "      <td>[wts, spectral, tiger, cub]</td>\n",
       "      <td>wts spectral tiger cub</td>\n",
       "    </tr>\n",
       "    <tr>\n",
       "      <th>2953</th>\n",
       "      <td>2/23/2022</td>\n",
       "      <td>10:21:11 PM</td>\n",
       "      <td>wts +15 with my team 2500 io timed!</td>\n",
       "      <td>Other</td>\n",
       "      <td>Service</td>\n",
       "      <td>[wts, team, io, timed]</td>\n",
       "      <td>wts team io timed</td>\n",
       "    </tr>\n",
       "    <tr>\n",
       "      <th>2954</th>\n",
       "      <td>2/23/2022</td>\n",
       "      <td>10:23:12 PM</td>\n",
       "      <td>wts strange goop 250k no need of ah get it ch...</td>\n",
       "      <td>Other</td>\n",
       "      <td>Service</td>\n",
       "      <td>[wts, strange, goop, need, ah, get, cheap, sav...</td>\n",
       "      <td>wts strange goop need ah get cheap save hours ...</td>\n",
       "    </tr>\n",
       "  </tbody>\n",
       "</table>\n",
       "<p>2955 rows × 7 columns</p>\n",
       "</div>"
      ],
      "text/plain": [
       "           date         time  \\\n",
       "0     2/22/2022   8:14:35 AM   \n",
       "1     2/22/2022   8:14:40 AM   \n",
       "2     2/22/2022   8:14:42 AM   \n",
       "3     2/22/2022   8:14:42 AM   \n",
       "4     2/22/2022   8:14:42 AM   \n",
       "...         ...          ...   \n",
       "2950  2/23/2022  10:17:02 PM   \n",
       "2951  2/23/2022  10:17:06 PM   \n",
       "2952  2/23/2022  10:18:21 PM   \n",
       "2953  2/23/2022  10:21:11 PM   \n",
       "2954  2/23/2022  10:23:12 PM   \n",
       "\n",
       "                                                   text sentiment   target  \\\n",
       "0                             how long will downtime be     Other     Game   \n",
       "1                                               8 hours     Other     Game   \n",
       "2                                            few hours      Other     Game   \n",
       "3                                              8 hours?  Negative     Game   \n",
       "4                                                  7hrs     Other     Game   \n",
       "...                                                 ...       ...      ...   \n",
       "2950   tank and healer looking for late night raidin...     Other  Service   \n",
       "2951   >>one more rep<< need more motivation to get ...     Other  Service   \n",
       "2952                             wts spectral tiger cub     Other  Service   \n",
       "2953                wts +15 with my team 2500 io timed!     Other  Service   \n",
       "2954   wts strange goop 250k no need of ah get it ch...     Other  Service   \n",
       "\n",
       "                                         text_tokenized  \\\n",
       "0                                      [long, downtime]   \n",
       "1                                               [hours]   \n",
       "2                                               [hours]   \n",
       "3                                               [hours]   \n",
       "4                                               [other]   \n",
       "...                                                 ...   \n",
       "2950  [tank, healer, looking, late, night, raiding, ...   \n",
       "2951  [one, rep, need, motivation, get, last, rep, g...   \n",
       "2952                        [wts, spectral, tiger, cub]   \n",
       "2953                             [wts, team, io, timed]   \n",
       "2954  [wts, strange, goop, need, ah, get, cheap, sav...   \n",
       "\n",
       "                                          joined_tokens  \n",
       "0                                         long downtime  \n",
       "1                                                 hours  \n",
       "2                                                 hours  \n",
       "3                                                 hours  \n",
       "4                                                 other  \n",
       "...                                                 ...  \n",
       "2950   tank healer looking late night raiding guild pst  \n",
       "2951  one rep need motivation get last rep get aotc ...  \n",
       "2952                             wts spectral tiger cub  \n",
       "2953                                  wts team io timed  \n",
       "2954  wts strange goop need ah get cheap save hours ...  \n",
       "\n",
       "[2955 rows x 7 columns]"
      ]
     },
     "execution_count": 4,
     "metadata": {},
     "output_type": "execute_result"
    }
   ],
   "source": [
    "df"
   ]
  },
  {
   "cell_type": "code",
   "execution_count": 63,
   "metadata": {},
   "outputs": [],
   "source": [
    "X = df.joined_tokens\n",
    "y = df.target\n",
    "\n",
    "model_perf = {}\n",
    "model_labels = ['Chat', 'Game', 'Service']"
   ]
  },
  {
   "cell_type": "code",
   "execution_count": 64,
   "metadata": {},
   "outputs": [],
   "source": [
    "X_train, X_test, y_train, y_test = train_test_split(X, y, test_size= 0.25, random_state=22)\n"
   ]
  },
  {
   "cell_type": "code",
   "execution_count": 78,
   "metadata": {},
   "outputs": [],
   "source": [
    "def run_model(estimator, X_train, y_train, X_test, y_test, cv):\n",
    "\n",
    "  start = time.time()\n",
    "  pipe = Pipeline(\n",
    "      [ ('vect', CountVectorizer()),\n",
    "        ('tfidf', TfidfTransformer()),\n",
    "        ('clf', estimator)\n",
    "      ])\n",
    "  \n",
    "  pipe.fit(X_train, y_train)\n",
    "  end = time.time()\n",
    "\n",
    "  cv_acc = round(np.mean(cross_val_score(pipe, X_train, y_train, cv= cv, scoring='accuracy')),4)\n",
    "\n",
    "\n",
    "  y_pred = pipe.predict(X_test)\n",
    "\n",
    "  test_acc = round(accuracy_score(y_pred, y_test), 4)\n",
    "  \n",
    "  runtime = round((end-start), 4)\n",
    "\n",
    "  cv_dict = {'CV_Accuracy': cv_acc, 'Test_Accuracy': test_acc, 'Run Time': runtime}\n",
    "\n",
    "\n",
    "  return( pipe, cv_dict, y_pred)\n",
    "\n",
    "\n"
   ]
  },
  {
   "cell_type": "markdown",
   "metadata": {},
   "source": [
    "## Base Models"
   ]
  },
  {
   "cell_type": "code",
   "execution_count": 79,
   "metadata": {},
   "outputs": [],
   "source": [
    "sgd = SGDClassifier(random_state=SEED)\n",
    "svc = SVC(random_state=SEED)\n",
    "lr = LogisticRegression(random_state=SEED)\n",
    "nb = MultinomialNB()\n",
    "rf = RandomForestClassifier(random_state=SEED)\n",
    "\n",
    "models = {'SGD': sgd, 'SVC': svc, 'LogReg': lr, 'Naive': nb, 'RFC': rf}\n"
   ]
  },
  {
   "cell_type": "code",
   "execution_count": 80,
   "metadata": {},
   "outputs": [
    {
     "name": "stdout",
     "output_type": "stream",
     "text": [
      "Showing results for: SGD\n",
      "{'Model': Pipeline(steps=[('vect', CountVectorizer()), ('tfidf', TfidfTransformer()),\n",
      "                ('clf', SGDClassifier(random_state=22))]), 'Performace': {'CV_Accuracy': 0.7189, 'Test_Accuracy': 0.7185, 'Run Time': 0.042}}\n",
      "\n",
      "Showing results for: SVC\n",
      "{'Model': Pipeline(steps=[('vect', CountVectorizer()), ('tfidf', TfidfTransformer()),\n",
      "                ('clf', SVC(random_state=22))]), 'Performace': {'CV_Accuracy': 0.7139, 'Test_Accuracy': 0.7321, 'Run Time': 0.434}}\n",
      "\n",
      "Showing results for: LogReg\n",
      "{'Model': Pipeline(steps=[('vect', CountVectorizer()), ('tfidf', TfidfTransformer()),\n",
      "                ('clf', LogisticRegression(random_state=22))]), 'Performace': {'CV_Accuracy': 0.7234, 'Test_Accuracy': 0.7321, 'Run Time': 0.241}}\n",
      "\n",
      "Showing results for: Naive\n",
      "{'Model': Pipeline(steps=[('vect', CountVectorizer()), ('tfidf', TfidfTransformer()),\n",
      "                ('clf', MultinomialNB())]), 'Performace': {'CV_Accuracy': 0.7193, 'Test_Accuracy': 0.7348, 'Run Time': 0.037}}\n",
      "\n",
      "Showing results for: RFC\n",
      "{'Model': Pipeline(steps=[('vect', CountVectorizer()), ('tfidf', TfidfTransformer()),\n",
      "                ('clf', RandomForestClassifier(random_state=22))]), 'Performace': {'CV_Accuracy': 0.7234, 'Test_Accuracy': 0.705, 'Run Time': 1.052}}\n",
      "\n"
     ]
    },
    {
     "data": {
      "image/png": "[encoded data removed]",
      "text/plain": [
       "<Figure size 576x432 with 2 Axes>"
      ]
     },
     "metadata": {
      "needs_background": "light"
     },
     "output_type": "display_data"
    },
    {
     "data": {
      "image/png": "[encoded data removed]",
      "text/plain": [
       "<Figure size 576x432 with 2 Axes>"
      ]
     },
     "metadata": {
      "needs_background": "light"
     },
     "output_type": "display_data"
    },
    {
     "data": {
      "image/png": "[encoded data removed]",
      "text/plain": [
       "<Figure size 576x432 with 2 Axes>"
      ]
     },
     "metadata": {
      "needs_background": "light"
     },
     "output_type": "display_data"
    },
    {
     "data": {
      "image/png": "[encoded data removed]",
      "text/plain": [
       "<Figure size 576x432 with 2 Axes>"
      ]
     },
     "metadata": {
      "needs_background": "light"
     },
     "output_type": "display_data"
    },
    {
     "data": {
      "image/png": "[encoded data removed]",
      "text/plain": [
       "<Figure size 576x432 with 2 Axes>"
      ]
     },
     "metadata": {
      "needs_background": "light"
     },
     "output_type": "display_data"
    }
   ],
   "source": [
    "for key, model in models.items():\n",
    "\n",
    "    model, cv_dict, y_pred = run_model(model, X_train, y_train, X_test, y_test, 5)\n",
    "    model_perf[key] = {'Model': model, 'Performace': cv_dict}\n",
    "\n",
    "    print(f'Showing results for: {key}')\n",
    "    print(model_perf[key])\n",
    "    print()\n",
    "\n",
    "    cm = confusion_matrix(y_test, y_pred)\n",
    "    fig, ax = plt.subplots(figsize=(8,6))\n",
    "\n",
    "    sns.heatmap(cm/np.sum(cm), annot=True, fmt='.2%', cmap='Blues', xticklabels= model_labels, yticklabels= model_labels)\n",
    "    ax.set_title(key);\n",
    "\n",
    "\n"
   ]
  },
  {
   "cell_type": "code",
   "execution_count": 60,
   "metadata": {},
   "outputs": [
    {
     "data": {
      "text/plain": [
       "Game       349\n",
       "Chat       252\n",
       "Service    138\n",
       "Name: target, dtype: int64"
      ]
     },
     "execution_count": 60,
     "metadata": {},
     "output_type": "execute_result"
    }
   ],
   "source": [
    "y_test.value_counts()"
   ]
  },
  {
   "cell_type": "code",
   "execution_count": 69,
   "metadata": {},
   "outputs": [
    {
     "data": {
      "text/plain": [
       "Game       0.472260\n",
       "Chat       0.341001\n",
       "Service    0.186739\n",
       "Name: target, dtype: float64"
      ]
     },
     "execution_count": 69,
     "metadata": {},
     "output_type": "execute_result"
    }
   ],
   "source": [
    "y_test.value_counts(normalize=True)"
   ]
  },
  {
   "cell_type": "markdown",
   "metadata": {},
   "source": [
    "## Tuned Models"
   ]
  },
  {
   "cell_type": "code",
   "execution_count": 87,
   "metadata": {},
   "outputs": [],
   "source": [
    "sgd_params = {\n",
    "    'vect__strip_accents':[None,'ascii','unicode'],\n",
    "    'vect__lowercase': [True, False],\n",
    "    'vect__ngram_range': [(1,1), (1,2), (2,2)],\n",
    "    'tfidf__smooth_idf': [True, False],\n",
    "    'clf__loss': ['hinge','log','modified_huber','squared_hinge'],\n",
    "    'clf__max_iter':[1000,2000],\n",
    "    'clf__class_weight': [None, 'balanced']\n",
    "}\n",
    "\n",
    "svc_params = {\n",
    "    'vect__strip_accents':[None,'ascii','unicode'],\n",
    "    'vect__lowercase': [True, False],\n",
    "    'vect__ngram_range': [(1,1), (1,2), (2,2)],\n",
    "    'tfidf__smooth_idf': [True, False],\n",
    "    'clf__C': [1,5,10],\n",
    "    'clf__kernel': ['linear','poly', 'rbf', 'sigmoid','precomputed'],\n",
    "    'clf__degree': [3,6,9],\n",
    "    'clf__gamma': ['auto', 'scale'],\n",
    "    'clf__class_weight':[None, 'balanced']\n",
    "}\n",
    "\n",
    "lr_params = {\n",
    "    'vect__strip_accents':[None,'ascii','unicode'],\n",
    "    'vect__lowercase': [True, False],\n",
    "    'vect__ngram_range': [(1,1), (1,2), (2,2)],\n",
    "    'tfidf__smooth_idf': [True, False],\n",
    "    'clf__C': [1,5,10],\n",
    "    'clf__solver': ['liblinear','lbfgs', 'sag', 'saga','newton-cg'],\n",
    "    'clf__class_weight': ['balanced', None],\n",
    "    'clf__multi_class': ['auto', 'ovr', 'multinomial'],\n",
    "    'clf__penalty':['l1','l2','elasticnet', 'none']\n",
    "}\n",
    "\n",
    "nb_params = {\n",
    "    'vect__strip_accents':[None,'ascii','unicode'],\n",
    "    'vect__lowercase': [True, False],\n",
    "    'vect__ngram_range': [(1,1), (1,2), (2,2)],\n",
    "    'tfidf__smooth_idf': [True, False]\n",
    "}\n",
    "\n",
    "rf_params = {\n",
    "    'vect__strip_accents':[None,'ascii','unicode'],\n",
    "    'vect__lowercase': [True, False],\n",
    "    'vect__ngram_range': [(1,1), (1,2), (2,2)],\n",
    "    'tfidf__smooth_idf': [True, False],\n",
    "    'clf__n_estimators': [100,200,300,400,500],\n",
    "    'clf__criterion': ['gini','entropy'],\n",
    "    'clf__max_depth': [1,3,5],\n",
    "    'clf__class_weight': [None,'balanced', 'balanced_subsample']\n",
    "}"
   ]
  },
  {
   "cell_type": "code",
   "execution_count": 88,
   "metadata": {},
   "outputs": [],
   "source": [
    "def grid_run(estimator, est_params, X_train, y_train, X_test, y_test, cv, score='accuracy'):\n",
    "\n",
    "  model, cv_dict, y_pred = run_model(estimator, X_train, y_train, X_test, y_test, cv)\n",
    "\n",
    "  grid = GridSearchCV(model,param_grid= est_params, cv=cv, verbose=1, n_jobs=-3, scoring= score)\n",
    "  grid = grid.fit(X_train, y_train)\n",
    "\n",
    "  return(grid)\n",
    "\n",
    "\n",
    "     "
   ]
  },
  {
   "cell_type": "code",
   "execution_count": 91,
   "metadata": {},
   "outputs": [],
   "source": [
    "model_params = {'SGD':{sgd:sgd_params}, 'SVC': {svc:svc_params}, 'LogReg': {lr:lr_params}, 'Naive': {nb:nb_params}, 'RFC': {rf:rf_params}}"
   ]
  },
  {
   "cell_type": "code",
   "execution_count": 92,
   "metadata": {},
   "outputs": [
    {
     "name": "stdout",
     "output_type": "stream",
     "text": [
      "----------------------------------------------\n",
      "Now running SGD GridSearch\n",
      "Fitting 5 folds for each of 576 candidates, totalling 2880 fits\n"
     ]
    },
    {
     "name": "stderr",
     "output_type": "stream",
     "text": [
      "[Parallel(n_jobs=-3)]: Using backend LokyBackend with 10 concurrent workers.\n",
      "[Parallel(n_jobs=-3)]: Done  30 tasks      | elapsed:    6.2s\n",
      "[Parallel(n_jobs=-3)]: Done 180 tasks      | elapsed:    8.8s\n",
      "[Parallel(n_jobs=-3)]: Done 430 tasks      | elapsed:   13.1s\n",
      "[Parallel(n_jobs=-3)]: Done 780 tasks      | elapsed:   19.2s\n",
      "[Parallel(n_jobs=-3)]: Done 1230 tasks      | elapsed:   31.4s\n",
      "[Parallel(n_jobs=-3)]: Done 1780 tasks      | elapsed:   56.4s\n",
      "[Parallel(n_jobs=-3)]: Done 2430 tasks      | elapsed:  1.2min\n",
      "[Parallel(n_jobs=-3)]: Done 2880 out of 2880 | elapsed:  1.6min finished\n"
     ]
    },
    {
     "name": "stdout",
     "output_type": "stream",
     "text": [
      "\n",
      "0.7454782095865616\n",
      "{'clf__class_weight': 'balanced', 'clf__loss': 'log', 'clf__max_iter': 1000, 'tfidf__smooth_idf': False, 'vect__lowercase': True, 'vect__ngram_range': (1, 1), 'vect__strip_accents': None}\n",
      "\n",
      "----------------------------------------------\n",
      "Now running SVC GridSearch\n",
      "Fitting 5 folds for each of 6480 candidates, totalling 32400 fits\n"
     ]
    },
    {
     "name": "stderr",
     "output_type": "stream",
     "text": [
      "[Parallel(n_jobs=-3)]: Using backend LokyBackend with 10 concurrent workers.\n",
      "[Parallel(n_jobs=-3)]: Done  30 tasks      | elapsed:    2.8s\n",
      "[Parallel(n_jobs=-3)]: Done 180 tasks      | elapsed:   12.8s\n",
      "[Parallel(n_jobs=-3)]: Done 430 tasks      | elapsed:   26.6s\n",
      "[Parallel(n_jobs=-3)]: Done 780 tasks      | elapsed:   42.7s\n",
      "[Parallel(n_jobs=-3)]: Done 1320 tasks      | elapsed:  1.2min\n",
      "[Parallel(n_jobs=-3)]: Done 1960 tasks      | elapsed:  1.8min\n",
      "[Parallel(n_jobs=-3)]: Done 2620 tasks      | elapsed:  2.3min\n",
      "[Parallel(n_jobs=-3)]: Done 3450 tasks      | elapsed:  3.2min\n",
      "[Parallel(n_jobs=-3)]: Done 4390 tasks      | elapsed:  3.9min\n",
      "[Parallel(n_jobs=-3)]: Done 5520 tasks      | elapsed:  4.9min\n",
      "[Parallel(n_jobs=-3)]: Done 6660 tasks      | elapsed:  6.0min\n",
      "[Parallel(n_jobs=-3)]: Done 7850 tasks      | elapsed:  7.4min\n",
      "[Parallel(n_jobs=-3)]: Done 9280 tasks      | elapsed:  8.7min\n",
      "[Parallel(n_jobs=-3)]: Done 10720 tasks      | elapsed: 10.1min\n",
      "[Parallel(n_jobs=-3)]: Done 12330 tasks      | elapsed: 11.6min\n",
      "[Parallel(n_jobs=-3)]: Done 14060 tasks      | elapsed: 13.1min\n",
      "[Parallel(n_jobs=-3)]: Done 15890 tasks      | elapsed: 14.8min\n",
      "[Parallel(n_jobs=-3)]: Done 17820 tasks      | elapsed: 16.7min\n",
      "[Parallel(n_jobs=-3)]: Done 19890 tasks      | elapsed: 18.7min\n",
      "[Parallel(n_jobs=-3)]: Done 22070 tasks      | elapsed: 20.8min\n",
      "[Parallel(n_jobs=-3)]: Done 24365 tasks      | elapsed: 22.8min\n",
      "[Parallel(n_jobs=-3)]: Done 26700 tasks      | elapsed: 24.9min\n",
      "[Parallel(n_jobs=-3)]: Done 29220 tasks      | elapsed: 27.2min\n",
      "[Parallel(n_jobs=-3)]: Done 31840 tasks      | elapsed: 29.7min\n",
      "[Parallel(n_jobs=-3)]: Done 32400 out of 32400 | elapsed: 30.1min finished\n"
     ]
    },
    {
     "name": "stdout",
     "output_type": "stream",
     "text": [
      "\n",
      "0.7418786732556484\n",
      "{'clf__C': 1, 'clf__class_weight': 'balanced', 'clf__degree': 3, 'clf__gamma': 'auto', 'clf__kernel': 'linear', 'tfidf__smooth_idf': True, 'vect__lowercase': True, 'vect__ngram_range': (1, 2), 'vect__strip_accents': None}\n",
      "\n",
      "----------------------------------------------\n",
      "Now running LogReg GridSearch\n",
      "Fitting 5 folds for each of 12960 candidates, totalling 64800 fits\n"
     ]
    },
    {
     "name": "stderr",
     "output_type": "stream",
     "text": [
      "[Parallel(n_jobs=-3)]: Using backend LokyBackend with 10 concurrent workers.\n",
      "[Parallel(n_jobs=-3)]: Done  40 tasks      | elapsed:    0.9s\n",
      "[Parallel(n_jobs=-3)]: Done 340 tasks      | elapsed:    4.9s\n",
      "[Parallel(n_jobs=-3)]: Done 840 tasks      | elapsed:   16.4s\n",
      "[Parallel(n_jobs=-3)]: Done 1340 tasks      | elapsed:   41.7s\n",
      "[Parallel(n_jobs=-3)]: Done 1790 tasks      | elapsed:   54.6s\n",
      "[Parallel(n_jobs=-3)]: Done 2800 tasks      | elapsed:  1.1min\n",
      "[Parallel(n_jobs=-3)]: Done 3520 tasks      | elapsed:  2.1min\n",
      "[Parallel(n_jobs=-3)]: Done 4550 tasks      | elapsed:  2.6min\n",
      "[Parallel(n_jobs=-3)]: Done 5540 tasks      | elapsed:  3.1min\n",
      "[Parallel(n_jobs=-3)]: Done 6990 tasks      | elapsed:  3.8min\n",
      "[Parallel(n_jobs=-3)]: Done 8570 tasks      | elapsed:  4.8min\n",
      "[Parallel(n_jobs=-3)]: Done 10250 tasks      | elapsed:  5.8min\n",
      "[Parallel(n_jobs=-3)]: Done 11960 tasks      | elapsed:  6.9min\n",
      "[Parallel(n_jobs=-3)]: Done 13830 tasks      | elapsed:  8.0min\n",
      "[Parallel(n_jobs=-3)]: Done 15720 tasks      | elapsed:  9.3min\n",
      "[Parallel(n_jobs=-3)]: Done 17810 tasks      | elapsed: 10.3min\n",
      "[Parallel(n_jobs=-3)]: Done 20110 tasks      | elapsed: 11.6min\n",
      "[Parallel(n_jobs=-3)]: Done 22280 tasks      | elapsed: 17.3min\n",
      "[Parallel(n_jobs=-3)]: Done 24820 tasks      | elapsed: 19.2min\n",
      "[Parallel(n_jobs=-3)]: Done 26920 tasks      | elapsed: 25.0min\n",
      "[Parallel(n_jobs=-3)]: Done 29880 tasks      | elapsed: 27.3min\n",
      "[Parallel(n_jobs=-3)]: Done 32340 tasks      | elapsed: 29.9min\n",
      "[Parallel(n_jobs=-3)]: Done 34870 tasks      | elapsed: 34.4min\n",
      "[Parallel(n_jobs=-3)]: Done 37630 tasks      | elapsed: 39.7min\n",
      "[Parallel(n_jobs=-3)]: Done 41050 tasks      | elapsed: 42.3min\n",
      "[Parallel(n_jobs=-3)]: Done 44170 tasks      | elapsed: 52.5min\n",
      "[Parallel(n_jobs=-3)]: Done 47160 tasks      | elapsed: 62.3min\n",
      "[Parallel(n_jobs=-3)]: Done 50440 tasks      | elapsed: 66.2min\n",
      "[Parallel(n_jobs=-3)]: Done 54060 tasks      | elapsed: 72.0min\n",
      "[Parallel(n_jobs=-3)]: Done 57540 tasks      | elapsed: 80.3min\n",
      "[Parallel(n_jobs=-3)]: Done 61250 tasks      | elapsed: 89.8min\n",
      "[Parallel(n_jobs=-3)]: Done 64800 out of 64800 | elapsed: 93.3min finished\n"
     ]
    },
    {
     "name": "stdout",
     "output_type": "stream",
     "text": [
      "\n",
      "0.7486354300124051\n",
      "{'clf__C': 5, 'clf__class_weight': 'balanced', 'clf__multi_class': 'auto', 'clf__penalty': 'l2', 'clf__solver': 'liblinear', 'tfidf__smooth_idf': True, 'vect__lowercase': True, 'vect__ngram_range': (1, 1), 'vect__strip_accents': None}\n",
      "\n",
      "----------------------------------------------\n",
      "Now running Naive GridSearch\n",
      "Fitting 5 folds for each of 36 candidates, totalling 180 fits\n"
     ]
    },
    {
     "name": "stderr",
     "output_type": "stream",
     "text": [
      "[Parallel(n_jobs=-3)]: Using backend LokyBackend with 10 concurrent workers.\n",
      "[Parallel(n_jobs=-3)]: Done  40 tasks      | elapsed:    0.7s\n",
      "[Parallel(n_jobs=-3)]: Done 180 out of 180 | elapsed:    2.6s finished\n"
     ]
    },
    {
     "name": "stdout",
     "output_type": "stream",
     "text": [
      "\n",
      "0.7193093770971876\n",
      "{'tfidf__smooth_idf': True, 'vect__lowercase': True, 'vect__ngram_range': (1, 1), 'vect__strip_accents': None}\n",
      "\n",
      "----------------------------------------------\n",
      "Now running RFC GridSearch\n",
      "Fitting 5 folds for each of 3240 candidates, totalling 16200 fits\n"
     ]
    },
    {
     "name": "stderr",
     "output_type": "stream",
     "text": [
      "[Parallel(n_jobs=-3)]: Using backend LokyBackend with 10 concurrent workers.\n",
      "[Parallel(n_jobs=-3)]: Done  30 tasks      | elapsed:    2.1s\n",
      "[Parallel(n_jobs=-3)]: Done 180 tasks      | elapsed:   11.3s\n",
      "[Parallel(n_jobs=-3)]: Done 430 tasks      | elapsed:   39.9s\n",
      "[Parallel(n_jobs=-3)]: Done 780 tasks      | elapsed:  1.7min\n",
      "[Parallel(n_jobs=-3)]: Done 1230 tasks      | elapsed:  2.6min\n",
      "[Parallel(n_jobs=-3)]: Done 1780 tasks      | elapsed:  4.4min\n",
      "[Parallel(n_jobs=-3)]: Done 2430 tasks      | elapsed:  5.7min\n",
      "[Parallel(n_jobs=-3)]: Done 3180 tasks      | elapsed:  7.4min\n",
      "[Parallel(n_jobs=-3)]: Done 4030 tasks      | elapsed:  9.4min\n",
      "[Parallel(n_jobs=-3)]: Done 4980 tasks      | elapsed: 11.7min\n",
      "[Parallel(n_jobs=-3)]: Done 6030 tasks      | elapsed: 14.3min\n",
      "[Parallel(n_jobs=-3)]: Done 7180 tasks      | elapsed: 17.3min\n",
      "[Parallel(n_jobs=-3)]: Done 8430 tasks      | elapsed: 19.9min\n",
      "[Parallel(n_jobs=-3)]: Done 9780 tasks      | elapsed: 23.5min\n",
      "[Parallel(n_jobs=-3)]: Done 11230 tasks      | elapsed: 27.3min\n",
      "[Parallel(n_jobs=-3)]: Done 12780 tasks      | elapsed: 32.9min\n",
      "[Parallel(n_jobs=-3)]: Done 14430 tasks      | elapsed: 38.5min\n",
      "[Parallel(n_jobs=-3)]: Done 16180 tasks      | elapsed: 44.7min\n",
      "[Parallel(n_jobs=-3)]: Done 16200 out of 16200 | elapsed: 44.8min finished\n"
     ]
    },
    {
     "name": "stdout",
     "output_type": "stream",
     "text": [
      "\n",
      "0.6295161979134891\n",
      "{'clf__class_weight': 'balanced', 'clf__criterion': 'gini', 'clf__max_depth': 5, 'clf__n_estimators': 400, 'tfidf__smooth_idf': True, 'vect__lowercase': True, 'vect__ngram_range': (1, 1), 'vect__strip_accents': None}\n",
      "\n"
     ]
    }
   ],
   "source": [
    "for key, estimators in model_params.items():\n",
    "  for estimator, params in estimators.items():\n",
    "\n",
    "    print('----------------------------------------------')\n",
    "    print(f'Now running {key} GridSearch')\n",
    "\n",
    "    grid = grid_run(estimator, params, X_train, y_train, X_test, y_test, 5)\n",
    "\n",
    "    print()\n",
    "    print(grid.best_score_)\n",
    "    print(grid.best_params_)\n",
    "    print()"
   ]
  },
  {
   "cell_type": "code",
   "execution_count": null,
   "metadata": {},
   "outputs": [],
   "source": [
    "def run_model(estimator, X_train, y_train, X_test, y_test, cv):\n",
    "\n",
    "  start = time.time()\n",
    "  pipe = Pipeline(\n",
    "      [ ('vect', CountVectorizer()),\n",
    "        ('tfidf', TfidfTransformer()),\n",
    "        ('clf', estimator)\n",
    "      ])\n",
    "  \n",
    "  pipe.fit(X_train, y_train)\n",
    "  end = time.time()\n",
    "\n",
    "  cv_acc = round(np.mean(cross_val_score(pipe, X_train, y_train, cv= cv, scoring='accuracy')),4)\n",
    "\n",
    "\n",
    "  y_pred = pipe.predict(X_test)\n",
    "\n",
    "  test_acc = round(accuracy_score(y_pred, y_test), 4)\n",
    "  \n",
    "  runtime = round((end-start), 4)\n",
    "\n",
    "  cv_dict = {'CV_Accuracy': cv_acc, 'Test_Accuracy': test_acc, 'Run Time': runtime}\n",
    "\n",
    "\n",
    "  return( pipe, cv_dict, y_pred)"
   ]
  },
  {
   "cell_type": "code",
   "execution_count": 94,
   "metadata": {},
   "outputs": [
    {
     "name": "stdout",
     "output_type": "stream",
     "text": [
      "0.7446\n",
      "0.77\n"
     ]
    }
   ],
   "source": [
    "# {'clf__class_weight': 'balanced', \n",
    "# 'clf__loss': 'log', \n",
    "# 'clf__max_iter': 1000, \n",
    "# 'tfidf__smooth_idf': False, \n",
    "# vect__lowercase': True, \n",
    "# 'vect__ngram_range': (1, 1), \n",
    "# 'vect__strip_accents': None}\n",
    "\n",
    "sgd = Pipeline(\n",
    "    [   ('vect', CountVectorizer(ngram_range=(1,1))),\n",
    "        ('tfidf', TfidfTransformer()),\n",
    "        ('clf', SGDClassifier(loss='log', class_weight = 'balanced', random_state=SEED))\n",
    "    ])\n",
    "\n",
    "\n",
    "sgd.fit(X_train, y_train)\n",
    "\n",
    "cv_acc = round(np.mean(cross_val_score(sgd, X_train, y_train, cv= 5, scoring='accuracy')),4)\n",
    "\n",
    "y_pred = sgd.predict(X_test)\n",
    "\n",
    "test_acc = round(accuracy_score(y_pred, y_test), 4)\n",
    "\n",
    "print(cv_acc)\n",
    "print(test_acc)\n",
    "\n"
   ]
  },
  {
   "cell_type": "code",
   "execution_count": 96,
   "metadata": {},
   "outputs": [
    {
     "data": {
      "image/png": "[encoded data removed]",
      "text/plain": [
       "<Figure size 576x432 with 2 Axes>"
      ]
     },
     "metadata": {
      "needs_background": "light"
     },
     "output_type": "display_data"
    }
   ],
   "source": [
    "cm = confusion_matrix(y_test, y_pred)\n",
    "fig, ax = plt.subplots(figsize=(8,6))\n",
    "\n",
    "sns.heatmap(cm/np.sum(cm), annot=True, fmt='.2%', cmap='Blues', xticklabels= model_labels, yticklabels= model_labels)\n",
    "ax.set_title('SGD');"
   ]
  },
  {
   "cell_type": "code",
   "execution_count": 109,
   "metadata": {},
   "outputs": [
    {
     "name": "stdout",
     "output_type": "stream",
     "text": [
      "0.7419\n",
      "0.7618\n"
     ]
    }
   ],
   "source": [
    "# {'clf__C': 1, \n",
    "# 'clf__class_weight': 'balanced', \n",
    "# 'clf__degree': 3, \n",
    "# 'clf__gamma': 'auto', \n",
    "# 'clf__kernel': 'linear', \n",
    "# 'tfidf__smooth_idf': True, \n",
    "# 'vect__lowercase': True, \n",
    "# 'vect__ngram_range': (1, 2), \n",
    "# 'vect__strip_accents': None}\n",
    "\n",
    "svc = Pipeline(\n",
    "    [   ('vect', CountVectorizer(ngram_range=(1,2))),\n",
    "        ('tfidf', TfidfTransformer()),\n",
    "        ('clf', SVC(C=1, class_weight = 'balanced', degree = 3, gamma = 'auto', kernel= 'linear',random_state=SEED))\n",
    "    ])\n",
    "\n",
    "\n",
    "svc.fit(X_train, y_train)\n",
    "\n",
    "cv_acc = round(np.mean(cross_val_score(svc, X_train, y_train, cv= 5, scoring='accuracy')),4)\n",
    "\n",
    "y_pred = svc.predict(X_test)\n",
    "\n",
    "test_acc = round(accuracy_score(y_pred, y_test), 4)\n",
    "\n",
    "print(cv_acc)\n",
    "print(test_acc)"
   ]
  },
  {
   "cell_type": "code",
   "execution_count": 110,
   "metadata": {},
   "outputs": [
    {
     "data": {
      "image/png": "[encoded data removed]",
      "text/plain": [
       "<Figure size 576x432 with 2 Axes>"
      ]
     },
     "metadata": {
      "needs_background": "light"
     },
     "output_type": "display_data"
    }
   ],
   "source": [
    "cm = confusion_matrix(y_test, y_pred)\n",
    "fig, ax = plt.subplots(figsize=(8,6))\n",
    "\n",
    "sns.heatmap(cm/np.sum(cm), annot=True, fmt='.2%', cmap='Blues', xticklabels= model_labels, yticklabels= model_labels)\n",
    "ax.set_title('SVC');"
   ]
  },
  {
   "cell_type": "code",
   "execution_count": 100,
   "metadata": {},
   "outputs": [
    {
     "name": "stdout",
     "output_type": "stream",
     "text": [
      "0.7486\n",
      "0.774\n"
     ]
    }
   ],
   "source": [
    "# {'clf__C': 5, \n",
    "# 'clf__class_weight': 'balanced', \n",
    "# 'clf__multi_class': 'auto', \n",
    "# 'clf__penalty': 'l2', \n",
    "# 'clf__solver': 'liblinear', \n",
    "# 'tfidf__smooth_idf': True, \n",
    "# 'vect__lowercase': True, \n",
    "# 'vect__ngram_range': (1, 1), \n",
    "# 'vect__strip_accents': None}\n",
    "\n",
    "lg = Pipeline(\n",
    "    [   ('vect', CountVectorizer(ngram_range=(1,1))),\n",
    "        ('tfidf', TfidfTransformer()),\n",
    "        ('clf', LogisticRegression(C=5, class_weight = 'balanced', multi_class= 'auto', penalty = 'l2', solver= 'liblinear', random_state=SEED))\n",
    "    ])\n",
    "\n",
    "\n",
    "lg.fit(X_train, y_train)\n",
    "\n",
    "cv_acc = round(np.mean(cross_val_score(lg, X_train, y_train, cv= 5, scoring='accuracy')),4)\n",
    "\n",
    "y_pred = lg.predict(X_test)\n",
    "\n",
    "test_acc = round(accuracy_score(y_pred, y_test), 4)\n",
    "\n",
    "print(cv_acc)\n",
    "print(test_acc)"
   ]
  },
  {
   "cell_type": "code",
   "execution_count": 101,
   "metadata": {},
   "outputs": [
    {
     "data": {
      "image/png": "[encoded data removed]",
      "text/plain": [
       "<Figure size 576x432 with 2 Axes>"
      ]
     },
     "metadata": {
      "needs_background": "light"
     },
     "output_type": "display_data"
    }
   ],
   "source": [
    "cm = confusion_matrix(y_test, y_pred)\n",
    "fig, ax = plt.subplots(figsize=(8,6))\n",
    "\n",
    "sns.heatmap(cm/np.sum(cm), annot=True, fmt='.2%', cmap='Blues', xticklabels= model_labels, yticklabels= model_labels)\n",
    "ax.set_title('LogReg');"
   ]
  },
  {
   "cell_type": "code",
   "execution_count": 108,
   "metadata": {},
   "outputs": [
    {
     "data": {
      "text/plain": [
       "0.774"
      ]
     },
     "execution_count": 108,
     "metadata": {},
     "output_type": "execute_result"
    }
   ],
   "source": [
    "test_rec = round(recall_score(y_pred, y_test, average='micro'), 4)\n",
    "test_rec"
   ]
  },
  {
   "cell_type": "code",
   "execution_count": 105,
   "metadata": {},
   "outputs": [
    {
     "data": {
      "text/plain": [
       "0.774"
      ]
     },
     "execution_count": 105,
     "metadata": {},
     "output_type": "execute_result"
    }
   ],
   "source": [
    "test_rec = round(precision_score(y_pred, y_test, average='micro'), 4)\n",
    "test_rec"
   ]
  },
  {
   "cell_type": "code",
   "execution_count": 106,
   "metadata": {},
   "outputs": [
    {
     "data": {
      "text/plain": [
       "0.774"
      ]
     },
     "execution_count": 106,
     "metadata": {},
     "output_type": "execute_result"
    }
   ],
   "source": [
    "test_rec = round(accuracy_score(y_pred, y_test), 4)\n",
    "test_rec"
   ]
  },
  {
   "cell_type": "code",
   "execution_count": null,
   "metadata": {},
   "outputs": [],
   "source": []
  }
 ],
 "metadata": {
  "interpreter": {
   "hash": "84ac4771d5764d64b27213ab6683f1ab5061e80733e0bd642ee92a0b0c9907f0"
  },
  "kernelspec": {
   "display_name": "Python 3.8.12 ('learn-env')",
   "language": "python",
   "name": "python3"
  },
  "language_info": {
   "codemirror_mode": {
    "name": "ipython",
    "version": 3
   },
   "file_extension": ".py",
   "mimetype": "text/x-python",
   "name": "python",
   "nbconvert_exporter": "python",
   "pygments_lexer": "ipython3",
   "version": "3.8.12"
  },
  "orig_nbformat": 4
 },
 "nbformat": 4,
 "nbformat_minor": 2
}
