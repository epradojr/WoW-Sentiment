{
 "cells": [
  {
   "cell_type": "markdown",
   "metadata": {},
   "source": [
    "# Data Molding"
   ]
  },
  {
   "cell_type": "markdown",
   "metadata": {},
   "source": []
  },
  {
   "cell_type": "markdown",
   "metadata": {},
   "source": [
    "Shape the data to fit each step of the modeling process.\n",
    "1. Classification Model\n",
    "    - Type of Data: Prepared CSV file created from manual classification of WoWChatLog.txt.\n",
    "2. Sentiment Model\n",
    "    - Type of Data: Classified CSV file with only 'Game' catagorized text.\n",
    "3. Topic Model\n",
    "    - Type of Data: Only negative sentiment text pertaining to the game/patch.\n",
    "\n",
    "Save three dataframes for modeling"
   ]
  },
  {
   "cell_type": "markdown",
   "metadata": {},
   "source": [
    "## Imports"
   ]
  },
  {
   "cell_type": "code",
   "execution_count": 1,
   "metadata": {},
   "outputs": [],
   "source": [
    "# imports\n",
    "import pandas as pd\n",
    "import numpy as np\n",
    "from nltk.tokenize import RegexpTokenizer\n",
    "from nltk.corpus import stopwords\n",
    "\n",
    "\n",
    "# instancing TradeChat class from functions.py\n",
    "from functions import TradeChat\n",
    "tc = TradeChat()"
   ]
  },
  {
   "cell_type": "code",
   "execution_count": 2,
   "metadata": {},
   "outputs": [],
   "source": [
    "# load up the CSV file of WoWChatLog.txt\n",
    "original_df = pd.read_csv(\"data\\\\trade_chat_v3.csv\", index_col='index')"
   ]
  },
  {
   "cell_type": "code",
   "execution_count": 22,
   "metadata": {},
   "outputs": [
    {
     "data": {
      "text/plain": [
       "Other       3883\n",
       "Negative     566\n",
       "Name: sentiment, dtype: int64"
      ]
     },
     "execution_count": 22,
     "metadata": {},
     "output_type": "execute_result"
    }
   ],
   "source": [
    "original_df.sentiment.value_counts()"
   ]
  },
  {
   "cell_type": "code",
   "execution_count": 23,
   "metadata": {},
   "outputs": [
    {
     "data": {
      "text/plain": [
       "Chat     992\n",
       "Boost    750\n",
       "Patch    713\n",
       "LFM      688\n",
       "Game     640\n",
       "Trade    484\n",
       "LFG      150\n",
       "Bug       32\n",
       "Name: target, dtype: int64"
      ]
     },
     "execution_count": 23,
     "metadata": {},
     "output_type": "execute_result"
    }
   ],
   "source": [
    "original_df.target.value_counts()"
   ]
  },
  {
   "cell_type": "markdown",
   "metadata": {},
   "source": [
    "## 1. Classification Model (cm)"
   ]
  },
  {
   "cell_type": "markdown",
   "metadata": {},
   "source": [
    "The classification model will seperate the text into three catagories:\n",
    "1. Game - The text pertains to the game, World of Warcraft. Contains Patch, Game, and Bug\n",
    "2. Chat - The common chatter between players that is everything other than game related.\n",
    "3. Service - This pertains to players looking for guilds, guild recruitment, boosting, and players selling/buying items."
   ]
  },
  {
   "cell_type": "code",
   "execution_count": 24,
   "metadata": {},
   "outputs": [],
   "source": [
    "# Creating a copy of the orginal dataframe\n",
    "cm_df = original_df.copy()"
   ]
  },
  {
   "cell_type": "code",
   "execution_count": 25,
   "metadata": {},
   "outputs": [],
   "source": [
    "# grouping the 9 labels into 3 general labels\n",
    "cm_df.target.replace(['Patch', 'Bug', 'Game'], 'Game', inplace=True)\n",
    "cm_df.target.replace(['Boost', 'LFM', 'LFG', 'Trade'], 'Service', inplace=True)"
   ]
  },
  {
   "cell_type": "code",
   "execution_count": 26,
   "metadata": {},
   "outputs": [
    {
     "data": {
      "text/plain": [
       "Service    2072\n",
       "Game       1385\n",
       "Chat        992\n",
       "Name: target, dtype: int64"
      ]
     },
     "execution_count": 26,
     "metadata": {},
     "output_type": "execute_result"
    }
   ],
   "source": [
    "cm_df.target.value_counts()"
   ]
  },
  {
   "cell_type": "code",
   "execution_count": 9,
   "metadata": {},
   "outputs": [],
   "source": [
    "# Seperating the Service class to drop duplicates since the text \n",
    "# here is mainly repetitive and will cause major overfitting down the line\n",
    "service_target = cm_df[cm_df.target == 'Service'].copy()\n",
    "rest_target = cm_df[cm_df.target != 'Service'].copy()\n",
    "\n",
    "service_target.drop_duplicates('text', inplace=True)\n",
    "\n",
    "# combining the dataframes back together\n",
    "cm_df = pd.merge(rest_target, service_target, how=\"outer\")"
   ]
  },
  {
   "cell_type": "markdown",
   "metadata": {},
   "source": [
    "Now we tokenize the data. This will lower case the text as well as remove any nonstandard characters."
   ]
  },
  {
   "cell_type": "code",
   "execution_count": 12,
   "metadata": {},
   "outputs": [],
   "source": [
    "# loading in stopwords and adding data related stop words.\n",
    "sw = stopwords.words('english')\n",
    "sw.extend(['u','ur','im','dont','thats'])\n",
    "\n",
    "# Instantiating my tokenizor\n",
    "tokenizer = RegexpTokenizer(r\"(?u)\\b([a-z]+|9.2)\\w*\\b\")"
   ]
  },
  {
   "cell_type": "code",
   "execution_count": 13,
   "metadata": {},
   "outputs": [],
   "source": [
    "# Calling my TradeChat class to create new columns for tokenization and joined tokens\n",
    "cm_df_token = tc.nlp_tokenizer(cm_df, tokenizer, sw, stem='lemmatizer ')"
   ]
  },
  {
   "cell_type": "code",
   "execution_count": 14,
   "metadata": {},
   "outputs": [
    {
     "data": {
      "text/plain": [
       "Game       1385\n",
       "Chat        992\n",
       "Service     578\n",
       "Name: target, dtype: int64"
      ]
     },
     "execution_count": 14,
     "metadata": {},
     "output_type": "execute_result"
    }
   ],
   "source": [
    "cm_df_token.target.value_counts()"
   ]
  },
  {
   "cell_type": "markdown",
   "metadata": {},
   "source": [
    "## 2. Sentiment Model (sm)"
   ]
  },
  {
   "cell_type": "markdown",
   "metadata": {},
   "source": [
    "The sentiment model will evaluate negative and non-negative sentiment from text pertaining to the game, World of Warcraft."
   ]
  },
  {
   "cell_type": "code",
   "execution_count": 15,
   "metadata": {},
   "outputs": [],
   "source": [
    "# Selecting only Game labeled data points\n",
    "sm_df_token = cm_df_token[cm_df_token.target == 'Game']"
   ]
  },
  {
   "cell_type": "code",
   "execution_count": 16,
   "metadata": {},
   "outputs": [
    {
     "data": {
      "text/plain": [
       "Other       968\n",
       "Negative    417\n",
       "Name: sentiment, dtype: int64"
      ]
     },
     "execution_count": 16,
     "metadata": {},
     "output_type": "execute_result"
    }
   ],
   "source": [
    "sm_df_token.sentiment.value_counts()"
   ]
  },
  {
   "cell_type": "markdown",
   "metadata": {},
   "source": [
    "## 3. Topic Model (tm)"
   ]
  },
  {
   "cell_type": "markdown",
   "metadata": {},
   "source": [
    "The topic model will only be fed negative sentiment text to find what game features should be looked at to retain players"
   ]
  },
  {
   "cell_type": "code",
   "execution_count": 19,
   "metadata": {},
   "outputs": [],
   "source": [
    "# Selecting only negative sentiment text to produce topics to focus on for improvement\n",
    "tm_df_token = sm_df_token[sm_df_token.sentiment == \"Negative\"]"
   ]
  },
  {
   "cell_type": "code",
   "execution_count": 21,
   "metadata": {},
   "outputs": [
    {
     "data": {
      "text/plain": [
       "Negative    417\n",
       "Name: sentiment, dtype: int64"
      ]
     },
     "execution_count": 21,
     "metadata": {},
     "output_type": "execute_result"
    }
   ],
   "source": [
    "tm_df_token.sentiment.value_counts()"
   ]
  },
  {
   "cell_type": "markdown",
   "metadata": {},
   "source": [
    "## Storage"
   ]
  },
  {
   "cell_type": "markdown",
   "metadata": {},
   "source": [
    "Store all dataframe to be used in mdoeling."
   ]
  },
  {
   "cell_type": "code",
   "execution_count": null,
   "metadata": {},
   "outputs": [],
   "source": [
    "%store cm_df_token\n",
    "%store sm_df_token\n",
    "%store tm_df_token"
   ]
  }
 ],
 "metadata": {
  "interpreter": {
   "hash": "84ac4771d5764d64b27213ab6683f1ab5061e80733e0bd642ee92a0b0c9907f0"
  },
  "kernelspec": {
   "display_name": "Python 3.8.12 ('learn-env')",
   "language": "python",
   "name": "python3"
  },
  "language_info": {
   "codemirror_mode": {
    "name": "ipython",
    "version": 3
   },
   "file_extension": ".py",
   "mimetype": "text/x-python",
   "name": "python",
   "nbconvert_exporter": "python",
   "pygments_lexer": "ipython3",
   "version": "3.8.12"
  },
  "orig_nbformat": 4
 },
 "nbformat": 4,
 "nbformat_minor": 2
}
