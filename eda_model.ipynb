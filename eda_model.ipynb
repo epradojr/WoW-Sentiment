{
 "cells": [
  {
   "cell_type": "markdown",
   "metadata": {},
   "source": [
    "## Imports"
   ]
  },
  {
   "cell_type": "code",
   "execution_count": 1,
   "metadata": {},
   "outputs": [],
   "source": [
    "import pandas as pd\n",
    "import seaborn as sns\n",
    "import matplotlib.pyplot as plt\n",
    "from function import Eddies_Tools\n",
    "import numpy as np\n",
    "\n",
    "from nltk import FreqDist\n",
    "from nltk.tokenize import RegexpTokenizer\n",
    "from nltk.corpus import stopwords\n",
    "\n",
    "from sklearn.feature_extraction.text import TfidfVectorizer, CountVectorizer\n",
    "from sklearn.pipeline import Pipeline\n",
    "from sklearn.feature_extraction.text import TfidfTransformer\n",
    "from sklearn.model_selection import train_test_split, cross_val_score\n",
    "from sklearn.metrics import accuracy_score, confusion_matrix\n",
    "from sklearn.linear_model import SGDClassifier, LogisticRegression\n",
    "from sklearn.ensemble import RandomForestClassifier\n",
    "from sklearn.naive_bayes import MultinomialNB\n",
    "\n",
    "\n",
    "\n"
   ]
  },
  {
   "cell_type": "markdown",
   "metadata": {},
   "source": [
    "## EDA/Cleaning"
   ]
  },
  {
   "cell_type": "code",
   "execution_count": 2,
   "metadata": {},
   "outputs": [],
   "source": [
    "trade_chat = pd.read_csv('data\\\\trade_chat.csv', index_col=0)"
   ]
  },
  {
   "cell_type": "code",
   "execution_count": 3,
   "metadata": {},
   "outputs": [
    {
     "data": {
      "text/html": [
       "<div>\n",
       "<style scoped>\n",
       "    .dataframe tbody tr th:only-of-type {\n",
       "        vertical-align: middle;\n",
       "    }\n",
       "\n",
       "    .dataframe tbody tr th {\n",
       "        vertical-align: top;\n",
       "    }\n",
       "\n",
       "    .dataframe thead th {\n",
       "        text-align: right;\n",
       "    }\n",
       "</style>\n",
       "<table border=\"1\" class=\"dataframe\">\n",
       "  <thead>\n",
       "    <tr style=\"text-align: right;\">\n",
       "      <th></th>\n",
       "      <th>date</th>\n",
       "      <th>time</th>\n",
       "      <th>text</th>\n",
       "      <th>sentiment</th>\n",
       "      <th>target</th>\n",
       "    </tr>\n",
       "  </thead>\n",
       "  <tbody>\n",
       "    <tr>\n",
       "      <th>0</th>\n",
       "      <td>2/22/2022</td>\n",
       "      <td>8:14:35</td>\n",
       "      <td>how long will downtime be</td>\n",
       "      <td>2</td>\n",
       "      <td>Patch</td>\n",
       "    </tr>\n",
       "    <tr>\n",
       "      <th>1</th>\n",
       "      <td>2/22/2022</td>\n",
       "      <td>8:14:40</td>\n",
       "      <td>8 hours</td>\n",
       "      <td>2</td>\n",
       "      <td>Patch</td>\n",
       "    </tr>\n",
       "    <tr>\n",
       "      <th>2</th>\n",
       "      <td>2/22/2022</td>\n",
       "      <td>8:14:42</td>\n",
       "      <td>few hours</td>\n",
       "      <td>2</td>\n",
       "      <td>Patch</td>\n",
       "    </tr>\n",
       "    <tr>\n",
       "      <th>3</th>\n",
       "      <td>2/22/2022</td>\n",
       "      <td>8:14:42</td>\n",
       "      <td>8 hours?</td>\n",
       "      <td>2</td>\n",
       "      <td>Patch</td>\n",
       "    </tr>\n",
       "    <tr>\n",
       "      <th>4</th>\n",
       "      <td>2/22/2022</td>\n",
       "      <td>8:14:42</td>\n",
       "      <td>7hrs</td>\n",
       "      <td>2</td>\n",
       "      <td>Patch</td>\n",
       "    </tr>\n",
       "    <tr>\n",
       "      <th>...</th>\n",
       "      <td>...</td>\n",
       "      <td>...</td>\n",
       "      <td>...</td>\n",
       "      <td>...</td>\n",
       "      <td>...</td>\n",
       "    </tr>\n",
       "    <tr>\n",
       "      <th>1856</th>\n",
       "      <td>2/23/2022</td>\n",
       "      <td>1:15:55</td>\n",
       "      <td>ok cool</td>\n",
       "      <td>3</td>\n",
       "      <td>Patch</td>\n",
       "    </tr>\n",
       "    <tr>\n",
       "      <th>1857</th>\n",
       "      <td>2/23/2022</td>\n",
       "      <td>1:16:56</td>\n",
       "      <td>CHANGE NUDES FOR MONTH SUB PLS</td>\n",
       "      <td>2</td>\n",
       "      <td>Chat</td>\n",
       "    </tr>\n",
       "    <tr>\n",
       "      <th>1858</th>\n",
       "      <td>2/23/2022</td>\n",
       "      <td>1:17:10</td>\n",
       "      <td>help a gal out</td>\n",
       "      <td>2</td>\n",
       "      <td>Chat</td>\n",
       "    </tr>\n",
       "    <tr>\n",
       "      <th>1859</th>\n",
       "      <td>2/23/2022</td>\n",
       "      <td>1:17:19</td>\n",
       "      <td>perhaps</td>\n",
       "      <td>2</td>\n",
       "      <td>Chat</td>\n",
       "    </tr>\n",
       "    <tr>\n",
       "      <th>1860</th>\n",
       "      <td>2/23/2022</td>\n",
       "      <td>1:17:28</td>\n",
       "      <td>So how do i get to Vash'jir? the portal uptop...</td>\n",
       "      <td>2</td>\n",
       "      <td>Chat</td>\n",
       "    </tr>\n",
       "  </tbody>\n",
       "</table>\n",
       "<p>1861 rows × 5 columns</p>\n",
       "</div>"
      ],
      "text/plain": [
       "           date     time                                               text  \\\n",
       "0     2/22/2022  8:14:35                          how long will downtime be   \n",
       "1     2/22/2022  8:14:40                                            8 hours   \n",
       "2     2/22/2022  8:14:42                                         few hours    \n",
       "3     2/22/2022  8:14:42                                           8 hours?   \n",
       "4     2/22/2022  8:14:42                                               7hrs   \n",
       "...         ...      ...                                                ...   \n",
       "1856  2/23/2022  1:15:55                                            ok cool   \n",
       "1857  2/23/2022  1:16:56                     CHANGE NUDES FOR MONTH SUB PLS   \n",
       "1858  2/23/2022  1:17:10                                     help a gal out   \n",
       "1859  2/23/2022  1:17:19                                            perhaps   \n",
       "1860  2/23/2022  1:17:28   So how do i get to Vash'jir? the portal uptop...   \n",
       "\n",
       "      sentiment target  \n",
       "0             2  Patch  \n",
       "1             2  Patch  \n",
       "2             2  Patch  \n",
       "3             2  Patch  \n",
       "4             2  Patch  \n",
       "...         ...    ...  \n",
       "1856          3  Patch  \n",
       "1857          2   Chat  \n",
       "1858          2   Chat  \n",
       "1859          2   Chat  \n",
       "1860          2   Chat  \n",
       "\n",
       "[1861 rows x 5 columns]"
      ]
     },
     "execution_count": 3,
     "metadata": {},
     "output_type": "execute_result"
    }
   ],
   "source": [
    "trade_chat"
   ]
  },
  {
   "cell_type": "code",
   "execution_count": 4,
   "metadata": {},
   "outputs": [
    {
     "data": {
      "text/plain": [
       "False    1387\n",
       "True      474\n",
       "Name: text, dtype: int64"
      ]
     },
     "execution_count": 4,
     "metadata": {},
     "output_type": "execute_result"
    }
   ],
   "source": [
    "trade_chat['text'].duplicated().value_counts()"
   ]
  },
  {
   "cell_type": "code",
   "execution_count": 5,
   "metadata": {},
   "outputs": [],
   "source": [
    "trade_chat.drop_duplicates(subset= 'text', inplace=True)\n",
    "trade_chat.reset_index(drop=True, inplace=True)"
   ]
  },
  {
   "cell_type": "code",
   "execution_count": 6,
   "metadata": {},
   "outputs": [
    {
     "data": {
      "text/plain": [
       "False    1387\n",
       "Name: text, dtype: int64"
      ]
     },
     "execution_count": 6,
     "metadata": {},
     "output_type": "execute_result"
    }
   ],
   "source": [
    "trade_chat['text'].duplicated().value_counts()"
   ]
  },
  {
   "cell_type": "code",
   "execution_count": 7,
   "metadata": {},
   "outputs": [
    {
     "name": "stdout",
     "output_type": "stream",
     "text": [
      "<class 'pandas.core.frame.DataFrame'>\n",
      "RangeIndex: 1387 entries, 0 to 1386\n",
      "Data columns (total 5 columns):\n",
      " #   Column     Non-Null Count  Dtype \n",
      "---  ------     --------------  ----- \n",
      " 0   date       1387 non-null   object\n",
      " 1   time       1387 non-null   object\n",
      " 2   text       1387 non-null   object\n",
      " 3   sentiment  1387 non-null   int64 \n",
      " 4   target     1387 non-null   object\n",
      "dtypes: int64(1), object(4)\n",
      "memory usage: 54.3+ KB\n"
     ]
    }
   ],
   "source": [
    "trade_chat.info()"
   ]
  },
  {
   "cell_type": "code",
   "execution_count": 8,
   "metadata": {},
   "outputs": [
    {
     "data": {
      "text/plain": [
       "2    891\n",
       "1    438\n",
       "3     58\n",
       "Name: sentiment, dtype: int64"
      ]
     },
     "execution_count": 8,
     "metadata": {},
     "output_type": "execute_result"
    }
   ],
   "source": [
    "trade_chat.sentiment.value_counts()"
   ]
  },
  {
   "cell_type": "code",
   "execution_count": 9,
   "metadata": {},
   "outputs": [
    {
     "data": {
      "text/plain": [
       "Chat        677\n",
       "Patch       482\n",
       "Trade        78\n",
       "LFM          65\n",
       "Boosting     40\n",
       "Bug          26\n",
       "LFG          18\n",
       "bug           1\n",
       "Name: target, dtype: int64"
      ]
     },
     "execution_count": 9,
     "metadata": {},
     "output_type": "execute_result"
    }
   ],
   "source": [
    "trade_chat.target.value_counts()"
   ]
  },
  {
   "cell_type": "code",
   "execution_count": 10,
   "metadata": {},
   "outputs": [
    {
     "data": {
      "image/png": "[encoded data removed]",
      "text/plain": [
       "<Figure size 432x288 with 1 Axes>"
      ]
     },
     "metadata": {
      "needs_background": "light"
     },
     "output_type": "display_data"
    }
   ],
   "source": [
    "ax=  sns.countplot(x='target', data= trade_chat)"
   ]
  },
  {
   "cell_type": "code",
   "execution_count": 11,
   "metadata": {},
   "outputs": [
    {
     "data": {
      "text/html": [
       "<div>\n",
       "<style scoped>\n",
       "    .dataframe tbody tr th:only-of-type {\n",
       "        vertical-align: middle;\n",
       "    }\n",
       "\n",
       "    .dataframe tbody tr th {\n",
       "        vertical-align: top;\n",
       "    }\n",
       "\n",
       "    .dataframe thead th {\n",
       "        text-align: right;\n",
       "    }\n",
       "</style>\n",
       "<table border=\"1\" class=\"dataframe\">\n",
       "  <thead>\n",
       "    <tr style=\"text-align: right;\">\n",
       "      <th></th>\n",
       "      <th>date</th>\n",
       "      <th>time</th>\n",
       "      <th>text</th>\n",
       "      <th>sentiment</th>\n",
       "      <th>target</th>\n",
       "    </tr>\n",
       "  </thead>\n",
       "  <tbody>\n",
       "    <tr>\n",
       "      <th>684</th>\n",
       "      <td>2/22/2022</td>\n",
       "      <td>20:42:05</td>\n",
       "      <td>Arbitor is on break</td>\n",
       "      <td>1</td>\n",
       "      <td>bug</td>\n",
       "    </tr>\n",
       "  </tbody>\n",
       "</table>\n",
       "</div>"
      ],
      "text/plain": [
       "          date      time                  text  sentiment target\n",
       "684  2/22/2022  20:42:05   Arbitor is on break          1    bug"
      ]
     },
     "execution_count": 11,
     "metadata": {},
     "output_type": "execute_result"
    }
   ],
   "source": [
    "trade_chat[trade_chat.target == 'bug']"
   ]
  },
  {
   "cell_type": "code",
   "execution_count": 12,
   "metadata": {},
   "outputs": [
    {
     "name": "stderr",
     "output_type": "stream",
     "text": [
      "C:\\Users\\edelp\\AppData\\Local\\Temp/ipykernel_34148/82308061.py:1: SettingWithCopyWarning: \n",
      "A value is trying to be set on a copy of a slice from a DataFrame\n",
      "\n",
      "See the caveats in the documentation: https://pandas.pydata.org/pandas-docs/stable/user_guide/indexing.html#returning-a-view-versus-a-copy\n",
      "  trade_chat.target[684] = 'Bug'\n"
     ]
    }
   ],
   "source": [
    "trade_chat.target[684] = 'Bug'"
   ]
  },
  {
   "cell_type": "code",
   "execution_count": 13,
   "metadata": {},
   "outputs": [
    {
     "data": {
      "image/png": "[encoded data removed]",
      "text/plain": [
       "<Figure size 432x288 with 1 Axes>"
      ]
     },
     "metadata": {
      "needs_background": "light"
     },
     "output_type": "display_data"
    }
   ],
   "source": [
    "total_target =  sns.countplot(x='target', data= trade_chat)"
   ]
  },
  {
   "cell_type": "code",
   "execution_count": 14,
   "metadata": {},
   "outputs": [],
   "source": [
    "patch = trade_chat[trade_chat.target == 'Patch']\n",
    "chat = trade_chat[trade_chat.target == 'Chat']"
   ]
  },
  {
   "cell_type": "code",
   "execution_count": 15,
   "metadata": {},
   "outputs": [
    {
     "data": {
      "image/png": "[encoded data removed]",
      "text/plain": [
       "<Figure size 432x288 with 1 Axes>"
      ]
     },
     "metadata": {
      "needs_background": "light"
     },
     "output_type": "display_data"
    }
   ],
   "source": [
    "patch_sentiment =  sns.countplot(x='sentiment', data= patch)"
   ]
  },
  {
   "cell_type": "code",
   "execution_count": 16,
   "metadata": {},
   "outputs": [
    {
     "data": {
      "image/png": "[encoded data removed]",
      "text/plain": [
       "<Figure size 432x288 with 1 Axes>"
      ]
     },
     "metadata": {
      "needs_background": "light"
     },
     "output_type": "display_data"
    }
   ],
   "source": [
    "chat_sentiment =  sns.countplot(x='sentiment', data= chat)"
   ]
  },
  {
   "cell_type": "code",
   "execution_count": 17,
   "metadata": {},
   "outputs": [
    {
     "data": {
      "text/plain": [
       "2    229\n",
       "1    222\n",
       "3     31\n",
       "Name: sentiment, dtype: int64"
      ]
     },
     "execution_count": 17,
     "metadata": {},
     "output_type": "execute_result"
    }
   ],
   "source": [
    "patch.sentiment.value_counts()"
   ]
  },
  {
   "cell_type": "code",
   "execution_count": 18,
   "metadata": {},
   "outputs": [
    {
     "data": {
      "text/plain": [
       "2    461\n",
       "1    190\n",
       "3     26\n",
       "Name: sentiment, dtype: int64"
      ]
     },
     "execution_count": 18,
     "metadata": {},
     "output_type": "execute_result"
    }
   ],
   "source": [
    "chat.sentiment.value_counts()"
   ]
  },
  {
   "cell_type": "markdown",
   "metadata": {},
   "source": [
    "## NLP"
   ]
  },
  {
   "cell_type": "code",
   "execution_count": 19,
   "metadata": {},
   "outputs": [],
   "source": [
    "et = Eddies_Tools()"
   ]
  },
  {
   "cell_type": "code",
   "execution_count": 20,
   "metadata": {},
   "outputs": [],
   "source": [
    "s_words = stopwords.words('english')\n",
    "tokenizer = RegexpTokenizer(r\"(?u)\\b\\w\\w+\\b\")\n",
    "et = Eddies_Tools()"
   ]
  },
  {
   "cell_type": "code",
   "execution_count": 21,
   "metadata": {},
   "outputs": [],
   "source": [
    "tc_tokenized = et.nlp_tokenizer(trade_chat, tokenizer, s_words)"
   ]
  },
  {
   "cell_type": "code",
   "execution_count": 22,
   "metadata": {},
   "outputs": [
    {
     "data": {
      "text/html": [
       "<div>\n",
       "<style scoped>\n",
       "    .dataframe tbody tr th:only-of-type {\n",
       "        vertical-align: middle;\n",
       "    }\n",
       "\n",
       "    .dataframe tbody tr th {\n",
       "        vertical-align: top;\n",
       "    }\n",
       "\n",
       "    .dataframe thead th {\n",
       "        text-align: right;\n",
       "    }\n",
       "</style>\n",
       "<table border=\"1\" class=\"dataframe\">\n",
       "  <thead>\n",
       "    <tr style=\"text-align: right;\">\n",
       "      <th></th>\n",
       "      <th>date</th>\n",
       "      <th>time</th>\n",
       "      <th>text</th>\n",
       "      <th>sentiment</th>\n",
       "      <th>target</th>\n",
       "      <th>text_tokenized</th>\n",
       "      <th>joined_tokens</th>\n",
       "    </tr>\n",
       "  </thead>\n",
       "  <tbody>\n",
       "    <tr>\n",
       "      <th>0</th>\n",
       "      <td>2/22/2022</td>\n",
       "      <td>8:14:35</td>\n",
       "      <td>how long will downtime be</td>\n",
       "      <td>2</td>\n",
       "      <td>Patch</td>\n",
       "      <td>[long, downtime]</td>\n",
       "      <td>long downtime</td>\n",
       "    </tr>\n",
       "    <tr>\n",
       "      <th>1</th>\n",
       "      <td>2/22/2022</td>\n",
       "      <td>8:14:40</td>\n",
       "      <td>8 hours</td>\n",
       "      <td>2</td>\n",
       "      <td>Patch</td>\n",
       "      <td>[hours]</td>\n",
       "      <td>hours</td>\n",
       "    </tr>\n",
       "    <tr>\n",
       "      <th>2</th>\n",
       "      <td>2/22/2022</td>\n",
       "      <td>8:14:42</td>\n",
       "      <td>few hours</td>\n",
       "      <td>2</td>\n",
       "      <td>Patch</td>\n",
       "      <td>[hours]</td>\n",
       "      <td>hours</td>\n",
       "    </tr>\n",
       "    <tr>\n",
       "      <th>3</th>\n",
       "      <td>2/22/2022</td>\n",
       "      <td>8:14:42</td>\n",
       "      <td>8 hours?</td>\n",
       "      <td>2</td>\n",
       "      <td>Patch</td>\n",
       "      <td>[hours]</td>\n",
       "      <td>hours</td>\n",
       "    </tr>\n",
       "    <tr>\n",
       "      <th>4</th>\n",
       "      <td>2/22/2022</td>\n",
       "      <td>8:14:42</td>\n",
       "      <td>7hrs</td>\n",
       "      <td>2</td>\n",
       "      <td>Patch</td>\n",
       "      <td>[7hrs]</td>\n",
       "      <td>7hrs</td>\n",
       "    </tr>\n",
       "    <tr>\n",
       "      <th>...</th>\n",
       "      <td>...</td>\n",
       "      <td>...</td>\n",
       "      <td>...</td>\n",
       "      <td>...</td>\n",
       "      <td>...</td>\n",
       "      <td>...</td>\n",
       "      <td>...</td>\n",
       "    </tr>\n",
       "    <tr>\n",
       "      <th>1382</th>\n",
       "      <td>2/23/2022</td>\n",
       "      <td>1:15:55</td>\n",
       "      <td>ok cool</td>\n",
       "      <td>3</td>\n",
       "      <td>Patch</td>\n",
       "      <td>[ok, cool]</td>\n",
       "      <td>ok cool</td>\n",
       "    </tr>\n",
       "    <tr>\n",
       "      <th>1383</th>\n",
       "      <td>2/23/2022</td>\n",
       "      <td>1:16:56</td>\n",
       "      <td>CHANGE NUDES FOR MONTH SUB PLS</td>\n",
       "      <td>2</td>\n",
       "      <td>Chat</td>\n",
       "      <td>[CHANGE, NUDES, FOR, MONTH, SUB, PLS]</td>\n",
       "      <td>CHANGE NUDES FOR MONTH SUB PLS</td>\n",
       "    </tr>\n",
       "    <tr>\n",
       "      <th>1384</th>\n",
       "      <td>2/23/2022</td>\n",
       "      <td>1:17:10</td>\n",
       "      <td>help a gal out</td>\n",
       "      <td>2</td>\n",
       "      <td>Chat</td>\n",
       "      <td>[help, gal]</td>\n",
       "      <td>help gal</td>\n",
       "    </tr>\n",
       "    <tr>\n",
       "      <th>1385</th>\n",
       "      <td>2/23/2022</td>\n",
       "      <td>1:17:19</td>\n",
       "      <td>perhaps</td>\n",
       "      <td>2</td>\n",
       "      <td>Chat</td>\n",
       "      <td>[perhaps]</td>\n",
       "      <td>perhaps</td>\n",
       "    </tr>\n",
       "    <tr>\n",
       "      <th>1386</th>\n",
       "      <td>2/23/2022</td>\n",
       "      <td>1:17:28</td>\n",
       "      <td>So how do i get to Vash'jir? the portal uptop...</td>\n",
       "      <td>2</td>\n",
       "      <td>Chat</td>\n",
       "      <td>[So, get, Vash, jir, portal, uptop, cant, click]</td>\n",
       "      <td>So get Vash jir portal uptop cant click</td>\n",
       "    </tr>\n",
       "  </tbody>\n",
       "</table>\n",
       "<p>1387 rows × 7 columns</p>\n",
       "</div>"
      ],
      "text/plain": [
       "           date     time                                               text  \\\n",
       "0     2/22/2022  8:14:35                          how long will downtime be   \n",
       "1     2/22/2022  8:14:40                                            8 hours   \n",
       "2     2/22/2022  8:14:42                                         few hours    \n",
       "3     2/22/2022  8:14:42                                           8 hours?   \n",
       "4     2/22/2022  8:14:42                                               7hrs   \n",
       "...         ...      ...                                                ...   \n",
       "1382  2/23/2022  1:15:55                                            ok cool   \n",
       "1383  2/23/2022  1:16:56                     CHANGE NUDES FOR MONTH SUB PLS   \n",
       "1384  2/23/2022  1:17:10                                     help a gal out   \n",
       "1385  2/23/2022  1:17:19                                            perhaps   \n",
       "1386  2/23/2022  1:17:28   So how do i get to Vash'jir? the portal uptop...   \n",
       "\n",
       "      sentiment target                                    text_tokenized  \\\n",
       "0             2  Patch                                  [long, downtime]   \n",
       "1             2  Patch                                           [hours]   \n",
       "2             2  Patch                                           [hours]   \n",
       "3             2  Patch                                           [hours]   \n",
       "4             2  Patch                                            [7hrs]   \n",
       "...         ...    ...                                               ...   \n",
       "1382          3  Patch                                        [ok, cool]   \n",
       "1383          2   Chat             [CHANGE, NUDES, FOR, MONTH, SUB, PLS]   \n",
       "1384          2   Chat                                       [help, gal]   \n",
       "1385          2   Chat                                         [perhaps]   \n",
       "1386          2   Chat  [So, get, Vash, jir, portal, uptop, cant, click]   \n",
       "\n",
       "                                joined_tokens  \n",
       "0                               long downtime  \n",
       "1                                       hours  \n",
       "2                                       hours  \n",
       "3                                       hours  \n",
       "4                                        7hrs  \n",
       "...                                       ...  \n",
       "1382                                  ok cool  \n",
       "1383           CHANGE NUDES FOR MONTH SUB PLS  \n",
       "1384                                 help gal  \n",
       "1385                                  perhaps  \n",
       "1386  So get Vash jir portal uptop cant click  \n",
       "\n",
       "[1387 rows x 7 columns]"
      ]
     },
     "execution_count": 22,
     "metadata": {},
     "output_type": "execute_result"
    }
   ],
   "source": [
    "tc_tokenized"
   ]
  },
  {
   "cell_type": "code",
   "execution_count": 23,
   "metadata": {},
   "outputs": [],
   "source": [
    "chat_tokenized = tc_tokenized[tc_tokenized.target == 'Chat']\n",
    "patch_tokenized = tc_tokenized[tc_tokenized.target == 'Patch']"
   ]
  },
  {
   "cell_type": "code",
   "execution_count": 24,
   "metadata": {},
   "outputs": [
    {
     "data": {
      "image/png": "[encoded data removed]",
      "text/plain": [
       "<Figure size 1440x720 with 1 Axes>"
      ]
     },
     "metadata": {
      "needs_background": "light"
     },
     "output_type": "display_data"
    }
   ],
   "source": [
    "fdist = FreqDist(tc_tokenized.text_tokenized.explode())\n",
    "\n",
    "top_30_words = list(zip(*fdist.most_common(30)))\n",
    "\n",
    "tokens = np.array(top_30_words[0])\n",
    "count = np.array(top_30_words[1])\n",
    "\n",
    "fig, ax = plt.subplots(figsize=(20,10))\n",
    "\n",
    "top_30_chart = sns.barplot(x= count, y= tokens)\n"
   ]
  },
  {
   "cell_type": "code",
   "execution_count": 25,
   "metadata": {},
   "outputs": [
    {
     "data": {
      "image/png": "[encoded data removed]",
      "text/plain": [
       "<Figure size 1440x720 with 1 Axes>"
      ]
     },
     "metadata": {
      "needs_background": "light"
     },
     "output_type": "display_data"
    }
   ],
   "source": [
    "chat_fdist = FreqDist(chat_tokenized.text_tokenized.explode())\n",
    "\n",
    "top_30_words = list(zip(*chat_fdist.most_common(30)))\n",
    "\n",
    "tokens = np.array(top_30_words[0])\n",
    "count = np.array(top_30_words[1])\n",
    "\n",
    "fig, ax = plt.subplots(figsize=(20,10))\n",
    "\n",
    "top_30_chart = sns.barplot(x= count, y= tokens)"
   ]
  },
  {
   "cell_type": "code",
   "execution_count": 26,
   "metadata": {},
   "outputs": [
    {
     "data": {
      "image/png": "[encoded data removed]",
      "text/plain": [
       "<Figure size 1440x720 with 1 Axes>"
      ]
     },
     "metadata": {
      "needs_background": "light"
     },
     "output_type": "display_data"
    }
   ],
   "source": [
    "patch_fdist = FreqDist(patch_tokenized.text_tokenized.explode())\n",
    "\n",
    "top_30_words = list(zip(*patch_fdist.most_common(30)))\n",
    "\n",
    "tokens = np.array(top_30_words[0])\n",
    "count = np.array(top_30_words[1])\n",
    "\n",
    "fig, ax = plt.subplots(figsize=(20,10))\n",
    "\n",
    "top_30_chart = sns.barplot(x= count, y= tokens)"
   ]
  },
  {
   "cell_type": "code",
   "execution_count": 27,
   "metadata": {},
   "outputs": [
    {
     "name": "stdout",
     "output_type": "stream",
     "text": [
      "YES\n",
      "YES\n",
      "YES\n",
      "YES\n",
      "YES\n",
      "YES\n",
      "YES\n",
      "YES\n",
      "YES\n",
      "YES\n",
      "YES\n",
      "YES\n"
     ]
    },
    {
     "data": {
      "text/plain": [
       "12"
      ]
     },
     "execution_count": 27,
     "metadata": {},
     "output_type": "execute_result"
    }
   ],
   "source": [
    "\n",
    "counter = 0\n",
    "for lists in patch_tokenized.text_tokenized:\n",
    "    if lists == []:\n",
    "        counter += 1\n",
    "        print('YES')\n",
    "\n",
    "counter"
   ]
  },
  {
   "cell_type": "code",
   "execution_count": 28,
   "metadata": {},
   "outputs": [
    {
     "data": {
      "text/plain": [
       "12    [wow, said, main, account, ban, anyone, help, ...\n",
       "13    [nerd, raging, hard, untethered, rage, knows, ...\n",
       "14              [Eh, lol, wanna, risk, getting, banned]\n",
       "15                      [buy, new, one, blizzard, shop]\n",
       "16                                             [banned]\n",
       "17                                          [SAM, DEAN]\n",
       "18                   [got, banned, d2r, deserved, haha]\n",
       "20                 [many, times, spam, nword, malabrah]\n",
       "21    [said, selling, runs, cause, play, carry, stre...\n",
       "22                                    [oh, botted, lol]\n",
       "23                                  [feel, ban, unjust]\n",
       "24                                                [lol]\n",
       "25                                                 [xd]\n",
       "26                                                 [tt]\n",
       "27          [yes, yes, unjust, ban, sure, Get, deserve]\n",
       "28                                                   []\n",
       "29                       [Ok, got, banned, last, night]\n",
       "30                           [got, boosted, ur, saying]\n",
       "31    [dont, worry, buy, new, one, blizzard, shop, g...\n",
       "32                       [naw, think, saying, boosting]\n",
       "33    [wonder, going, start, banning, players, D3, b...\n",
       "34                                                   []\n",
       "35                                 [boosteres, boosted]\n",
       "36        [idk, another, wave, ban, coming, im, stuill]\n",
       "37    [thought, honestly, boosterettes, boosteres, b...\n",
       "38                             [Maybe, part, community]\n",
       "39    [So, thing, boost, morale, nice, thick, thighs...\n",
       "40         [book, flyers, oribos, god, bless, blizzard]\n",
       "41                             [gosh, darn, boosterino]\n",
       "42    [sell, 2s, carries, seen, disc, bans, boosting...\n",
       "43                     [screen, cap, sending, bliz, gg]\n",
       "44    [boostie, boys, buying, boosts, best, buy, bac...\n",
       "45                                                [LOL]\n",
       "46                   [Blizzard, use, Ip, Bann, bosters]\n",
       "47                        [We, got, Matlock, tradechat]\n",
       "48                    [believe, rated, solo, que, real]\n",
       "49                                      [wait, ip, ban]\n",
       "50    [Oh, IP, Ban, would, lovely, imagine, youtube,...\n",
       "51                       [Matlock, attorney, detective]\n",
       "52     [first, time, trade, chat, actually, chat, spam]\n",
       "53                    [No, Val, making, start, overing]\n",
       "54                                 [Nah, account, bann]\n",
       "55    [So, basically, booster, gets, banned, buys, a...\n",
       "56                                       [ahhh, wonder]\n",
       "57            [get, another, acc, buy, instant, 60, _D]\n",
       "58                                        [circle, wow]\n",
       "59                                       [boostception]\n",
       "60                      [Blokemon, ya, thats, bann, Ip]\n",
       "61    [blizz, er, microsoft, makes, money, subscript...\n",
       "63    [know, Insane, money, con, banning, people, ke...\n",
       "64    [There, relation, guys, boosters, advertiser, ...\n",
       "65                                 [make, sure, report]\n",
       "66                          [Russian, Booslette, wilds]\n",
       "67                [Вперёд, Россия, Путин, Стабильность]\n",
       "68                                  [Ya, na, pa, rusky]\n",
       "Name: text_tokenized, dtype: object"
      ]
     },
     "execution_count": 28,
     "metadata": {},
     "output_type": "execute_result"
    }
   ],
   "source": [
    "chat_tokenized.text_tokenized.loc[10:70]"
   ]
  },
  {
   "cell_type": "code",
   "execution_count": 29,
   "metadata": {},
   "outputs": [
    {
     "data": {
      "text/plain": [
       "date         2/22/2022\n",
       "time           8:18:11\n",
       "text                =x\n",
       "sentiment            2\n",
       "target            Chat\n",
       "Name: 34, dtype: object"
      ]
     },
     "execution_count": 29,
     "metadata": {},
     "output_type": "execute_result"
    }
   ],
   "source": [
    "trade_chat.loc[34]"
   ]
  },
  {
   "cell_type": "code",
   "execution_count": 30,
   "metadata": {},
   "outputs": [],
   "source": [
    "neg_patch = patch_tokenized[patch_tokenized.sentiment == 1]\n",
    "neg_chat = chat_tokenized[chat_tokenized.sentiment == 1]"
   ]
  },
  {
   "cell_type": "code",
   "execution_count": 31,
   "metadata": {},
   "outputs": [
    {
     "data": {
      "image/png": "[encoded data removed]",
      "text/plain": [
       "<Figure size 1440x720 with 1 Axes>"
      ]
     },
     "metadata": {
      "needs_background": "light"
     },
     "output_type": "display_data"
    }
   ],
   "source": [
    "neg_patch_fdist = FreqDist(neg_patch.text_tokenized.explode())\n",
    "\n",
    "top_30_words = list(zip(*neg_patch_fdist.most_common(30)))\n",
    "\n",
    "tokens = np.array(top_30_words[0])\n",
    "count = np.array(top_30_words[1])\n",
    "\n",
    "fig, ax = plt.subplots(figsize=(20,10))\n",
    "\n",
    "top_30_chart = sns.barplot(x= count, y= tokens)"
   ]
  },
  {
   "cell_type": "code",
   "execution_count": 32,
   "metadata": {},
   "outputs": [
    {
     "data": {
      "image/png": "[encoded data removed]",
      "text/plain": [
       "<Figure size 1440x720 with 1 Axes>"
      ]
     },
     "metadata": {
      "needs_background": "light"
     },
     "output_type": "display_data"
    }
   ],
   "source": [
    "neg_chat_fdist = FreqDist(neg_chat.text_tokenized.explode())\n",
    "\n",
    "top_30_words = list(zip(*neg_chat_fdist.most_common(30)))\n",
    "\n",
    "tokens = np.array(top_30_words[0])\n",
    "count = np.array(top_30_words[1])\n",
    "\n",
    "fig, ax = plt.subplots(figsize=(20,10))\n",
    "\n",
    "top_30_chart = sns.barplot(x= count, y= tokens)"
   ]
  },
  {
   "cell_type": "markdown",
   "metadata": {},
   "source": [
    "## Baseline Models"
   ]
  },
  {
   "cell_type": "code",
   "execution_count": 33,
   "metadata": {},
   "outputs": [],
   "source": [
    "X = tc_tokenized['joined_tokens']\n",
    "y_sentiment = tc_tokenized['sentiment']\n",
    "y_target = tc_tokenized['target']"
   ]
  },
  {
   "cell_type": "markdown",
   "metadata": {},
   "source": [
    "### Sentiment Models"
   ]
  },
  {
   "cell_type": "code",
   "execution_count": 34,
   "metadata": {},
   "outputs": [],
   "source": [
    "X_train_s, X_test_s, y_train_s, y_test_s = train_test_split(X, y_sentiment, test_size= 0.25, random_state=5)"
   ]
  },
  {
   "cell_type": "code",
   "execution_count": 35,
   "metadata": {},
   "outputs": [
    {
     "data": {
      "text/plain": [
       "2    224\n",
       "1    108\n",
       "3     15\n",
       "Name: sentiment, dtype: int64"
      ]
     },
     "execution_count": 35,
     "metadata": {},
     "output_type": "execute_result"
    }
   ],
   "source": [
    "y_test_s.value_counts()"
   ]
  },
  {
   "cell_type": "code",
   "execution_count": null,
   "metadata": {},
   "outputs": [],
   "source": []
  },
  {
   "cell_type": "code",
   "execution_count": 36,
   "metadata": {},
   "outputs": [],
   "source": [
    "s_labels = ['neg', 'neutral', 'pos']"
   ]
  },
  {
   "cell_type": "code",
   "execution_count": 37,
   "metadata": {},
   "outputs": [],
   "source": [
    "sentiment_models = {}"
   ]
  },
  {
   "cell_type": "markdown",
   "metadata": {},
   "source": [
    "#### Stochastic Gradient Descent Model"
   ]
  },
  {
   "cell_type": "code",
   "execution_count": 38,
   "metadata": {},
   "outputs": [
    {
     "name": "stdout",
     "output_type": "stream",
     "text": [
      "CV Mean: 0.6808\n",
      "Accuracy: 0.6715\n"
     ]
    }
   ],
   "source": [
    "sgd_sentiment = Pipeline([('vect', CountVectorizer()), \n",
    "               ('tfidf', TfidfTransformer()),\n",
    "               ('clf', SGDClassifier(random_state=5)),\n",
    "              ])\n",
    "\n",
    "cv_mean, accuracy, y_pred, model = et.run_model(X, y_sentiment, sgd_sentiment)\n",
    "\n",
    "print(f'CV Mean: {cv_mean}')\n",
    "print(f'Accuracy: {accuracy}')\n",
    "\n",
    "sentiment_models['SGD'] = {'CV Mean': cv_mean, 'Accuracy': accuracy}\n"
   ]
  },
  {
   "cell_type": "code",
   "execution_count": 39,
   "metadata": {},
   "outputs": [
    {
     "data": {
      "image/png": "[encoded data removed]",
      "text/plain": [
       "<Figure size 576x432 with 2 Axes>"
      ]
     },
     "metadata": {
      "needs_background": "light"
     },
     "output_type": "display_data"
    }
   ],
   "source": [
    "cm = confusion_matrix(y_test_s, y_pred)\n",
    "\n",
    "fig, ax = plt.subplots(figsize=(8,6))\n",
    "sns.heatmap(cm, annot=True, fmt='g', cmap='Blues', xticklabels=s_labels, yticklabels=s_labels)\n",
    "ax.set_title('Stochastic Gradient Descent');"
   ]
  },
  {
   "cell_type": "markdown",
   "metadata": {},
   "source": [
    "#### Random Forest Model"
   ]
  },
  {
   "cell_type": "code",
   "execution_count": 40,
   "metadata": {},
   "outputs": [
    {
     "name": "stdout",
     "output_type": "stream",
     "text": [
      "CV Mean: 0.7048\n",
      "Accuracy: 0.6657\n"
     ]
    }
   ],
   "source": [
    "rfc_sentiment = Pipeline([('vect', CountVectorizer()),\n",
    "               ('tfidf', TfidfTransformer()),\n",
    "               ('clf', RandomForestClassifier(random_state=5)),\n",
    "              ])\n",
    "\n",
    "cv_mean, accuracy, y_pred, model = et.run_model(X, y_sentiment, rfc_sentiment)\n",
    "\n",
    "print(f'CV Mean: {cv_mean}')\n",
    "print(f'Accuracy: {accuracy}')\n",
    "\n",
    "sentiment_models['RFC'] = {'CV Mean': cv_mean, 'Accuracy': accuracy}\n"
   ]
  },
  {
   "cell_type": "code",
   "execution_count": 41,
   "metadata": {},
   "outputs": [
    {
     "data": {
      "image/png": "[encoded data removed]",
      "text/plain": [
       "<Figure size 576x432 with 2 Axes>"
      ]
     },
     "metadata": {
      "needs_background": "light"
     },
     "output_type": "display_data"
    }
   ],
   "source": [
    "cm = confusion_matrix(y_test_s, y_pred)\n",
    "\n",
    "fig, ax = plt.subplots(figsize=(8,6))\n",
    "sns.heatmap(cm, annot=True, fmt='g', cmap='Blues', xticklabels=s_labels, yticklabels=s_labels)\n",
    "ax.set_title('Random Forest');"
   ]
  },
  {
   "cell_type": "markdown",
   "metadata": {},
   "source": [
    "#### Naive Bayes Model"
   ]
  },
  {
   "cell_type": "code",
   "execution_count": 42,
   "metadata": {},
   "outputs": [
    {
     "name": "stdout",
     "output_type": "stream",
     "text": [
      "CV Mean: 0.6894\n",
      "Accuracy: 0.6888\n"
     ]
    }
   ],
   "source": [
    "naive_sentiment = Pipeline([('vect', CountVectorizer()),\n",
    "               ('tfidf', TfidfTransformer()),\n",
    "               ('clf', MultinomialNB()),\n",
    "              ])\n",
    "\n",
    "cv_mean, accuracy, y_pred, model = et.run_model(X, y_sentiment, naive_sentiment)\n",
    "\n",
    "print(f'CV Mean: {cv_mean}')\n",
    "print(f'Accuracy: {accuracy}')\n",
    "\n",
    "sentiment_models['Naive'] = {'CV Mean': cv_mean, 'Accuracy': accuracy}\n"
   ]
  },
  {
   "cell_type": "code",
   "execution_count": 43,
   "metadata": {},
   "outputs": [
    {
     "data": {
      "image/png": "[encoded data removed]",
      "text/plain": [
       "<Figure size 576x432 with 2 Axes>"
      ]
     },
     "metadata": {
      "needs_background": "light"
     },
     "output_type": "display_data"
    }
   ],
   "source": [
    "cm = confusion_matrix(y_test_s, y_pred)\n",
    "\n",
    "fig, ax = plt.subplots(figsize=(8,6))\n",
    "sns.heatmap(cm, annot=True, fmt='g', cmap='Blues', xticklabels=s_labels, yticklabels=s_labels)\n",
    "ax.set_title('Naive bayes');"
   ]
  },
  {
   "cell_type": "markdown",
   "metadata": {},
   "source": [
    "#### Logistic Regression Model"
   ]
  },
  {
   "cell_type": "code",
   "execution_count": 44,
   "metadata": {},
   "outputs": [
    {
     "name": "stdout",
     "output_type": "stream",
     "text": [
      "CV Mean: 0.701\n",
      "Accuracy: 0.6859\n"
     ]
    }
   ],
   "source": [
    "lg_sentiment = Pipeline([('vect', CountVectorizer()),\n",
    "               ('tfidf', TfidfTransformer()),\n",
    "               ('clf', LogisticRegression()),\n",
    "              ])\n",
    "\n",
    "cv_mean, accuracy, y_pred, model = et.run_model(X, y_sentiment, lg_sentiment)\n",
    "\n",
    "print(f'CV Mean: {cv_mean}')\n",
    "print(f'Accuracy: {accuracy}')\n",
    "\n",
    "sentiment_models['LogReg'] = {'CV Mean': cv_mean, 'Accuracy': accuracy}\n"
   ]
  },
  {
   "cell_type": "code",
   "execution_count": 45,
   "metadata": {},
   "outputs": [
    {
     "data": {
      "image/png": "[encoded data removed]",
      "text/plain": [
       "<Figure size 576x432 with 2 Axes>"
      ]
     },
     "metadata": {
      "needs_background": "light"
     },
     "output_type": "display_data"
    }
   ],
   "source": [
    "cm = confusion_matrix(y_test_s, y_pred)\n",
    "\n",
    "fig, ax = plt.subplots(figsize=(8,6))\n",
    "sns.heatmap(cm, annot=True, fmt='g', cmap='Blues', xticklabels=s_labels, yticklabels=s_labels)\n",
    "ax.set_title('Logistic Regression');"
   ]
  },
  {
   "cell_type": "code",
   "execution_count": 46,
   "metadata": {},
   "outputs": [
    {
     "data": {
      "text/plain": [
       "{'SGD': {'CV Mean': 0.6808, 'Accuracy': 0.6715},\n",
       " 'RFC': {'CV Mean': 0.7048, 'Accuracy': 0.6657},\n",
       " 'Naive': {'CV Mean': 0.6894, 'Accuracy': 0.6888},\n",
       " 'LogReg': {'CV Mean': 0.701, 'Accuracy': 0.6859}}"
      ]
     },
     "execution_count": 46,
     "metadata": {},
     "output_type": "execute_result"
    }
   ],
   "source": [
    "sentiment_models"
   ]
  },
  {
   "cell_type": "markdown",
   "metadata": {},
   "source": [
    "### Target Models"
   ]
  },
  {
   "cell_type": "code",
   "execution_count": 47,
   "metadata": {},
   "outputs": [],
   "source": [
    "X_train_t, X_test_t, y_train_t, y_test_t = train_test_split(X, y_target, test_size= 0.25, random_state=5)"
   ]
  },
  {
   "cell_type": "code",
   "execution_count": 48,
   "metadata": {},
   "outputs": [],
   "source": [
    "target_models = {}"
   ]
  },
  {
   "cell_type": "code",
   "execution_count": 69,
   "metadata": {},
   "outputs": [
    {
     "data": {
      "text/plain": [
       "Chat        175\n",
       "Patch       113\n",
       "Trade        18\n",
       "LFM          15\n",
       "Boosting     12\n",
       "Bug           8\n",
       "LFG           6\n",
       "Name: target, dtype: int64"
      ]
     },
     "execution_count": 69,
     "metadata": {},
     "output_type": "execute_result"
    }
   ],
   "source": [
    "y_test_t.value_counts()"
   ]
  },
  {
   "cell_type": "code",
   "execution_count": 50,
   "metadata": {},
   "outputs": [],
   "source": [
    "t_labels = sorted(list(tc_tokenized.target.value_counts().index))"
   ]
  },
  {
   "cell_type": "markdown",
   "metadata": {},
   "source": [
    "#### Stochastic Gradient Descent Model"
   ]
  },
  {
   "cell_type": "code",
   "execution_count": 51,
   "metadata": {},
   "outputs": [
    {
     "name": "stdout",
     "output_type": "stream",
     "text": [
      "CV Mean: 0.6769\n",
      "Accuracy: 0.6369\n"
     ]
    }
   ],
   "source": [
    "sgd_target = Pipeline([('vect', CountVectorizer()), \n",
    "               ('tfidf', TfidfTransformer()),\n",
    "               ('clf', SGDClassifier(random_state=5)),\n",
    "              ])\n",
    "\n",
    "cv_mean, accuracy, y_pred, model = et.run_model(X, y_target, sgd_target)\n",
    "\n",
    "print(f'CV Mean: {cv_mean}')\n",
    "print(f'Accuracy: {accuracy}')\n",
    "\n",
    "target_models['SGD'] = {'CV Mean': cv_mean, 'Accuracy': accuracy}\n",
    "\n"
   ]
  },
  {
   "cell_type": "code",
   "execution_count": 52,
   "metadata": {},
   "outputs": [
    {
     "data": {
      "text/plain": [
       "Text(0.5, 1.0, 'Stochastic Gradient Descent')"
      ]
     },
     "execution_count": 52,
     "metadata": {},
     "output_type": "execute_result"
    },
    {
     "data": {
      "image/png": "[encoded data removed]",
      "text/plain": [
       "<Figure size 720x432 with 2 Axes>"
      ]
     },
     "metadata": {
      "needs_background": "light"
     },
     "output_type": "display_data"
    }
   ],
   "source": [
    "cm = confusion_matrix(y_test_t, y_pred)\n",
    "\n",
    "fig, ax = plt.subplots(figsize=(10,6))\n",
    "sns.heatmap(cm, annot=True, fmt='g', cmap='Blues', xticklabels=t_labels, yticklabels=t_labels)\n",
    "ax.set_title('Stochastic Gradient Descent')"
   ]
  },
  {
   "cell_type": "code",
   "execution_count": 66,
   "metadata": {},
   "outputs": [
    {
     "data": {
      "text/plain": [
       "980                    Kyle Rittenhouse would stop Russia\n",
       "1358                                   depends far behind\n",
       "784                           someone give 5k gold please\n",
       "693                                         38ms fine day\n",
       "34                                                       \n",
       "                              ...                        \n",
       "176     heard dumbasses getting boosting Mage tower LM...\n",
       "395             Need x4 guild signatures 5k per signature\n",
       "1270                                                 amen\n",
       "684                                         Arbitor break\n",
       "437                                                  lmao\n",
       "Name: joined_tokens, Length: 347, dtype: object"
      ]
     },
     "execution_count": 66,
     "metadata": {},
     "output_type": "execute_result"
    }
   ],
   "source": [
    "X_test_t"
   ]
  },
  {
   "cell_type": "markdown",
   "metadata": {},
   "source": [
    "#### Random Forest Model"
   ]
  },
  {
   "cell_type": "code",
   "execution_count": 53,
   "metadata": {},
   "outputs": [
    {
     "name": "stdout",
     "output_type": "stream",
     "text": [
      "CV Mean: 0.675\n",
      "Accuracy: 0.634\n"
     ]
    }
   ],
   "source": [
    "rfc_target = Pipeline([('vect', CountVectorizer()),\n",
    "               ('tfidf', TfidfTransformer()),\n",
    "               ('clf', RandomForestClassifier(random_state=5)),\n",
    "              ])\n",
    "\n",
    "cv_mean, accuracy, y_pred, model = et.run_model(X, y_target, rfc_target)\n",
    "\n",
    "print(f'CV Mean: {cv_mean}')\n",
    "print(f'Accuracy: {accuracy}')\n",
    "\n",
    "target_models['RFC'] = {'CV Mean': cv_mean, 'Accuracy': accuracy}\n"
   ]
  },
  {
   "cell_type": "code",
   "execution_count": 54,
   "metadata": {},
   "outputs": [
    {
     "data": {
      "image/png": "[encoded data removed]",
      "text/plain": [
       "<Figure size 720x432 with 2 Axes>"
      ]
     },
     "metadata": {
      "needs_background": "light"
     },
     "output_type": "display_data"
    }
   ],
   "source": [
    "cm = confusion_matrix(y_test_t, y_pred)\n",
    "\n",
    "fig, ax = plt.subplots(figsize=(10,6))\n",
    "sns.heatmap(cm, annot=True, fmt='g', cmap='Blues', xticklabels=t_labels, yticklabels=t_labels)\n",
    "ax.set_title('Random Forest');"
   ]
  },
  {
   "cell_type": "markdown",
   "metadata": {},
   "source": [
    "#### Naive Bayes Model"
   ]
  },
  {
   "cell_type": "code",
   "execution_count": 55,
   "metadata": {},
   "outputs": [
    {
     "name": "stdout",
     "output_type": "stream",
     "text": [
      "CV Mean: 0.6394\n",
      "Accuracy: 0.6167\n"
     ]
    }
   ],
   "source": [
    "naive_target = Pipeline([('vect', CountVectorizer()),\n",
    "               ('tfidf', TfidfTransformer()),\n",
    "               ('clf', MultinomialNB()),\n",
    "              ])\n",
    "\n",
    "cv_mean, accuracy, y_pred, model = et.run_model(X, y_target, naive_target)\n",
    "\n",
    "print(f'CV Mean: {cv_mean}')\n",
    "print(f'Accuracy: {accuracy}')\n",
    "\n",
    "target_models['Naive'] = {'CV Mean': cv_mean, 'Accuracy': accuracy}"
   ]
  },
  {
   "cell_type": "code",
   "execution_count": 56,
   "metadata": {},
   "outputs": [
    {
     "data": {
      "image/png": "[encoded data removed]",
      "text/plain": [
       "<Figure size 720x432 with 2 Axes>"
      ]
     },
     "metadata": {
      "needs_background": "light"
     },
     "output_type": "display_data"
    }
   ],
   "source": [
    "cm = confusion_matrix(y_test_t, y_pred)\n",
    "\n",
    "fig, ax = plt.subplots(figsize=(10,6))\n",
    "sns.heatmap(cm, annot=True, fmt='g', cmap='Blues', xticklabels=t_labels, yticklabels=t_labels)\n",
    "ax.set_title('Naive Bayes');"
   ]
  },
  {
   "cell_type": "markdown",
   "metadata": {},
   "source": [
    "#### Logistic Regression Model"
   ]
  },
  {
   "cell_type": "code",
   "execution_count": 57,
   "metadata": {},
   "outputs": [
    {
     "name": "stdout",
     "output_type": "stream",
     "text": [
      "CV Mean: 0.6519\n",
      "Accuracy: 0.6311\n"
     ]
    }
   ],
   "source": [
    "lg_target = Pipeline([('vect', CountVectorizer()),\n",
    "               ('tfidf', TfidfTransformer()),\n",
    "               ('clf', LogisticRegression()),\n",
    "              ])\n",
    "\n",
    "cv_mean, accuracy, y_pred, model = et.run_model(X, y_target, lg_target)\n",
    "\n",
    "print(f'CV Mean: {cv_mean}')\n",
    "print(f'Accuracy: {accuracy}')\n",
    "\n",
    "target_models['LogReg'] = {'CV Mean': cv_mean, 'Accuracy': accuracy}"
   ]
  },
  {
   "cell_type": "code",
   "execution_count": 58,
   "metadata": {},
   "outputs": [
    {
     "data": {
      "image/png": "[encoded data removed]",
      "text/plain": [
       "<Figure size 720x432 with 2 Axes>"
      ]
     },
     "metadata": {
      "needs_background": "light"
     },
     "output_type": "display_data"
    }
   ],
   "source": [
    "cm = confusion_matrix(y_test_t, y_pred)\n",
    "\n",
    "fig, ax = plt.subplots(figsize=(10,6))\n",
    "sns.heatmap(cm, annot=True, fmt='g', cmap='Blues', xticklabels=t_labels, yticklabels=t_labels)\n",
    "ax.set_title('Logistic Regression');"
   ]
  },
  {
   "cell_type": "code",
   "execution_count": 59,
   "metadata": {},
   "outputs": [
    {
     "data": {
      "text/plain": [
       "{'SGD': {'CV Mean': 0.6769, 'Accuracy': 0.6369},\n",
       " 'RFC': {'CV Mean': 0.675, 'Accuracy': 0.634},\n",
       " 'Naive': {'CV Mean': 0.6394, 'Accuracy': 0.6167},\n",
       " 'LogReg': {'CV Mean': 0.6519, 'Accuracy': 0.6311}}"
      ]
     },
     "execution_count": 59,
     "metadata": {},
     "output_type": "execute_result"
    }
   ],
   "source": [
    "target_models"
   ]
  },
  {
   "cell_type": "markdown",
   "metadata": {},
   "source": [
    "### Base Model Performance"
   ]
  },
  {
   "cell_type": "code",
   "execution_count": 60,
   "metadata": {},
   "outputs": [],
   "source": [
    "s_model_df = pd.DataFrame()\n",
    "s_bmp_labels = list(sentiment_models.keys())"
   ]
  },
  {
   "cell_type": "code",
   "execution_count": 61,
   "metadata": {},
   "outputs": [
    {
     "data": {
      "text/html": [
       "<div>\n",
       "<style scoped>\n",
       "    .dataframe tbody tr th:only-of-type {\n",
       "        vertical-align: middle;\n",
       "    }\n",
       "\n",
       "    .dataframe tbody tr th {\n",
       "        vertical-align: top;\n",
       "    }\n",
       "\n",
       "    .dataframe thead th {\n",
       "        text-align: right;\n",
       "    }\n",
       "</style>\n",
       "<table border=\"1\" class=\"dataframe\">\n",
       "  <thead>\n",
       "    <tr style=\"text-align: right;\">\n",
       "      <th></th>\n",
       "      <th>model</th>\n",
       "      <th>cv_mean</th>\n",
       "      <th>accuracy</th>\n",
       "    </tr>\n",
       "  </thead>\n",
       "  <tbody>\n",
       "    <tr>\n",
       "      <th>0</th>\n",
       "      <td>SGD</td>\n",
       "      <td>0.6808</td>\n",
       "      <td>0.6715</td>\n",
       "    </tr>\n",
       "    <tr>\n",
       "      <th>1</th>\n",
       "      <td>RFC</td>\n",
       "      <td>0.7048</td>\n",
       "      <td>0.6657</td>\n",
       "    </tr>\n",
       "    <tr>\n",
       "      <th>2</th>\n",
       "      <td>Naive</td>\n",
       "      <td>0.6894</td>\n",
       "      <td>0.6888</td>\n",
       "    </tr>\n",
       "    <tr>\n",
       "      <th>3</th>\n",
       "      <td>LogReg</td>\n",
       "      <td>0.7010</td>\n",
       "      <td>0.6859</td>\n",
       "    </tr>\n",
       "  </tbody>\n",
       "</table>\n",
       "</div>"
      ],
      "text/plain": [
       "    model  cv_mean  accuracy\n",
       "0     SGD   0.6808    0.6715\n",
       "1     RFC   0.7048    0.6657\n",
       "2   Naive   0.6894    0.6888\n",
       "3  LogReg   0.7010    0.6859"
      ]
     },
     "execution_count": 61,
     "metadata": {},
     "output_type": "execute_result"
    }
   ],
   "source": [
    "model_list = []\n",
    "cv_list = []\n",
    "acc_list = []\n",
    "\n",
    "for model_name in s_bmp_labels:\n",
    "    cv_list.append(list(sentiment_models[model_name].values())[0])\n",
    "    acc_list.append(list(sentiment_models[model_name].values())[1])\n",
    "\n",
    "s_model_df['model'] = sentiment_models.keys()\n",
    "s_model_df['cv_mean'] = cv_list\n",
    "s_model_df['accuracy'] = acc_list\n",
    "\n",
    "s_model_df\n"
   ]
  },
  {
   "cell_type": "code",
   "execution_count": 62,
   "metadata": {},
   "outputs": [
    {
     "data": {
      "image/png": "[encoded data removed]",
      "text/plain": [
       "<Figure size 720x576 with 1 Axes>"
      ]
     },
     "metadata": {
      "needs_background": "light"
     },
     "output_type": "display_data"
    }
   ],
   "source": [
    "fig, ax = plt.subplots(figsize=(10,8))\n",
    "width = .45\n",
    "sns.set(font_scale = 1.3)\n",
    "\n",
    "ax1 = sns.barplot(x='model', y='cv_mean', data=s_model_df, color='royalblue', label='CV Mean')\n",
    "\n",
    "for bar in ax.containers[0]:\n",
    "    bar.set_width(bar.get_width() * width)\n",
    "\n",
    "\n",
    "\n",
    "ax2 = sns.barplot(x='model', y='accuracy', data=s_model_df, color='navy', label='Accuracy')\n",
    "\n",
    "for bar in ax.containers[1]:\n",
    "    x = bar.get_x()\n",
    "    w = bar.get_width()\n",
    "    bar.set_x(x + w * (1- width))\n",
    "    bar.set_width(w * width)\n",
    "\n",
    "for bar in ax.patches:\n",
    "    ax.annotate(format(bar.get_height(), '.2f'),\n",
    "                (bar.get_x() + bar.get_width() / 2,\n",
    "                    bar.get_height()), ha='center', va='center',\n",
    "                   size=15, xytext=(0, 8),\n",
    "                   textcoords='offset points')\n",
    "\n",
    "ax.set_ylabel('Percent')\n",
    "ax.set_ybound(upper= .9)\n",
    "ax.legend(fontsize= 15)\n",
    "ax.set_title('Sentiment Model Base Performance')\n",
    "\n",
    "\n",
    "plt.show()"
   ]
  },
  {
   "cell_type": "code",
   "execution_count": 63,
   "metadata": {},
   "outputs": [],
   "source": [
    "t_model_df = pd.DataFrame()\n",
    "t_bmp_labels = list(target_models.keys())"
   ]
  },
  {
   "cell_type": "code",
   "execution_count": 64,
   "metadata": {},
   "outputs": [
    {
     "data": {
      "text/html": [
       "<div>\n",
       "<style scoped>\n",
       "    .dataframe tbody tr th:only-of-type {\n",
       "        vertical-align: middle;\n",
       "    }\n",
       "\n",
       "    .dataframe tbody tr th {\n",
       "        vertical-align: top;\n",
       "    }\n",
       "\n",
       "    .dataframe thead th {\n",
       "        text-align: right;\n",
       "    }\n",
       "</style>\n",
       "<table border=\"1\" class=\"dataframe\">\n",
       "  <thead>\n",
       "    <tr style=\"text-align: right;\">\n",
       "      <th></th>\n",
       "      <th>model</th>\n",
       "      <th>cv_mean</th>\n",
       "      <th>accuracy</th>\n",
       "    </tr>\n",
       "  </thead>\n",
       "  <tbody>\n",
       "    <tr>\n",
       "      <th>0</th>\n",
       "      <td>SGD</td>\n",
       "      <td>0.6769</td>\n",
       "      <td>0.6369</td>\n",
       "    </tr>\n",
       "    <tr>\n",
       "      <th>1</th>\n",
       "      <td>RFC</td>\n",
       "      <td>0.6750</td>\n",
       "      <td>0.6340</td>\n",
       "    </tr>\n",
       "    <tr>\n",
       "      <th>2</th>\n",
       "      <td>Naive</td>\n",
       "      <td>0.6394</td>\n",
       "      <td>0.6167</td>\n",
       "    </tr>\n",
       "    <tr>\n",
       "      <th>3</th>\n",
       "      <td>LogReg</td>\n",
       "      <td>0.6519</td>\n",
       "      <td>0.6311</td>\n",
       "    </tr>\n",
       "  </tbody>\n",
       "</table>\n",
       "</div>"
      ],
      "text/plain": [
       "    model  cv_mean  accuracy\n",
       "0     SGD   0.6769    0.6369\n",
       "1     RFC   0.6750    0.6340\n",
       "2   Naive   0.6394    0.6167\n",
       "3  LogReg   0.6519    0.6311"
      ]
     },
     "execution_count": 64,
     "metadata": {},
     "output_type": "execute_result"
    }
   ],
   "source": [
    "model_list = []\n",
    "cv_list = []\n",
    "acc_list = []\n",
    "\n",
    "for model_name in t_bmp_labels:\n",
    "    cv_list.append(list(target_models[model_name].values())[0])\n",
    "    acc_list.append(list(target_models[model_name].values())[1])\n",
    "\n",
    "t_model_df['model'] = target_models.keys()\n",
    "t_model_df['cv_mean'] = cv_list\n",
    "t_model_df['accuracy'] = acc_list\n",
    "\n",
    "t_model_df"
   ]
  },
  {
   "cell_type": "code",
   "execution_count": 65,
   "metadata": {},
   "outputs": [
    {
     "data": {
      "image/png": "[encoded data removed]",
      "text/plain": [
       "<Figure size 720x576 with 1 Axes>"
      ]
     },
     "metadata": {},
     "output_type": "display_data"
    }
   ],
   "source": [
    "fig, ax = plt.subplots(figsize=(10,8))\n",
    "width = .45\n",
    "sns.set(font_scale = 1.3)\n",
    "\n",
    "ax1 = sns.barplot(x='model', y='cv_mean', data=t_model_df, color='royalblue', label='CV Mean')\n",
    "\n",
    "for bar in ax.containers[0]:\n",
    "    bar.set_width(bar.get_width() * width)\n",
    "\n",
    "\n",
    "\n",
    "ax2 = sns.barplot(x='model', y='accuracy', data=s_model_df, color='navy', label='Accuracy')\n",
    "\n",
    "for bar in ax.containers[1]:\n",
    "    x = bar.get_x()\n",
    "    w = bar.get_width()\n",
    "    bar.set_x(x + w * (1- width))\n",
    "    bar.set_width(w * width)\n",
    "\n",
    "for bar in ax.patches:\n",
    "    ax.annotate(format(bar.get_height(), '.2f'),\n",
    "                (bar.get_x() + bar.get_width() / 2,\n",
    "                    bar.get_height()), ha='center', va='center',\n",
    "                   size=15, xytext=(0, 8),\n",
    "                   textcoords='offset points')\n",
    "\n",
    "ax.set_ylabel('Percent')\n",
    "ax.set_ybound(upper= .9)\n",
    "ax.legend(fontsize= 15)\n",
    "ax.set_title('Target Model Base Performance')\n",
    "\n",
    "\n",
    "plt.show()"
   ]
  },
  {
   "cell_type": "code",
   "execution_count": null,
   "metadata": {},
   "outputs": [],
   "source": []
  }
 ],
 "metadata": {
  "interpreter": {
   "hash": "84ac4771d5764d64b27213ab6683f1ab5061e80733e0bd642ee92a0b0c9907f0"
  },
  "kernelspec": {
   "display_name": "Python 3.8.12 ('learn-env')",
   "language": "python",
   "name": "python3"
  },
  "language_info": {
   "codemirror_mode": {
    "name": "ipython",
    "version": 3
   },
   "file_extension": ".py",
   "mimetype": "text/x-python",
   "name": "python",
   "nbconvert_exporter": "python",
   "pygments_lexer": "ipython3",
   "version": "3.8.12"
  },
  "orig_nbformat": 4
 },
 "nbformat": 4,
 "nbformat_minor": 2
}
