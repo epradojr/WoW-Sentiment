{
 "cells": [
  {
   "cell_type": "markdown",
   "metadata": {},
   "source": [
    "# <b>World of Warcraft: In-Game Player Feedback Using Trade Chat</b>\n",
    "#### *Author: Edel Prado*\n",
    "<p></p>\n",
    "<img width=100% src=\"images\\header.PNG\">\n",
    "<p></p>"
   ]
  },
  {
   "cell_type": "markdown",
   "metadata": {},
   "source": [
    "## Table of Contents\n",
    "* [Overview](#Overview)\n",
    "* [Business Problem](#Business_Problem)\n",
    "* [The Data](#The_Data)\n",
    "* [Exploratory Data Analysis](#Exploratory_Data_Analysis)\n",
    "* [Data Clean Up and Tokenization](#Data_Clean_Up_and_Tokenization)\n",
    "* [Modeling](#Modeling)\n",
    "    * [Multiclass Model](#Multiclass_Model)\n",
    "        * [Base Models](#Multi_Based_Models)\n",
    "        * [Tuned Models](#Multi_Tuned_Models)\n",
    "    * [Sentiment Model](#Sentiment_Model)\n",
    "        * [Base Models](#Sent_Based_Models)\n",
    "        * [Tuned Models](#Sent_Tuned_Models)\n",
    "    * [Topic Model](#Topic_Model)\n",
    "        * [GDSMM](#GDSMM)\n",
    "* [Results and Evaluation](#Results_and_Evaluation)\n",
    "* [Suggestions](#Suggestions)\n",
    "* [Future Research](#Future_Research)\n",
    "* [For More Information](#Contact)"
   ]
  },
  {
   "cell_type": "markdown",
   "metadata": {},
   "source": [
    "## <b><u>Overview</u></b> <a class=\"anchor\" id=\"Overview\"></a>\n",
    "\n",
    "World of Warcraft has been slowly losing its player base the past five years because of a multitude of issues in game design and communication with consumers. To better improve the game and decrease player negative sentiment, Blizzard Entertainment, the creators of World of Warcraft, should focus on gathering player feedback and what better way to do that than to gather it from inside the game. This specifically being the chat channel called Trade Chat."
   ]
  },
  {
   "cell_type": "markdown",
   "metadata": {},
   "source": [
    "## <b><u>Business Problem</u></b> <a class=\"anchor\" id=\"Business_Problem\"></a>\n",
    "World of Warcraft has been the top massive multiplayer online game since it was released on November 23, 2004, but it has been struggling to keep active players for the past five years. With the new content patch 9.2, Eternity’s End, many players are returning to the game. To keep the attention of their subscribers, Blizzard Entertainment, the creators of World of Warcraft, should be looking to gather player feedback on the newly released patch update to keep it’s player base content."
   ]
  },
  {
   "cell_type": "markdown",
   "metadata": {},
   "source": [
    "## <b><u>The Data</u></b> <a class=\"anchor\" id=\"The_Data\"></a>\n",
    "*What is Trade Chat?* <p></p>\n",
    "Trade chat is a chat channel that can be seen by all players in any major player hubs per server. In my case, the server was Area 52 which is the most player populated server currently. The channel was meant for trading between players, but has become infamous for trolling as well as harassment. \n",
    "\n",
    "*How does this relate to player feedback?* <p></p>\n",
    "Most players see Trade Chat as a way to let off steam and sometimes the topic they are venting about is the game, World of Warcraft, itself. \n",
    "\n",
    "Through the use of the in-game chat command \"/chatlog\", I collected roughly 24 hours of data. This came out to be 4,448 chat entries. I then manually classified each entry by text topic and sentiment. Here you can see what my raw data looked like.\n",
    "\n",
    "<img width=50% src=\"images\\chat_example.PNG\">"
   ]
  },
  {
   "cell_type": "markdown",
   "metadata": {},
   "source": [
    "If you have your own WoWChatLog.txt file you would like to try out, then you will need to follow the below steps.\n",
    "\n",
    "<b>NOTE:</b> This will only give you unclassfied data in a CSV file. You can either manually classify the data yourself, or run the entire notebook first and then feed your unclassified data through the trained models."
   ]
  },
  {
   "cell_type": "code",
   "execution_count": 1,
   "metadata": {},
   "outputs": [
    {
     "data": {
      "text/html": [
       "<div>\n",
       "<style scoped>\n",
       "    .dataframe tbody tr th:only-of-type {\n",
       "        vertical-align: middle;\n",
       "    }\n",
       "\n",
       "    .dataframe tbody tr th {\n",
       "        vertical-align: top;\n",
       "    }\n",
       "\n",
       "    .dataframe thead th {\n",
       "        text-align: right;\n",
       "    }\n",
       "</style>\n",
       "<table border=\"1\" class=\"dataframe\">\n",
       "  <thead>\n",
       "    <tr style=\"text-align: right;\">\n",
       "      <th></th>\n",
       "      <th>date</th>\n",
       "      <th>time</th>\n",
       "      <th>text</th>\n",
       "    </tr>\n",
       "  </thead>\n",
       "  <tbody>\n",
       "    <tr>\n",
       "      <th>0</th>\n",
       "      <td>2/22</td>\n",
       "      <td>08:14:35.105</td>\n",
       "      <td>how long will downtime be</td>\n",
       "    </tr>\n",
       "    <tr>\n",
       "      <th>1</th>\n",
       "      <td>2/22</td>\n",
       "      <td>08:14:39.938</td>\n",
       "      <td>8 hours</td>\n",
       "    </tr>\n",
       "    <tr>\n",
       "      <th>2</th>\n",
       "      <td>2/22</td>\n",
       "      <td>08:14:42.172</td>\n",
       "      <td>few hours</td>\n",
       "    </tr>\n",
       "    <tr>\n",
       "      <th>3</th>\n",
       "      <td>2/22</td>\n",
       "      <td>08:14:42.172</td>\n",
       "      <td>8 hours?</td>\n",
       "    </tr>\n",
       "    <tr>\n",
       "      <th>4</th>\n",
       "      <td>2/22</td>\n",
       "      <td>08:14:42.406</td>\n",
       "      <td>7hrs</td>\n",
       "    </tr>\n",
       "    <tr>\n",
       "      <th>...</th>\n",
       "      <td>...</td>\n",
       "      <td>...</td>\n",
       "      <td>...</td>\n",
       "    </tr>\n",
       "    <tr>\n",
       "      <th>1856</th>\n",
       "      <td>2/23</td>\n",
       "      <td>01:15:54.806</td>\n",
       "      <td>ok cool</td>\n",
       "    </tr>\n",
       "    <tr>\n",
       "      <th>1857</th>\n",
       "      <td>2/23</td>\n",
       "      <td>01:16:55.910</td>\n",
       "      <td>CHANGE NUDES FOR MONTH SUB PLS</td>\n",
       "    </tr>\n",
       "    <tr>\n",
       "      <th>1858</th>\n",
       "      <td>2/23</td>\n",
       "      <td>01:17:10.157</td>\n",
       "      <td>help a gal out</td>\n",
       "    </tr>\n",
       "    <tr>\n",
       "      <th>1859</th>\n",
       "      <td>2/23</td>\n",
       "      <td>01:17:18.824</td>\n",
       "      <td>perhaps</td>\n",
       "    </tr>\n",
       "    <tr>\n",
       "      <th>1860</th>\n",
       "      <td>2/23</td>\n",
       "      <td>01:17:28.225</td>\n",
       "      <td>So how do i get to Vash'jir? the portal uptop...</td>\n",
       "    </tr>\n",
       "  </tbody>\n",
       "</table>\n",
       "<p>1861 rows × 3 columns</p>\n",
       "</div>"
      ],
      "text/plain": [
       "      date          time                                               text\n",
       "0     2/22  08:14:35.105                          how long will downtime be\n",
       "1     2/22  08:14:39.938                                            8 hours\n",
       "2     2/22  08:14:42.172                                         few hours \n",
       "3     2/22  08:14:42.172                                           8 hours?\n",
       "4     2/22  08:14:42.406                                               7hrs\n",
       "...    ...           ...                                                ...\n",
       "1856  2/23  01:15:54.806                                            ok cool\n",
       "1857  2/23  01:16:55.910                     CHANGE NUDES FOR MONTH SUB PLS\n",
       "1858  2/23  01:17:10.157                                     help a gal out\n",
       "1859  2/23  01:17:18.824                                            perhaps\n",
       "1860  2/23  01:17:28.225   So how do i get to Vash'jir? the portal uptop...\n",
       "\n",
       "[1861 rows x 3 columns]"
      ]
     },
     "execution_count": 1,
     "metadata": {},
     "output_type": "execute_result"
    }
   ],
   "source": [
    "# Importing my TradeChat class from functions.py\n",
    "from functions import TradeChat\n",
    "\n",
    "# Instantiating TradeChat\n",
    "tc = TradeChat()\n",
    "\n",
    "# Calling the convert_to_df method from the TradeChat class\n",
    "# to convert the WoWChatLog.txt file into a CSV file.\n",
    "\n",
    "your_data = tc.convert_to_df('data\\WoWChatLog.txt')\n",
    "\n",
    "your_data"
   ]
  },
  {
   "cell_type": "markdown",
   "metadata": {},
   "source": [
    "## <b><u>Exploratory Data Analysis</u></b> <a class=\"anchor\" id=\"Exploratory_Data_Analysis\"></a>"
   ]
  },
  {
   "cell_type": "markdown",
   "metadata": {},
   "source": [
    "#### Imports"
   ]
  },
  {
   "cell_type": "code",
   "execution_count": 2,
   "metadata": {},
   "outputs": [],
   "source": [
    "# Importing tools for data analysis and visualizations\n",
    "import pandas as pd\n",
    "import numpy as np\n",
    "import seaborn as sns\n",
    "import matplotlib.pyplot as plt"
   ]
  },
  {
   "cell_type": "code",
   "execution_count": 3,
   "metadata": {},
   "outputs": [
    {
     "data": {
      "text/html": [
       "<div>\n",
       "<style scoped>\n",
       "    .dataframe tbody tr th:only-of-type {\n",
       "        vertical-align: middle;\n",
       "    }\n",
       "\n",
       "    .dataframe tbody tr th {\n",
       "        vertical-align: top;\n",
       "    }\n",
       "\n",
       "    .dataframe thead th {\n",
       "        text-align: right;\n",
       "    }\n",
       "</style>\n",
       "<table border=\"1\" class=\"dataframe\">\n",
       "  <thead>\n",
       "    <tr style=\"text-align: right;\">\n",
       "      <th></th>\n",
       "      <th>date</th>\n",
       "      <th>time</th>\n",
       "      <th>text</th>\n",
       "      <th>sentiment</th>\n",
       "      <th>target</th>\n",
       "    </tr>\n",
       "    <tr>\n",
       "      <th>index</th>\n",
       "      <th></th>\n",
       "      <th></th>\n",
       "      <th></th>\n",
       "      <th></th>\n",
       "      <th></th>\n",
       "    </tr>\n",
       "  </thead>\n",
       "  <tbody>\n",
       "    <tr>\n",
       "      <th>0</th>\n",
       "      <td>2/22/2022</td>\n",
       "      <td>8:14:35 AM</td>\n",
       "      <td>how long will downtime be</td>\n",
       "      <td>Other</td>\n",
       "      <td>Patch</td>\n",
       "    </tr>\n",
       "    <tr>\n",
       "      <th>1</th>\n",
       "      <td>2/22/2022</td>\n",
       "      <td>8:14:40 AM</td>\n",
       "      <td>8 hours</td>\n",
       "      <td>Other</td>\n",
       "      <td>Patch</td>\n",
       "    </tr>\n",
       "    <tr>\n",
       "      <th>2</th>\n",
       "      <td>2/22/2022</td>\n",
       "      <td>8:14:42 AM</td>\n",
       "      <td>few hours</td>\n",
       "      <td>Other</td>\n",
       "      <td>Patch</td>\n",
       "    </tr>\n",
       "    <tr>\n",
       "      <th>3</th>\n",
       "      <td>2/22/2022</td>\n",
       "      <td>8:14:42 AM</td>\n",
       "      <td>8 hours?</td>\n",
       "      <td>Negative</td>\n",
       "      <td>Patch</td>\n",
       "    </tr>\n",
       "    <tr>\n",
       "      <th>4</th>\n",
       "      <td>2/22/2022</td>\n",
       "      <td>8:14:42 AM</td>\n",
       "      <td>7hrs</td>\n",
       "      <td>Other</td>\n",
       "      <td>Patch</td>\n",
       "    </tr>\n",
       "    <tr>\n",
       "      <th>...</th>\n",
       "      <td>...</td>\n",
       "      <td>...</td>\n",
       "      <td>...</td>\n",
       "      <td>...</td>\n",
       "      <td>...</td>\n",
       "    </tr>\n",
       "    <tr>\n",
       "      <th>4444</th>\n",
       "      <td>2/23/2022</td>\n",
       "      <td>10:21:11 PM</td>\n",
       "      <td>WTS +15 With my team 2500 io Timed!</td>\n",
       "      <td>Other</td>\n",
       "      <td>Boost</td>\n",
       "    </tr>\n",
       "    <tr>\n",
       "      <th>4445</th>\n",
       "      <td>2/23/2022</td>\n",
       "      <td>10:21:45 PM</td>\n",
       "      <td>&lt;Guild Offering&gt; CHEAPEST Mythic/Heroic [Sanc...</td>\n",
       "      <td>Other</td>\n",
       "      <td>Boost</td>\n",
       "    </tr>\n",
       "    <tr>\n",
       "      <th>4446</th>\n",
       "      <td>2/23/2022</td>\n",
       "      <td>10:21:49 PM</td>\n",
       "      <td>&lt;So Others May Live&gt; 7/10M SoD Recruiting for...</td>\n",
       "      <td>Other</td>\n",
       "      <td>LFM</td>\n",
       "    </tr>\n",
       "    <tr>\n",
       "      <th>4447</th>\n",
       "      <td>2/23/2022</td>\n",
       "      <td>10:23:12 PM</td>\n",
       "      <td>wts Strange Goop 250k no need of ah get it ch...</td>\n",
       "      <td>Other</td>\n",
       "      <td>Trade</td>\n",
       "    </tr>\n",
       "    <tr>\n",
       "      <th>4448</th>\n",
       "      <td>2/23/2022</td>\n",
       "      <td>10:23:15 PM</td>\n",
       "      <td>Guild Offering Discounted Mythic/Heroic Sanct...</td>\n",
       "      <td>Other</td>\n",
       "      <td>Boost</td>\n",
       "    </tr>\n",
       "  </tbody>\n",
       "</table>\n",
       "<p>4449 rows × 5 columns</p>\n",
       "</div>"
      ],
      "text/plain": [
       "            date         time  \\\n",
       "index                           \n",
       "0      2/22/2022   8:14:35 AM   \n",
       "1      2/22/2022   8:14:40 AM   \n",
       "2      2/22/2022   8:14:42 AM   \n",
       "3      2/22/2022   8:14:42 AM   \n",
       "4      2/22/2022   8:14:42 AM   \n",
       "...          ...          ...   \n",
       "4444   2/23/2022  10:21:11 PM   \n",
       "4445   2/23/2022  10:21:45 PM   \n",
       "4446   2/23/2022  10:21:49 PM   \n",
       "4447   2/23/2022  10:23:12 PM   \n",
       "4448   2/23/2022  10:23:15 PM   \n",
       "\n",
       "                                                    text sentiment target  \n",
       "index                                                                      \n",
       "0                              how long will downtime be     Other  Patch  \n",
       "1                                                8 hours     Other  Patch  \n",
       "2                                             few hours      Other  Patch  \n",
       "3                                               8 hours?  Negative  Patch  \n",
       "4                                                   7hrs     Other  Patch  \n",
       "...                                                  ...       ...    ...  \n",
       "4444                 WTS +15 With my team 2500 io Timed!     Other  Boost  \n",
       "4445    <Guild Offering> CHEAPEST Mythic/Heroic [Sanc...     Other  Boost  \n",
       "4446    <So Others May Live> 7/10M SoD Recruiting for...     Other    LFM  \n",
       "4447    wts Strange Goop 250k no need of ah get it ch...     Other  Trade  \n",
       "4448    Guild Offering Discounted Mythic/Heroic Sanct...     Other  Boost  \n",
       "\n",
       "[4449 rows x 5 columns]"
      ]
     },
     "execution_count": 3,
     "metadata": {},
     "output_type": "execute_result"
    }
   ],
   "source": [
    "# loading in my manually classified data from the data folder\n",
    "original_df = pd.read_csv(\"data\\\\trade_chat_v3.csv\", index_col='index')\n",
    "original_df "
   ]
  },
  {
   "cell_type": "code",
   "execution_count": 4,
   "metadata": {},
   "outputs": [
    {
     "data": {
      "image/png": "[encoded data removed]",
      "text/plain": [
       "<Figure size 432x288 with 1 Axes>"
      ]
     },
     "metadata": {
      "needs_background": "light"
     },
     "output_type": "display_data"
    }
   ],
   "source": [
    "# Let's see what are target labels are.\n",
    "sns.countplot(x='target', data= original_df);"
   ]
  },
  {
   "cell_type": "markdown",
   "metadata": {},
   "source": [
    "With the chart above, I know there are duplicates because Boost, LFM (looking for members), LFG (looking for group), and Trade are highly repetive in Trade Chat. I'll be dropping duplicates in the Data Clean Up and Tokenization section."
   ]
  },
  {
   "cell_type": "code",
   "execution_count": 5,
   "metadata": {},
   "outputs": [
    {
     "data": {
      "image/png": "[encoded data removed]",
      "text/plain": [
       "<Figure size 432x288 with 1 Axes>"
      ]
     },
     "metadata": {
      "needs_background": "light"
     },
     "output_type": "display_data"
    }
   ],
   "source": [
    "# Let's see what are sentiment labels are.\n",
    "sns.countplot(x='sentiment', data= original_df);"
   ]
  },
  {
   "cell_type": "markdown",
   "metadata": {},
   "source": [
    "There is very little negative sentiment in the entire data set, but it will become more apparent when grouping our target values into three catagories: Chat, Game, and Service. This is because we are only looking for chat pertaining to 'Game' to get our player feedback.\n",
    "\n",
    "Lets check out the sentiment on all the target labels that will be grouped in 'Game' down the line."
   ]
  },
  {
   "cell_type": "code",
   "execution_count": 6,
   "metadata": {},
   "outputs": [
    {
     "data": {
      "image/png": "[encoded data removed]",
      "text/plain": [
       "<Figure size 432x288 with 1 Axes>"
      ]
     },
     "metadata": {
      "needs_background": "light"
     },
     "output_type": "display_data"
    }
   ],
   "source": [
    "# Here is our sentiment so far with the Game label without grouping in Patch and Bug\n",
    "sns.countplot(x='sentiment', data= original_df[original_df.target == 'Game']);"
   ]
  },
  {
   "cell_type": "code",
   "execution_count": 7,
   "metadata": {},
   "outputs": [
    {
     "data": {
      "image/png": "[encoded data removed]",
      "text/plain": [
       "<Figure size 432x288 with 1 Axes>"
      ]
     },
     "metadata": {
      "needs_background": "light"
     },
     "output_type": "display_data"
    }
   ],
   "source": [
    "# Here is our sentiment so far with the Patch label without grouping in Game and Buga\n",
    "sns.countplot(x='sentiment', data= original_df[original_df.target == 'Patch']);"
   ]
  },
  {
   "cell_type": "code",
   "execution_count": 8,
   "metadata": {},
   "outputs": [
    {
     "data": {
      "image/png": "[encoded data removed]",
      "text/plain": [
       "<Figure size 432x288 with 1 Axes>"
      ]
     },
     "metadata": {
      "needs_background": "light"
     },
     "output_type": "display_data"
    }
   ],
   "source": [
    "# Here is our sentiment so far with the Bug label without grouping in Patch and game\n",
    "sns.countplot(x='sentiment', data= original_df[original_df.target == 'Bug']);"
   ]
  },
  {
   "cell_type": "markdown",
   "metadata": {},
   "source": [
    "## <b><u>Data Clean Up and Tokenization</u></b> <a class=\"anchor\" id=\"Data_Clean_Up_and_Tokenization\"></a>"
   ]
  },
  {
   "cell_type": "markdown",
   "metadata": {},
   "source": [
    "For our data clean up, I will need first reduce our target labels into three catagories: Chat, Game, and Service."
   ]
  },
  {
   "cell_type": "code",
   "execution_count": 9,
   "metadata": {},
   "outputs": [
    {
     "data": {
      "text/plain": [
       "Service    2072\n",
       "Game       1385\n",
       "Chat        992\n",
       "Name: target, dtype: int64"
      ]
     },
     "execution_count": 9,
     "metadata": {},
     "output_type": "execute_result"
    }
   ],
   "source": [
    "# Creating a copy of the orginal dataframe\n",
    "df = original_df.copy()\n",
    "\n",
    "# grouping the 9 labels into 3 general labels\n",
    "df.target.replace(['Patch', 'Bug', 'Game'], 'Game', inplace=True)\n",
    "df.target.replace(['Boost', 'LFM', 'LFG', 'Trade'], 'Service', inplace=True)\n",
    "\n",
    "df.target.value_counts()"
   ]
  },
  {
   "cell_type": "markdown",
   "metadata": {},
   "source": [
    "We see that Service now has a greater amount records when compared to Game and Chat, but that will soon change when we remove the duplicates from that catagory."
   ]
  },
  {
   "cell_type": "code",
   "execution_count": 10,
   "metadata": {},
   "outputs": [
    {
     "data": {
      "text/plain": [
       "Game       1385\n",
       "Chat        992\n",
       "Service     578\n",
       "Name: target, dtype: int64"
      ]
     },
     "execution_count": 10,
     "metadata": {},
     "output_type": "execute_result"
    }
   ],
   "source": [
    "# Seperating the Service class to drop duplicates since the text \n",
    "# here is mainly repetitive and will cause major overfitting down the line\n",
    "service_target = df[df.target == 'Service'].copy()\n",
    "rest_target = df[df.target != 'Service'].copy()\n",
    "\n",
    "service_target.drop_duplicates('text', inplace=True)\n",
    "\n",
    "# combining the dataframes back together\n",
    "df = pd.merge(rest_target, service_target, how=\"outer\")\n",
    "\n",
    "df.target.value_counts()"
   ]
  },
  {
   "cell_type": "markdown",
   "metadata": {},
   "source": [
    "Now we tokenize the data. This will lower case the text as well as remove any nonstandard characters."
   ]
  },
  {
   "cell_type": "code",
   "execution_count": 11,
   "metadata": {},
   "outputs": [
    {
     "data": {
      "text/html": [
       "<div>\n",
       "<style scoped>\n",
       "    .dataframe tbody tr th:only-of-type {\n",
       "        vertical-align: middle;\n",
       "    }\n",
       "\n",
       "    .dataframe tbody tr th {\n",
       "        vertical-align: top;\n",
       "    }\n",
       "\n",
       "    .dataframe thead th {\n",
       "        text-align: right;\n",
       "    }\n",
       "</style>\n",
       "<table border=\"1\" class=\"dataframe\">\n",
       "  <thead>\n",
       "    <tr style=\"text-align: right;\">\n",
       "      <th></th>\n",
       "      <th>date</th>\n",
       "      <th>time</th>\n",
       "      <th>text</th>\n",
       "      <th>sentiment</th>\n",
       "      <th>target</th>\n",
       "      <th>text_tokenized</th>\n",
       "      <th>joined_tokens</th>\n",
       "    </tr>\n",
       "  </thead>\n",
       "  <tbody>\n",
       "    <tr>\n",
       "      <th>0</th>\n",
       "      <td>2/22/2022</td>\n",
       "      <td>8:14:35 AM</td>\n",
       "      <td>how long will downtime be</td>\n",
       "      <td>Other</td>\n",
       "      <td>Game</td>\n",
       "      <td>[long, downtime]</td>\n",
       "      <td>long downtime</td>\n",
       "    </tr>\n",
       "    <tr>\n",
       "      <th>1</th>\n",
       "      <td>2/22/2022</td>\n",
       "      <td>8:14:40 AM</td>\n",
       "      <td>8 hours</td>\n",
       "      <td>Other</td>\n",
       "      <td>Game</td>\n",
       "      <td>[hours]</td>\n",
       "      <td>hours</td>\n",
       "    </tr>\n",
       "    <tr>\n",
       "      <th>2</th>\n",
       "      <td>2/22/2022</td>\n",
       "      <td>8:14:42 AM</td>\n",
       "      <td>few hours</td>\n",
       "      <td>Other</td>\n",
       "      <td>Game</td>\n",
       "      <td>[hours]</td>\n",
       "      <td>hours</td>\n",
       "    </tr>\n",
       "    <tr>\n",
       "      <th>3</th>\n",
       "      <td>2/22/2022</td>\n",
       "      <td>8:14:42 AM</td>\n",
       "      <td>8 hours?</td>\n",
       "      <td>Negative</td>\n",
       "      <td>Game</td>\n",
       "      <td>[hours]</td>\n",
       "      <td>hours</td>\n",
       "    </tr>\n",
       "    <tr>\n",
       "      <th>4</th>\n",
       "      <td>2/22/2022</td>\n",
       "      <td>8:14:42 AM</td>\n",
       "      <td>7hrs</td>\n",
       "      <td>Other</td>\n",
       "      <td>Game</td>\n",
       "      <td>[other]</td>\n",
       "      <td>other</td>\n",
       "    </tr>\n",
       "    <tr>\n",
       "      <th>...</th>\n",
       "      <td>...</td>\n",
       "      <td>...</td>\n",
       "      <td>...</td>\n",
       "      <td>...</td>\n",
       "      <td>...</td>\n",
       "      <td>...</td>\n",
       "      <td>...</td>\n",
       "    </tr>\n",
       "    <tr>\n",
       "      <th>2950</th>\n",
       "      <td>2/23/2022</td>\n",
       "      <td>10:17:02 PM</td>\n",
       "      <td>tank and healer looking for late night raidin...</td>\n",
       "      <td>Other</td>\n",
       "      <td>Service</td>\n",
       "      <td>[tank, healer, looking, late, night, raiding, ...</td>\n",
       "      <td>tank healer looking late night raiding guild pst</td>\n",
       "    </tr>\n",
       "    <tr>\n",
       "      <th>2951</th>\n",
       "      <td>2/23/2022</td>\n",
       "      <td>10:17:06 PM</td>\n",
       "      <td>&gt;&gt;one more rep&lt;&lt; need more motivation to get ...</td>\n",
       "      <td>Other</td>\n",
       "      <td>Service</td>\n",
       "      <td>[one, rep, need, motivation, get, last, rep, g...</td>\n",
       "      <td>one rep need motivation get last rep get aotc ...</td>\n",
       "    </tr>\n",
       "    <tr>\n",
       "      <th>2952</th>\n",
       "      <td>2/23/2022</td>\n",
       "      <td>10:18:21 PM</td>\n",
       "      <td>wts spectral tiger cub</td>\n",
       "      <td>Other</td>\n",
       "      <td>Service</td>\n",
       "      <td>[wts, spectral, tiger, cub]</td>\n",
       "      <td>wts spectral tiger cub</td>\n",
       "    </tr>\n",
       "    <tr>\n",
       "      <th>2953</th>\n",
       "      <td>2/23/2022</td>\n",
       "      <td>10:21:11 PM</td>\n",
       "      <td>wts +15 with my team 2500 io timed!</td>\n",
       "      <td>Other</td>\n",
       "      <td>Service</td>\n",
       "      <td>[wts, team, io, timed]</td>\n",
       "      <td>wts team io timed</td>\n",
       "    </tr>\n",
       "    <tr>\n",
       "      <th>2954</th>\n",
       "      <td>2/23/2022</td>\n",
       "      <td>10:23:12 PM</td>\n",
       "      <td>wts strange goop 250k no need of ah get it ch...</td>\n",
       "      <td>Other</td>\n",
       "      <td>Service</td>\n",
       "      <td>[wts, strange, goop, need, ah, get, cheap, sav...</td>\n",
       "      <td>wts strange goop need ah get cheap save hours ...</td>\n",
       "    </tr>\n",
       "  </tbody>\n",
       "</table>\n",
       "<p>2955 rows × 7 columns</p>\n",
       "</div>"
      ],
      "text/plain": [
       "           date         time  \\\n",
       "0     2/22/2022   8:14:35 AM   \n",
       "1     2/22/2022   8:14:40 AM   \n",
       "2     2/22/2022   8:14:42 AM   \n",
       "3     2/22/2022   8:14:42 AM   \n",
       "4     2/22/2022   8:14:42 AM   \n",
       "...         ...          ...   \n",
       "2950  2/23/2022  10:17:02 PM   \n",
       "2951  2/23/2022  10:17:06 PM   \n",
       "2952  2/23/2022  10:18:21 PM   \n",
       "2953  2/23/2022  10:21:11 PM   \n",
       "2954  2/23/2022  10:23:12 PM   \n",
       "\n",
       "                                                   text sentiment   target  \\\n",
       "0                             how long will downtime be     Other     Game   \n",
       "1                                               8 hours     Other     Game   \n",
       "2                                            few hours      Other     Game   \n",
       "3                                              8 hours?  Negative     Game   \n",
       "4                                                  7hrs     Other     Game   \n",
       "...                                                 ...       ...      ...   \n",
       "2950   tank and healer looking for late night raidin...     Other  Service   \n",
       "2951   >>one more rep<< need more motivation to get ...     Other  Service   \n",
       "2952                             wts spectral tiger cub     Other  Service   \n",
       "2953                wts +15 with my team 2500 io timed!     Other  Service   \n",
       "2954   wts strange goop 250k no need of ah get it ch...     Other  Service   \n",
       "\n",
       "                                         text_tokenized  \\\n",
       "0                                      [long, downtime]   \n",
       "1                                               [hours]   \n",
       "2                                               [hours]   \n",
       "3                                               [hours]   \n",
       "4                                               [other]   \n",
       "...                                                 ...   \n",
       "2950  [tank, healer, looking, late, night, raiding, ...   \n",
       "2951  [one, rep, need, motivation, get, last, rep, g...   \n",
       "2952                        [wts, spectral, tiger, cub]   \n",
       "2953                             [wts, team, io, timed]   \n",
       "2954  [wts, strange, goop, need, ah, get, cheap, sav...   \n",
       "\n",
       "                                          joined_tokens  \n",
       "0                                         long downtime  \n",
       "1                                                 hours  \n",
       "2                                                 hours  \n",
       "3                                                 hours  \n",
       "4                                                 other  \n",
       "...                                                 ...  \n",
       "2950   tank healer looking late night raiding guild pst  \n",
       "2951  one rep need motivation get last rep get aotc ...  \n",
       "2952                             wts spectral tiger cub  \n",
       "2953                                  wts team io timed  \n",
       "2954  wts strange goop need ah get cheap save hours ...  \n",
       "\n",
       "[2955 rows x 7 columns]"
      ]
     },
     "execution_count": 11,
     "metadata": {},
     "output_type": "execute_result"
    }
   ],
   "source": [
    "# Importing our tokenizer and stopwords\n",
    "from nltk.tokenize import RegexpTokenizer\n",
    "from nltk.corpus import stopwords\n",
    "\n",
    "# loading in stopwords and adding data related stop words.\n",
    "sw = stopwords.words('english')\n",
    "sw.extend(['u','ur','im','dont','thats'])\n",
    "\n",
    "# Instantiating my tokenizor\n",
    "tokenizer = RegexpTokenizer(r\"(?u)\\b([a-z]+|9.2)\\w*\\b\")\n",
    "\n",
    "# Calling my TradeChat class to create new columns for tokenization and joined tokens.\n",
    "# I also lemmatize the words for better modeling performance\n",
    "df_token = tc.nlp_tokenizer(df, tokenizer, sw, stem='lemmatizer ')\n",
    "\n",
    "df_token"
   ]
  },
  {
   "cell_type": "markdown",
   "metadata": {},
   "source": [
    "Now that we have our dataframe cleaned up and tokenzied, let's get into our modeling!"
   ]
  },
  {
   "cell_type": "markdown",
   "metadata": {},
   "source": [
    "## <b><u>Modeling</u></b> <a class=\"anchor\" id=\"Modeling\"></a>"
   ]
  },
  {
   "cell_type": "markdown",
   "metadata": {},
   "source": [
    "Since we will be using different varations of our dataframe here, I'll cover what type of data each model should be fed.\n",
    "\n",
    "1. Multiclass Model\n",
    "    - Type of Data: All text that has been catagorize as either Chat, Game, and Service.\n",
    "2. Sentiment Model\n",
    "    - Type of Data: Only 'Game' catagorized text.\n",
    "3. Topic Model\n",
    "    - Type of Data: Only negative sentiment text pertaining to Game.\n",
    "\n",
    "We will be using Stochastic Gradient Descent (SGD), Support Vector Classification (SVC), and Logistic Regression for modeling, so I'll need to import those libraries and some extra tools for performance evaluation."
   ]
  },
  {
   "cell_type": "code",
   "execution_count": 12,
   "metadata": {},
   "outputs": [],
   "source": [
    "# importing libraries for modeling\n",
    "from sklearn.pipeline import Pipeline\n",
    "from sklearn.feature_extraction.text import CountVectorizer\n",
    "from sklearn.feature_extraction.text import TfidfTransformer\n",
    "from sklearn.linear_model import SGDClassifier, LogisticRegression\n",
    "from sklearn.svm import SVC\n",
    "\n",
    "# Importing our performance evaluators and train_test_split\n",
    "from sklearn.metrics import accuracy_score, confusion_matrix, recall_score\n",
    "from sklearn.model_selection import train_test_split, cross_val_score\n",
    "\n",
    "\n",
    "# Creating a random_state for reproducibility \n",
    "SEED = 22"
   ]
  },
  {
   "cell_type": "markdown",
   "metadata": {},
   "source": [
    "### Multiclass Model <a class=\"anchor\" id=\"Multiclass_Model\"></a>"
   ]
  },
  {
   "cell_type": "markdown",
   "metadata": {},
   "source": [
    "Now we'll perform our train test split of our dataframe"
   ]
  },
  {
   "cell_type": "code",
   "execution_count": 13,
   "metadata": {},
   "outputs": [],
   "source": [
    "# Seperating our dependent and independent data\n",
    "X = df_token.joined_tokens\n",
    "y = df_token.target\n",
    "\n",
    "# Creating a list to hold our labels for visualizations\n",
    "mm_model_labels = ['Chat', 'Game', 'Service']\n",
    "\n",
    "# Performing our train_test_split\n",
    "X_train, X_test, y_train, y_test = train_test_split(X, y, test_size= 0.25, random_state=SEED)\n"
   ]
  },
  {
   "cell_type": "markdown",
   "metadata": {},
   "source": [
    "#### Base Models <a class=\"anchor\" id=\"Multi_Based_Models\"></a>"
   ]
  },
  {
   "cell_type": "code",
   "execution_count": 14,
   "metadata": {},
   "outputs": [
    {
     "name": "stdout",
     "output_type": "stream",
     "text": [
      "Showing results for: SGD\n",
      "{'Model': Pipeline(steps=[('vect', CountVectorizer()), ('tfidf', TfidfTransformer()),\n",
      "                ('clf', SGDClassifier(random_state=22))]), 'Performace': {'CV_Accuracy': 0.7189, 'Test_Accuracy': 0.7185}}\n",
      "\n",
      "Showing results for: SVC\n",
      "{'Model': Pipeline(steps=[('vect', CountVectorizer()), ('tfidf', TfidfTransformer()),\n",
      "                ('clf', SVC(random_state=22))]), 'Performace': {'CV_Accuracy': 0.7139, 'Test_Accuracy': 0.7321}}\n",
      "\n",
      "Showing results for: LogReg\n",
      "{'Model': Pipeline(steps=[('vect', CountVectorizer()), ('tfidf', TfidfTransformer()),\n",
      "                ('clf', LogisticRegression(random_state=22))]), 'Performace': {'CV_Accuracy': 0.7234, 'Test_Accuracy': 0.7321}}\n",
      "\n"
     ]
    },
    {
     "data": {
      "image/png": "[encoded data removed]",
      "text/plain": [
       "<Figure size 576x432 with 2 Axes>"
      ]
     },
     "metadata": {
      "needs_background": "light"
     },
     "output_type": "display_data"
    },
    {
     "data": {
      "image/png": "[encoded data removed]",
      "text/plain": [
       "<Figure size 576x432 with 2 Axes>"
      ]
     },
     "metadata": {
      "needs_background": "light"
     },
     "output_type": "display_data"
    },
    {
     "data": {
      "image/png": "[encoded data removed]",
      "text/plain": [
       "<Figure size 576x432 with 2 Axes>"
      ]
     },
     "metadata": {
      "needs_background": "light"
     },
     "output_type": "display_data"
    }
   ],
   "source": [
    "# Baseline SGD Model\n",
    "sgd = Pipeline(\n",
    "      [ ('vect', CountVectorizer()),\n",
    "        ('tfidf', TfidfTransformer()),\n",
    "        ('clf', SGDClassifier(random_state=SEED))\n",
    "        ])\n",
    "\n",
    "# Baseline SVC Model\n",
    "svc = Pipeline(\n",
    "      [ ('vect', CountVectorizer()),\n",
    "        ('tfidf', TfidfTransformer()),\n",
    "        ('clf', SVC(random_state=SEED))\n",
    "      ])\n",
    "\n",
    "# Baseline LogReg Model\n",
    "lr = Pipeline(\n",
    "      [ ('vect', CountVectorizer()),\n",
    "        ('tfidf', TfidfTransformer()),\n",
    "        ('clf', LogisticRegression(random_state=SEED))\n",
    "      ])\n",
    "\n",
    "# Creating a dict to cycle through our models\n",
    "models = {'SGD': sgd, 'SVC': svc, 'LogReg': lr}\n",
    "\n",
    "# Calling the multi_run_model() method to run our models and save their performance\n",
    "base_mm_model = tc.multi_run_model(models, X_train, y_train, X_test, y_test, mm_model_labels)"
   ]
  },
  {
   "cell_type": "markdown",
   "metadata": {},
   "source": [
    "#### Tuned Models <a class=\"anchor\" id=\"Multi_Tuned_Models\"></a>"
   ]
  },
  {
   "cell_type": "code",
   "execution_count": 15,
   "metadata": {},
   "outputs": [
    {
     "name": "stdout",
     "output_type": "stream",
     "text": [
      "Showing results for: SGD\n",
      "{'Model': Pipeline(steps=[('vect', CountVectorizer()), ('tfidf', TfidfTransformer()),\n",
      "                ('clf',\n",
      "                 SGDClassifier(class_weight='balanced', loss='log',\n",
      "                               random_state=22))]), 'Performace': {'CV_Accuracy': 0.7446, 'Test_Accuracy': 0.77}}\n",
      "\n",
      "Showing results for: SVC\n",
      "{'Model': Pipeline(steps=[('vect', CountVectorizer(ngram_range=(1, 2))),\n",
      "                ('tfidf', TfidfTransformer()),\n",
      "                ('clf',\n",
      "                 SVC(C=1, class_weight='balanced', gamma='auto',\n",
      "                     kernel='linear', random_state=22))]), 'Performace': {'CV_Accuracy': 0.7419, 'Test_Accuracy': 0.7618}}\n",
      "\n",
      "Showing results for: LogReg\n",
      "{'Model': Pipeline(steps=[('vect', CountVectorizer()), ('tfidf', TfidfTransformer()),\n",
      "                ('clf',\n",
      "                 LogisticRegression(C=5, class_weight='balanced',\n",
      "                                    random_state=22, solver='liblinear'))]), 'Performace': {'CV_Accuracy': 0.7486, 'Test_Accuracy': 0.774}}\n",
      "\n"
     ]
    },
    {
     "data": {
      "image/png": "[encoded data removed]",
      "text/plain": [
       "<Figure size 576x432 with 2 Axes>"
      ]
     },
     "metadata": {
      "needs_background": "light"
     },
     "output_type": "display_data"
    },
    {
     "data": {
      "image/png": "[encoded data removed]",
      "text/plain": [
       "<Figure size 576x432 with 2 Axes>"
      ]
     },
     "metadata": {
      "needs_background": "light"
     },
     "output_type": "display_data"
    },
    {
     "data": {
      "image/png": "[encoded data removed]",
      "text/plain": [
       "<Figure size 576x432 with 2 Axes>"
      ]
     },
     "metadata": {
      "needs_background": "light"
     },
     "output_type": "display_data"
    }
   ],
   "source": [
    "# Tuned SGD Model\n",
    "sgd = Pipeline(\n",
    "      [ ('vect', CountVectorizer(ngram_range=(1,1))),\n",
    "        ('tfidf', TfidfTransformer()),\n",
    "        ('clf', SGDClassifier(loss='log', \n",
    "                              class_weight = 'balanced',\n",
    "                              random_state=SEED))\n",
    "        ])\n",
    "\n",
    "# Tuned SVC Model\n",
    "svc = Pipeline(\n",
    "      [ ('vect', CountVectorizer(ngram_range=(1,2))),\n",
    "        ('tfidf', TfidfTransformer()),\n",
    "        ('clf', SVC(C=1, \n",
    "                    class_weight = 'balanced', \n",
    "                    degree = 3, \n",
    "                    gamma = 'auto', \n",
    "                    kernel= 'linear', \n",
    "                    random_state=SEED))\n",
    "      ])\n",
    "\n",
    "# Tuned LogReg Model\n",
    "lr = Pipeline(\n",
    "      [ ('vect', CountVectorizer()),\n",
    "        ('tfidf', TfidfTransformer()),\n",
    "        ('clf', LogisticRegression(C=5, \n",
    "                                   class_weight = 'balanced', \n",
    "                                   multi_class= 'auto', \n",
    "                                   penalty = 'l2', \n",
    "                                   solver= 'liblinear',\n",
    "                                   random_state=SEED))\n",
    "      ])\n",
    "\n",
    "# Creating a dict to cycle through our models\n",
    "models = {'SGD': sgd, 'SVC': svc, 'LogReg': lr}\n",
    "\n",
    "# Calling the multi_run_model() method to run our models and save their performance\n",
    "tuned_mm_model = tc.multi_run_model(models, X_train, y_train, X_test, y_test, mm_model_labels)"
   ]
  },
  {
   "cell_type": "code",
   "execution_count": 16,
   "metadata": {},
   "outputs": [
    {
     "data": {
      "text/plain": [
       "{'SGD': {'Model': Pipeline(steps=[('vect', CountVectorizer()), ('tfidf', TfidfTransformer()),\n",
       "                  ('clf', SGDClassifier(random_state=22))]),\n",
       "  'Performace': {'CV_Accuracy': 0.7189, 'Test_Accuracy': 0.7185}},\n",
       " 'SVC': {'Model': Pipeline(steps=[('vect', CountVectorizer()), ('tfidf', TfidfTransformer()),\n",
       "                  ('clf', SVC(random_state=22))]),\n",
       "  'Performace': {'CV_Accuracy': 0.7139, 'Test_Accuracy': 0.7321}},\n",
       " 'LogReg': {'Model': Pipeline(steps=[('vect', CountVectorizer()), ('tfidf', TfidfTransformer()),\n",
       "                  ('clf', LogisticRegression(random_state=22))]),\n",
       "  'Performace': {'CV_Accuracy': 0.7234, 'Test_Accuracy': 0.7321}}}"
      ]
     },
     "execution_count": 16,
     "metadata": {},
     "output_type": "execute_result"
    }
   ],
   "source": [
    "base_mm_model"
   ]
  },
  {
   "cell_type": "code",
   "execution_count": 17,
   "metadata": {},
   "outputs": [
    {
     "data": {
      "text/plain": [
       "{'SGD': {'Model': Pipeline(steps=[('vect', CountVectorizer()), ('tfidf', TfidfTransformer()),\n",
       "                  ('clf',\n",
       "                   SGDClassifier(class_weight='balanced', loss='log',\n",
       "                                 random_state=22))]),\n",
       "  'Performace': {'CV_Accuracy': 0.7446, 'Test_Accuracy': 0.77}},\n",
       " 'SVC': {'Model': Pipeline(steps=[('vect', CountVectorizer(ngram_range=(1, 2))),\n",
       "                  ('tfidf', TfidfTransformer()),\n",
       "                  ('clf',\n",
       "                   SVC(C=1, class_weight='balanced', gamma='auto',\n",
       "                       kernel='linear', random_state=22))]),\n",
       "  'Performace': {'CV_Accuracy': 0.7419, 'Test_Accuracy': 0.7618}},\n",
       " 'LogReg': {'Model': Pipeline(steps=[('vect', CountVectorizer()), ('tfidf', TfidfTransformer()),\n",
       "                  ('clf',\n",
       "                   LogisticRegression(C=5, class_weight='balanced',\n",
       "                                      random_state=22, solver='liblinear'))]),\n",
       "  'Performace': {'CV_Accuracy': 0.7486, 'Test_Accuracy': 0.774}}}"
      ]
     },
     "execution_count": 17,
     "metadata": {},
     "output_type": "execute_result"
    }
   ],
   "source": [
    "tuned_mm_model"
   ]
  },
  {
   "cell_type": "markdown",
   "metadata": {},
   "source": [
    "We'll go over the performance in the upcoming Results and Evaluation section."
   ]
  },
  {
   "cell_type": "markdown",
   "metadata": {},
   "source": [
    "### Sentiment Model <a class=\"anchor\" id=\"Sentiment_Model\"></a>"
   ]
  },
  {
   "cell_type": "markdown",
   "metadata": {},
   "source": [
    "For our sentiment models, we need to feed only 'Game' labeled text, so we'll need to create a seperate dataframe for modeling."
   ]
  },
  {
   "cell_type": "code",
   "execution_count": 42,
   "metadata": {},
   "outputs": [
    {
     "data": {
      "text/plain": [
       "Other       968\n",
       "Negative    417\n",
       "Name: sentiment, dtype: int64"
      ]
     },
     "execution_count": 42,
     "metadata": {},
     "output_type": "execute_result"
    }
   ],
   "source": [
    "# Selecting only Game labeled data points\n",
    "sm_df_token = df_token[df_token.target == 'Game'].copy()\n",
    "\n",
    "sm_df_token.sentiment.value_counts()"
   ]
  },
  {
   "cell_type": "markdown",
   "metadata": {},
   "source": [
    "There is quite a bias here. I'll down sample the data to better train our models."
   ]
  },
  {
   "cell_type": "code",
   "execution_count": 43,
   "metadata": {},
   "outputs": [
    {
     "data": {
      "text/plain": [
       "Negative    417\n",
       "Other       417\n",
       "Name: sentiment, dtype: int64"
      ]
     },
     "execution_count": 43,
     "metadata": {},
     "output_type": "execute_result"
    }
   ],
   "source": [
    "# Calling the down_sample method to under sample our data, this\n",
    "# will cause issues with reproducibility since the down sampling is random.\n",
    "sm_df_token = tc.down_sample(sm_df_token, 'sentiment')\n",
    "\n",
    "sm_df_token.sentiment.value_counts()"
   ]
  },
  {
   "cell_type": "markdown",
   "metadata": {},
   "source": [
    "That's better! Let's get our X and y variable and perform a new train test split"
   ]
  },
  {
   "cell_type": "code",
   "execution_count": 44,
   "metadata": {},
   "outputs": [],
   "source": [
    "# Seperating our dependent and independent data\n",
    "X = sm_df_token.joined_tokens\n",
    "y = sm_df_token.sentiment.replace(['Negative','Other'],[0,1])\n",
    "\n",
    "# Creating a list to hold our labels for visualizations\n",
    "sm_model_labels = ['Negative', 'Non-negative']\n",
    "\n",
    "# Performing our train_test_split\n",
    "X_train, X_test, y_train, y_test = train_test_split(X, y, test_size= 0.25, random_state=SEED)\n"
   ]
  },
  {
   "cell_type": "markdown",
   "metadata": {},
   "source": [
    "#### Base Models <a class=\"anchor\" id=\"Sent_Based_Models\"></a>"
   ]
  },
  {
   "cell_type": "code",
   "execution_count": 45,
   "metadata": {},
   "outputs": [
    {
     "name": "stdout",
     "output_type": "stream",
     "text": [
      "Showing results for: SGD\n",
      "{'Model': Pipeline(steps=[('vect', CountVectorizer()), ('tfidf', TfidfTransformer()),\n",
      "                ('clf', SGDClassifier(random_state=22))]), 'Performace': {'CV_Recall': 0.6199, 'Test_Recall': 0.6696}}\n",
      "\n",
      "Showing results for: SVC\n",
      "{'Model': Pipeline(steps=[('vect', CountVectorizer()), ('tfidf', TfidfTransformer()),\n",
      "                ('clf', SVC(random_state=22))]), 'Performace': {'CV_Recall': 0.5943, 'Test_Recall': 0.7386}}\n",
      "\n",
      "Showing results for: LogReg\n",
      "{'Model': Pipeline(steps=[('vect', CountVectorizer()), ('tfidf', TfidfTransformer()),\n",
      "                ('clf', LogisticRegression(random_state=22))]), 'Performace': {'CV_Recall': 0.6135, 'Test_Recall': 0.7191}}\n",
      "\n"
     ]
    },
    {
     "data": {
      "image/png": "[encoded data removed]",
      "text/plain": [
       "<Figure size 576x432 with 2 Axes>"
      ]
     },
     "metadata": {
      "needs_background": "light"
     },
     "output_type": "display_data"
    },
    {
     "data": {
      "image/png": "[encoded data removed]",
      "text/plain": [
       "<Figure size 576x432 with 2 Axes>"
      ]
     },
     "metadata": {
      "needs_background": "light"
     },
     "output_type": "display_data"
    },
    {
     "data": {
      "image/png": "[encoded data removed]",
      "text/plain": [
       "<Figure size 576x432 with 2 Axes>"
      ]
     },
     "metadata": {
      "needs_background": "light"
     },
     "output_type": "display_data"
    }
   ],
   "source": [
    "# Baseline SGD Model\n",
    "sgd = Pipeline(\n",
    "      [ ('vect', CountVectorizer()),\n",
    "        ('tfidf', TfidfTransformer()),\n",
    "        ('clf', SGDClassifier(random_state=SEED))\n",
    "        ])\n",
    "\n",
    "# Baseline SVC Model\n",
    "svc = Pipeline(\n",
    "      [ ('vect', CountVectorizer()),\n",
    "        ('tfidf', TfidfTransformer()),\n",
    "        ('clf', SVC(random_state=SEED))\n",
    "      ])\n",
    "\n",
    "# Baseline LogReg Model\n",
    "lr = Pipeline(\n",
    "      [ ('vect', CountVectorizer()),\n",
    "        ('tfidf', TfidfTransformer()),\n",
    "        ('clf', LogisticRegression(random_state=SEED))\n",
    "      ])\n",
    "\n",
    "# Creating a dict to cycle through our models\n",
    "models = {'SGD': sgd, 'SVC': svc, 'LogReg': lr}\n",
    "\n",
    "# Calling the multi_run_model() method to run our models and save their performance\n",
    "base_sm_model = tc.multi_run_model(models, X_train, y_train, X_test, y_test, sm_model_labels, score='recall')"
   ]
  },
  {
   "cell_type": "markdown",
   "metadata": {},
   "source": [
    "#### Tuned Models <a class=\"anchor\" id=\"Sent_Tuned_Models\"></a>"
   ]
  },
  {
   "cell_type": "code",
   "execution_count": 46,
   "metadata": {},
   "outputs": [
    {
     "name": "stdout",
     "output_type": "stream",
     "text": [
      "Showing results for: SGD\n",
      "{'Model': Pipeline(steps=[('vect', CountVectorizer(ngram_range=(1, 2))),\n",
      "                ('tfidf', TfidfTransformer()),\n",
      "                ('clf',\n",
      "                 SGDClassifier(class_weight='balanced', random_state=22))]), 'Performace': {'CV_Recall': 0.6647, 'Test_Recall': 0.7292}}\n",
      "\n",
      "Showing results for: SVC\n",
      "{'Model': Pipeline(steps=[('vect', CountVectorizer(ngram_range=(1, 2))),\n",
      "                ('tfidf', TfidfTransformer()),\n",
      "                ('clf',\n",
      "                 SVC(C=5, gamma='auto', kernel='linear', random_state=22))]), 'Performace': {'CV_Recall': 0.6167, 'Test_Recall': 0.6916}}\n",
      "\n",
      "Showing results for: LogReg\n",
      "{'Model': Pipeline(steps=[('vect', CountVectorizer(ngram_range=(1, 2))),\n",
      "                ('tfidf', TfidfTransformer()),\n",
      "                ('clf',\n",
      "                 LogisticRegression(C=5, class_weight='balanced',\n",
      "                                    random_state=22, solver='liblinear'))]), 'Performace': {'CV_Recall': 0.6293, 'Test_Recall': 0.7416}}\n",
      "\n"
     ]
    },
    {
     "data": {
      "image/png": "[encoded data removed]",
      "text/plain": [
       "<Figure size 576x432 with 2 Axes>"
      ]
     },
     "metadata": {
      "needs_background": "light"
     },
     "output_type": "display_data"
    },
    {
     "data": {
      "image/png": "[encoded data removed]",
      "text/plain": [
       "<Figure size 576x432 with 2 Axes>"
      ]
     },
     "metadata": {
      "needs_background": "light"
     },
     "output_type": "display_data"
    },
    {
     "data": {
      "image/png": "[encoded data removed]",
      "text/plain": [
       "<Figure size 576x432 with 2 Axes>"
      ]
     },
     "metadata": {
      "needs_background": "light"
     },
     "output_type": "display_data"
    }
   ],
   "source": [
    "# Baseline SGD Model\n",
    "sgd = Pipeline(\n",
    "      [ ('vect', CountVectorizer(ngram_range=(1,2))),\n",
    "        ('tfidf', TfidfTransformer()),\n",
    "        ('clf', SGDClassifier(loss='hinge', \n",
    "                              class_weight='balanced',\n",
    "                              random_state=SEED))\n",
    "        ])\n",
    "\n",
    "# Baseline SVC Model\n",
    "svc = Pipeline(\n",
    "      [ ('vect', CountVectorizer(ngram_range=(1,2))),\n",
    "        ('tfidf', TfidfTransformer()),\n",
    "        ('clf', SVC(C= 5, \n",
    "                    degree= 3, \n",
    "                    gamma= 'auto', \n",
    "                    kernel= 'linear',\n",
    "                    random_state=SEED))\n",
    "      ])\n",
    "\n",
    "# Baseline LogReg Model\n",
    "lr = Pipeline(\n",
    "      [ ('vect', CountVectorizer(ngram_range=(1,2))),\n",
    "        ('tfidf', TfidfTransformer()),\n",
    "        ('clf', LogisticRegression(C= 5, \n",
    "                                   class_weight = 'balanced', \n",
    "                                   multi_class='auto', \n",
    "                                   penalty= 'l2', \n",
    "                                   solver='liblinear', \n",
    "                                   random_state=SEED))\n",
    "      ])\n",
    "\n",
    "# Creating a dict to cycle through our models\n",
    "models = {'SGD': sgd, 'SVC': svc, 'LogReg': lr}\n",
    "\n",
    "# Calling the multi_run_model() method to run our models and save their performance\n",
    "tuned_sm_model = tc.multi_run_model(models, X_train, y_train, X_test, y_test, sm_model_labels, score='recall')"
   ]
  },
  {
   "cell_type": "code",
   "execution_count": 47,
   "metadata": {},
   "outputs": [
    {
     "data": {
      "text/plain": [
       "{'SGD': {'Model': Pipeline(steps=[('vect', CountVectorizer()), ('tfidf', TfidfTransformer()),\n",
       "                  ('clf', SGDClassifier(random_state=22))]),\n",
       "  'Performace': {'CV_Recall': 0.6199, 'Test_Recall': 0.6696}},\n",
       " 'SVC': {'Model': Pipeline(steps=[('vect', CountVectorizer()), ('tfidf', TfidfTransformer()),\n",
       "                  ('clf', SVC(random_state=22))]),\n",
       "  'Performace': {'CV_Recall': 0.5943, 'Test_Recall': 0.7386}},\n",
       " 'LogReg': {'Model': Pipeline(steps=[('vect', CountVectorizer()), ('tfidf', TfidfTransformer()),\n",
       "                  ('clf', LogisticRegression(random_state=22))]),\n",
       "  'Performace': {'CV_Recall': 0.6135, 'Test_Recall': 0.7191}}}"
      ]
     },
     "execution_count": 47,
     "metadata": {},
     "output_type": "execute_result"
    }
   ],
   "source": [
    "base_sm_model"
   ]
  },
  {
   "cell_type": "code",
   "execution_count": 48,
   "metadata": {},
   "outputs": [
    {
     "data": {
      "text/plain": [
       "{'SGD': {'Model': Pipeline(steps=[('vect', CountVectorizer(ngram_range=(1, 2))),\n",
       "                  ('tfidf', TfidfTransformer()),\n",
       "                  ('clf',\n",
       "                   SGDClassifier(class_weight='balanced', random_state=22))]),\n",
       "  'Performace': {'CV_Recall': 0.6647, 'Test_Recall': 0.7292}},\n",
       " 'SVC': {'Model': Pipeline(steps=[('vect', CountVectorizer(ngram_range=(1, 2))),\n",
       "                  ('tfidf', TfidfTransformer()),\n",
       "                  ('clf',\n",
       "                   SVC(C=5, gamma='auto', kernel='linear', random_state=22))]),\n",
       "  'Performace': {'CV_Recall': 0.6167, 'Test_Recall': 0.6916}},\n",
       " 'LogReg': {'Model': Pipeline(steps=[('vect', CountVectorizer(ngram_range=(1, 2))),\n",
       "                  ('tfidf', TfidfTransformer()),\n",
       "                  ('clf',\n",
       "                   LogisticRegression(C=5, class_weight='balanced',\n",
       "                                      random_state=22, solver='liblinear'))]),\n",
       "  'Performace': {'CV_Recall': 0.6293, 'Test_Recall': 0.7416}}}"
      ]
     },
     "execution_count": 48,
     "metadata": {},
     "output_type": "execute_result"
    }
   ],
   "source": [
    "tuned_sm_model"
   ]
  },
  {
   "cell_type": "markdown",
   "metadata": {},
   "source": [
    "Again, I will explain our results and the issues undersampling causes/solves in the Results and Evaluation section."
   ]
  },
  {
   "cell_type": "markdown",
   "metadata": {},
   "source": [
    "### Topic Model <a class=\"anchor\" id=\"Topic_Model\"></a>"
   ]
  },
  {
   "cell_type": "markdown",
   "metadata": {},
   "source": [
    "I used a Gibbs Sampling Dirichlet Multinomial Mixture, or GDSMM for short, for my topic model. It is essentially a modified Latent Dirichlet Allocation (LDA) which assumes that a document only has one topic. This is different than LDA which assumes that a document can have multiple topics. This is perfect for what we’re are hoping to accomplish when looking at trade chat for player feedback since the text is usually short and to the point. Here we have the top eight clusters that the model provided.\n",
    "\n",
    "So a great analogy of describing GDSMM is called the, “Movie Group Approach”. Imagine a group of students (documents) who all have a list of favorite movies (words). The students are randomly assigned to K tables. At the instruction of a teacher. the students must shuffle tables with 2 rules in mind: \n",
    "1. Find a table with more students \n",
    "2. Pick a table where your film interests align with those at the table. \n",
    "\n",
    "You repeat this process until you reach a plateau where the number of clusters does not change. "
   ]
  },
  {
   "cell_type": "markdown",
   "metadata": {},
   "source": [
    "A downside about GDSMM is that it doesn't have all the features of LDA. By features, I mean being able to reproduce clusters and charting the process.\n",
    "\n",
    "We will only use negative game related chat here to create our player feedback."
   ]
  },
  {
   "cell_type": "code",
   "execution_count": 53,
   "metadata": {},
   "outputs": [],
   "source": [
    "# importing the GDSMM model\n",
    "from gsdmm import MovieGroupProcess\n",
    "import gensim"
   ]
  },
  {
   "cell_type": "code",
   "execution_count": 54,
   "metadata": {},
   "outputs": [
    {
     "data": {
      "text/plain": [
       "Negative    417\n",
       "Name: sentiment, dtype: int64"
      ]
     },
     "execution_count": 54,
     "metadata": {},
     "output_type": "execute_result"
    }
   ],
   "source": [
    "# further filtering of text with only negative sentiment\n",
    "tm_df_token = sm_df_token[sm_df_token.sentiment == \"Negative\"]\n",
    "\n",
    "tm_df_token.sentiment.value_counts()"
   ]
  },
  {
   "cell_type": "markdown",
   "metadata": {},
   "source": [
    "#### GDSMM: Short Text Clustering <a class=\"anchor\" id=\"GDSMM\"></a>"
   ]
  },
  {
   "cell_type": "code",
   "execution_count": 56,
   "metadata": {},
   "outputs": [
    {
     "data": {
      "text/plain": [
       "1790"
      ]
     },
     "execution_count": 56,
     "metadata": {},
     "output_type": "execute_result"
    }
   ],
   "source": [
    "# assigning the tokenized text into docs\n",
    "docs = tm_df_token.text_tokenized\n",
    "\n",
    "# establishing our Dictionary object\n",
    "dictionary = gensim.corpora.Dictionary(docs)\n",
    "\n",
    "# checking the number of non zero elements\n",
    "dictionary.num_nnz"
   ]
  },
  {
   "cell_type": "code",
   "execution_count": 57,
   "metadata": {},
   "outputs": [
    {
     "data": {
      "text/plain": [
       "881"
      ]
     },
     "execution_count": 57,
     "metadata": {},
     "output_type": "execute_result"
    }
   ],
   "source": [
    "# grabbing or voacb length\n",
    "vocab_len = len(dictionary)\n",
    "\n",
    "vocab_len"
   ]
  },
  {
   "cell_type": "code",
   "execution_count": 58,
   "metadata": {},
   "outputs": [
    {
     "name": "stdout",
     "output_type": "stream",
     "text": [
      "In stage 0: transferred 377 clusters with 50 clusters populated\n",
      "In stage 1: transferred 307 clusters with 45 clusters populated\n",
      "In stage 2: transferred 261 clusters with 38 clusters populated\n",
      "In stage 3: transferred 260 clusters with 40 clusters populated\n",
      "In stage 4: transferred 250 clusters with 38 clusters populated\n",
      "In stage 5: transferred 239 clusters with 32 clusters populated\n",
      "In stage 6: transferred 234 clusters with 33 clusters populated\n",
      "In stage 7: transferred 242 clusters with 29 clusters populated\n",
      "In stage 8: transferred 226 clusters with 30 clusters populated\n",
      "In stage 9: transferred 206 clusters with 33 clusters populated\n",
      "In stage 10: transferred 227 clusters with 32 clusters populated\n",
      "In stage 11: transferred 223 clusters with 29 clusters populated\n",
      "In stage 12: transferred 236 clusters with 31 clusters populated\n",
      "In stage 13: transferred 227 clusters with 32 clusters populated\n",
      "In stage 14: transferred 223 clusters with 33 clusters populated\n",
      "In stage 15: transferred 210 clusters with 31 clusters populated\n",
      "In stage 16: transferred 225 clusters with 30 clusters populated\n",
      "In stage 17: transferred 211 clusters with 30 clusters populated\n",
      "In stage 18: transferred 219 clusters with 32 clusters populated\n",
      "In stage 19: transferred 220 clusters with 30 clusters populated\n",
      "In stage 20: transferred 218 clusters with 33 clusters populated\n",
      "In stage 21: transferred 217 clusters with 33 clusters populated\n",
      "In stage 22: transferred 227 clusters with 35 clusters populated\n",
      "In stage 23: transferred 224 clusters with 34 clusters populated\n",
      "In stage 24: transferred 236 clusters with 32 clusters populated\n",
      "In stage 25: transferred 227 clusters with 33 clusters populated\n",
      "In stage 26: transferred 234 clusters with 29 clusters populated\n",
      "In stage 27: transferred 220 clusters with 30 clusters populated\n",
      "In stage 28: transferred 226 clusters with 34 clusters populated\n",
      "In stage 29: transferred 214 clusters with 33 clusters populated\n"
     ]
    }
   ],
   "source": [
    "# instancing the model and fitting it to our data and vocab length\n",
    "gsdmm = MovieGroupProcess(K=50, alpha=0.1, beta=0.1, n_iters=30)\n",
    "y = gsdmm.fit(docs, vocab_len)"
   ]
  },
  {
   "cell_type": "code",
   "execution_count": 59,
   "metadata": {},
   "outputs": [
    {
     "name": "stdout",
     "output_type": "stream",
     "text": [
      "Top Clusters: [ 5 25 44 46  0 38 47 18 11 14 12  6 37 35  7]\n"
     ]
    }
   ],
   "source": [
    "# Grabbing the number of docs per topic\n",
    "doc_count = np.array(gsdmm.cluster_doc_count)\n",
    "\n",
    "# Checking which clusters had the highest number of docs inside\n",
    "top_index = doc_count.argsort()[-15:][::-1]\n",
    "print('Top Clusters:', top_index)"
   ]
  },
  {
   "cell_type": "code",
   "execution_count": null,
   "metadata": {},
   "outputs": [],
   "source": []
  },
  {
   "cell_type": "markdown",
   "metadata": {},
   "source": [
    "## <b><u>Results and Evaluation</u></b> <a class=\"anchor\" id=\"Results_and_Evaluation\"></a>"
   ]
  },
  {
   "cell_type": "markdown",
   "metadata": {},
   "source": [
    "## <b><u>Suggestions</u></b> <a class=\"anchor\" id=\"Suggestions\"></a>\n",
    "For our suggestions based on player feedback, Blizzard Entertainment should focus on three areas. \n",
    "1. Increase server stability during launch of new content. \n",
    "\n",
    "2. Have players vote for their class armor set appearance to help reduce the amount of negative sentiment towards it. \n",
    "\n",
    "3. Debug the quest called “A Hasty Voyage” to allow players to enter the new zone introduced in patch 9.2, Eternity's End without issues."
   ]
  },
  {
   "cell_type": "markdown",
   "metadata": {},
   "source": [
    "## <b><u>Future Research</u></b> <a class=\"anchor\" id=\"Future_Research\"></a>\n",
    "Moving into future reasearch, I would focus on the following:\n",
    "\n",
    "1. Gather data from all servers and regions to highlight topics with the most negative sentiment. This will also allow us to find the differences between player interests per region and it could help my models better predict topic and sentiment.\n",
    "\n",
    "2. Place a non-player character, better known as NPC, in all major player hubs where players can be given sentiment based multiple choice questions on current and new game features. This will allow for a constant and friction less flow of player feedback.\n",
    "\n",
    "3. Adapt my models to track harassment and block it so as to not deter newer players from World of Warcraft. "
   ]
  },
  {
   "cell_type": "markdown",
   "metadata": {},
   "source": [
    "## <b><u>For More Information</u></b> <a class=\"anchor\" id=\"Contact\"></a>\n",
    "Feel free to contact me through the below links if you have any questions.\n",
    "\n",
    "Edel Prado | Data Scientist: \n",
    "[ [LinkedIn](https://www.linkedin.com/in/edel-prado-jr/) ] [ [Email](edel.prado.jr@gmail.com) ]"
   ]
  },
  {
   "cell_type": "markdown",
   "metadata": {},
   "source": []
  }
 ],
 "metadata": {
  "interpreter": {
   "hash": "ce44a702b02733a9232183ef5c0ee42f7cc3d160dcee613be946c15e64094c96"
  },
  "kernelspec": {
   "display_name": "Python 3.9.10 64-bit (windows store)",
   "language": "python",
   "name": "python3"
  },
  "language_info": {
   "codemirror_mode": {
    "name": "ipython",
    "version": 3
   },
   "file_extension": ".py",
   "mimetype": "text/x-python",
   "name": "python",
   "nbconvert_exporter": "python",
   "pygments_lexer": "ipython3",
   "version": "3.8.12"
  },
  "orig_nbformat": 4
 },
 "nbformat": 4,
 "nbformat_minor": 2
}
