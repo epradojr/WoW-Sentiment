{
 "cells": [
  {
   "cell_type": "markdown",
   "metadata": {},
   "source": [
    "# Sentiment Model Building"
   ]
  },
  {
   "cell_type": "markdown",
   "metadata": {},
   "source": [
    "What this model should do:\n",
    "\n",
    "    - The model should be fed text from trade_chat_v3.csv. In this case, it will ONLY be fed Game catagorized text which was done in the previous model (classification model)."
   ]
  },
  {
   "cell_type": "markdown",
   "metadata": {},
   "source": [
    "## Imports"
   ]
  },
  {
   "cell_type": "code",
   "execution_count": 55,
   "metadata": {},
   "outputs": [],
   "source": [
    "import pandas as pd\n",
    "import numpy as np\n",
    "import seaborn as sns\n",
    "import matplotlib.pyplot as plt\n",
    "\n",
    "# Modeling imports\n",
    "from sklearn.pipeline import Pipeline\n",
    "from sklearn.model_selection import GridSearchCV\n",
    "from sklearn.feature_extraction.text import CountVectorizer\n",
    "from sklearn.feature_extraction.text import TfidfTransformer\n",
    "from sklearn.linear_model import SGDClassifier, LogisticRegression\n",
    "from sklearn.svm import SVC\n",
    "from sklearn.ensemble import RandomForestClassifier\n",
    "from sklearn.naive_bayes import MultinomialNB\n",
    "\n",
    "from sklearn.metrics import accuracy_score, confusion_matrix, classification_report, precision_score, recall_score\n",
    "from sklearn.model_selection import train_test_split, cross_val_score\n",
    "import time\n",
    "\n",
    "from functions import TradeChat\n",
    "tc = TradeChat()\n",
    "\n",
    "SEED = 22"
   ]
  },
  {
   "cell_type": "code",
   "execution_count": 2,
   "metadata": {},
   "outputs": [],
   "source": [
    "%store -r sm_df_token\n",
    "df = sm_df_token"
   ]
  },
  {
   "cell_type": "code",
   "execution_count": 56,
   "metadata": {},
   "outputs": [
    {
     "data": {
      "text/html": [
       "<div>\n",
       "<style scoped>\n",
       "    .dataframe tbody tr th:only-of-type {\n",
       "        vertical-align: middle;\n",
       "    }\n",
       "\n",
       "    .dataframe tbody tr th {\n",
       "        vertical-align: top;\n",
       "    }\n",
       "\n",
       "    .dataframe thead th {\n",
       "        text-align: right;\n",
       "    }\n",
       "</style>\n",
       "<table border=\"1\" class=\"dataframe\">\n",
       "  <thead>\n",
       "    <tr style=\"text-align: right;\">\n",
       "      <th></th>\n",
       "      <th>date</th>\n",
       "      <th>time</th>\n",
       "      <th>text</th>\n",
       "      <th>sentiment</th>\n",
       "      <th>target</th>\n",
       "      <th>text_tokenized</th>\n",
       "      <th>joined_tokens</th>\n",
       "    </tr>\n",
       "  </thead>\n",
       "  <tbody>\n",
       "    <tr>\n",
       "      <th>0</th>\n",
       "      <td>2/22/2022</td>\n",
       "      <td>8:39:23 AM</td>\n",
       "      <td>i dont want servers to go down in 20 mins d:</td>\n",
       "      <td>Negative</td>\n",
       "      <td>Game</td>\n",
       "      <td>[want, servers, go, mins]</td>\n",
       "      <td>want servers go mins</td>\n",
       "    </tr>\n",
       "    <tr>\n",
       "      <th>1</th>\n",
       "      <td>2/22/2022</td>\n",
       "      <td>6:09:27 PM</td>\n",
       "      <td>and its going to be forever</td>\n",
       "      <td>Negative</td>\n",
       "      <td>Game</td>\n",
       "      <td>[going, forever]</td>\n",
       "      <td>going forever</td>\n",
       "    </tr>\n",
       "    <tr>\n",
       "      <th>2</th>\n",
       "      <td>2/23/2022</td>\n",
       "      <td>7:47:37 PM</td>\n",
       "      <td>the new sets almost all look like shit lmao</td>\n",
       "      <td>Negative</td>\n",
       "      <td>Game</td>\n",
       "      <td>[new, sets, almost, look, like, shit, lmao]</td>\n",
       "      <td>new sets almost look like shit lmao</td>\n",
       "    </tr>\n",
       "    <tr>\n",
       "      <th>3</th>\n",
       "      <td>2/23/2022</td>\n",
       "      <td>4:47:36 PM</td>\n",
       "      <td>is anyone elses bnet friendas list broken?</td>\n",
       "      <td>Negative</td>\n",
       "      <td>Game</td>\n",
       "      <td>[anyone, elses, bnet, friendas, list, broken]</td>\n",
       "      <td>anyone elses bnet friendas list broken</td>\n",
       "    </tr>\n",
       "    <tr>\n",
       "      <th>4</th>\n",
       "      <td>2/22/2022</td>\n",
       "      <td>8:59:00 PM</td>\n",
       "      <td>org is very broke</td>\n",
       "      <td>Negative</td>\n",
       "      <td>Game</td>\n",
       "      <td>[org, broke]</td>\n",
       "      <td>org broke</td>\n",
       "    </tr>\n",
       "    <tr>\n",
       "      <th>...</th>\n",
       "      <td>...</td>\n",
       "      <td>...</td>\n",
       "      <td>...</td>\n",
       "      <td>...</td>\n",
       "      <td>...</td>\n",
       "      <td>...</td>\n",
       "      <td>...</td>\n",
       "    </tr>\n",
       "    <tr>\n",
       "      <th>829</th>\n",
       "      <td>2/23/2022</td>\n",
       "      <td>10:31:36 AM</td>\n",
       "      <td>;0</td>\n",
       "      <td>Other</td>\n",
       "      <td>Game</td>\n",
       "      <td>[other]</td>\n",
       "      <td>other</td>\n",
       "    </tr>\n",
       "    <tr>\n",
       "      <th>830</th>\n",
       "      <td>2/23/2022</td>\n",
       "      <td>2:05:59 PM</td>\n",
       "      <td>so what happened to all the teleport an porta...</td>\n",
       "      <td>Other</td>\n",
       "      <td>Game</td>\n",
       "      <td>[happened, teleport, portal, spells]</td>\n",
       "      <td>happened teleport portal spells</td>\n",
       "    </tr>\n",
       "    <tr>\n",
       "      <th>831</th>\n",
       "      <td>2/23/2022</td>\n",
       "      <td>12:57:57 AM</td>\n",
       "      <td>i went from 64 renown to 80 through the quests.</td>\n",
       "      <td>Other</td>\n",
       "      <td>Game</td>\n",
       "      <td>[went, renown, quests]</td>\n",
       "      <td>went renown quests</td>\n",
       "    </tr>\n",
       "    <tr>\n",
       "      <th>832</th>\n",
       "      <td>2/22/2022</td>\n",
       "      <td>5:00:48 PM</td>\n",
       "      <td>the jailer's gauntlet: layer 4</td>\n",
       "      <td>Other</td>\n",
       "      <td>Game</td>\n",
       "      <td>[jailer, gauntlet, layer]</td>\n",
       "      <td>jailer gauntlet layer</td>\n",
       "    </tr>\n",
       "    <tr>\n",
       "      <th>833</th>\n",
       "      <td>2/23/2022</td>\n",
       "      <td>3:15:44 PM</td>\n",
       "      <td>where is the lk?</td>\n",
       "      <td>Other</td>\n",
       "      <td>Game</td>\n",
       "      <td>[lk]</td>\n",
       "      <td>lk</td>\n",
       "    </tr>\n",
       "  </tbody>\n",
       "</table>\n",
       "<p>834 rows × 7 columns</p>\n",
       "</div>"
      ],
      "text/plain": [
       "          date         time  \\\n",
       "0    2/22/2022   8:39:23 AM   \n",
       "1    2/22/2022   6:09:27 PM   \n",
       "2    2/23/2022   7:47:37 PM   \n",
       "3    2/23/2022   4:47:36 PM   \n",
       "4    2/22/2022   8:59:00 PM   \n",
       "..         ...          ...   \n",
       "829  2/23/2022  10:31:36 AM   \n",
       "830  2/23/2022   2:05:59 PM   \n",
       "831  2/23/2022  12:57:57 AM   \n",
       "832  2/22/2022   5:00:48 PM   \n",
       "833  2/23/2022   3:15:44 PM   \n",
       "\n",
       "                                                  text sentiment target  \\\n",
       "0         i dont want servers to go down in 20 mins d:  Negative   Game   \n",
       "1                          and its going to be forever  Negative   Game   \n",
       "2          the new sets almost all look like shit lmao  Negative   Game   \n",
       "3           is anyone elses bnet friendas list broken?  Negative   Game   \n",
       "4                                    org is very broke  Negative   Game   \n",
       "..                                                 ...       ...    ...   \n",
       "829                                                 ;0     Other   Game   \n",
       "830   so what happened to all the teleport an porta...     Other   Game   \n",
       "831    i went from 64 renown to 80 through the quests.     Other   Game   \n",
       "832                     the jailer's gauntlet: layer 4     Other   Game   \n",
       "833                                   where is the lk?     Other   Game   \n",
       "\n",
       "                                    text_tokenized  \\\n",
       "0                        [want, servers, go, mins]   \n",
       "1                                 [going, forever]   \n",
       "2      [new, sets, almost, look, like, shit, lmao]   \n",
       "3    [anyone, elses, bnet, friendas, list, broken]   \n",
       "4                                     [org, broke]   \n",
       "..                                             ...   \n",
       "829                                        [other]   \n",
       "830           [happened, teleport, portal, spells]   \n",
       "831                         [went, renown, quests]   \n",
       "832                      [jailer, gauntlet, layer]   \n",
       "833                                           [lk]   \n",
       "\n",
       "                              joined_tokens  \n",
       "0                      want servers go mins  \n",
       "1                             going forever  \n",
       "2       new sets almost look like shit lmao  \n",
       "3    anyone elses bnet friendas list broken  \n",
       "4                                 org broke  \n",
       "..                                      ...  \n",
       "829                                   other  \n",
       "830         happened teleport portal spells  \n",
       "831                      went renown quests  \n",
       "832                   jailer gauntlet layer  \n",
       "833                                      lk  \n",
       "\n",
       "[834 rows x 7 columns]"
      ]
     },
     "execution_count": 56,
     "metadata": {},
     "output_type": "execute_result"
    }
   ],
   "source": [
    "df = tc.down_sample(df, 'sentiment')\n",
    "df"
   ]
  },
  {
   "cell_type": "code",
   "execution_count": 57,
   "metadata": {},
   "outputs": [
    {
     "data": {
      "text/plain": [
       "Other       417\n",
       "Negative    417\n",
       "Name: sentiment, dtype: int64"
      ]
     },
     "execution_count": 57,
     "metadata": {},
     "output_type": "execute_result"
    }
   ],
   "source": [
    "df.sentiment.value_counts()"
   ]
  },
  {
   "cell_type": "code",
   "execution_count": 58,
   "metadata": {},
   "outputs": [],
   "source": [
    "X = df.joined_tokens\n",
    "y = df.sentiment.replace(['Negative','Other'],[0,1])\n",
    "\n",
    "model_perf = {}\n",
    "model_labels = ['Negative', 'Non-negative']"
   ]
  },
  {
   "cell_type": "code",
   "execution_count": 59,
   "metadata": {},
   "outputs": [],
   "source": [
    "X_train, X_test, y_train, y_test = train_test_split(X, y, test_size= 0.25, random_state=22)\n"
   ]
  },
  {
   "cell_type": "code",
   "execution_count": 60,
   "metadata": {},
   "outputs": [],
   "source": [
    "def run_model(estimator, X_train, y_train, X_test, y_test, cv):\n",
    "\n",
    "  start = time.time()\n",
    "  pipe = Pipeline(\n",
    "      [ ('vect', CountVectorizer()),\n",
    "        ('tfidf', TfidfTransformer()),\n",
    "        ('clf', estimator)\n",
    "      ])\n",
    "  \n",
    "  pipe.fit(X_train, y_train)\n",
    "  end = time.time()\n",
    "\n",
    "  cv_acc = round(np.mean(cross_val_score(pipe, X_train, y_train, cv= cv, scoring= 'accuracy')),4)\n",
    "  cv_rec = round(np.mean(cross_val_score(pipe, X_train, y_train, cv= cv, scoring= 'recall')),4)\n",
    "\n",
    "\n",
    "  y_pred = pipe.predict(X_test)\n",
    "\n",
    "  test_acc = round(accuracy_score(y_pred, y_test), 4)\n",
    "  test_rec = round(recall_score(y_pred, y_test), 4)\n",
    "  \n",
    "  runtime = round((end-start), 4)\n",
    "\n",
    "  cv_dict = {'CV_Accuracy': cv_acc, 'CV_recall': cv_rec, 'Test_Accuracy': test_acc, 'Test_Recall': test_rec, 'Run Time': runtime}\n",
    "\n",
    "\n",
    "  return( pipe, cv_dict, y_pred)"
   ]
  },
  {
   "cell_type": "markdown",
   "metadata": {},
   "source": [
    "## Base Models"
   ]
  },
  {
   "cell_type": "code",
   "execution_count": 61,
   "metadata": {},
   "outputs": [],
   "source": [
    "sgd = SGDClassifier(random_state=SEED)\n",
    "svc = SVC(random_state=SEED)\n",
    "lr = LogisticRegression(random_state=SEED)\n",
    "nb = MultinomialNB()\n",
    "rf = RandomForestClassifier(random_state=SEED)\n",
    "\n",
    "models = {'SGD': sgd, 'SVC': svc, 'LogReg': lr, 'Naive': nb, 'RFC': rf}\n"
   ]
  },
  {
   "cell_type": "code",
   "execution_count": 62,
   "metadata": {},
   "outputs": [
    {
     "name": "stdout",
     "output_type": "stream",
     "text": [
      "Showing results for: SGD\n",
      "{'Model': Pipeline(steps=[('vect', CountVectorizer()), ('tfidf', TfidfTransformer()),\n",
      "                ('clf', SGDClassifier(random_state=22))]), 'Performace': {'CV_Accuracy': 0.6448, 'CV_recall': 0.5942, 'Test_Accuracy': 0.6699, 'Test_Recall': 0.6882, 'Run Time': 0.015}}\n",
      "\n",
      "Showing results for: SVC\n",
      "{'Model': Pipeline(steps=[('vect', CountVectorizer()), ('tfidf', TfidfTransformer()),\n",
      "                ('clf', SVC(random_state=22))]), 'Performace': {'CV_Accuracy': 0.6592, 'CV_recall': 0.5879, 'Test_Accuracy': 0.689, 'Test_Recall': 0.7053, 'Run Time': 0.032}}\n",
      "\n",
      "Showing results for: LogReg\n",
      "{'Model': Pipeline(steps=[('vect', CountVectorizer()), ('tfidf', TfidfTransformer()),\n",
      "                ('clf', LogisticRegression(random_state=22))]), 'Performace': {'CV_Accuracy': 0.6464, 'CV_recall': 0.5816, 'Test_Accuracy': 0.6938, 'Test_Recall': 0.7174, 'Run Time': 0.023}}\n",
      "\n",
      "Showing results for: Naive\n",
      "{'Model': Pipeline(steps=[('vect', CountVectorizer()), ('tfidf', TfidfTransformer()),\n",
      "                ('clf', MultinomialNB())]), 'Performace': {'CV_Accuracy': 0.6432, 'CV_recall': 0.6201, 'Test_Accuracy': 0.6794, 'Test_Recall': 0.6796, 'Run Time': 0.009}}\n",
      "\n",
      "Showing results for: RFC\n",
      "{'Model': Pipeline(steps=[('vect', CountVectorizer()), ('tfidf', TfidfTransformer()),\n",
      "                ('clf', RandomForestClassifier(random_state=22))]), 'Performace': {'CV_Accuracy': 0.64, 'CV_recall': 0.4056, 'Test_Accuracy': 0.6555, 'Test_Recall': 0.7353, 'Run Time': 0.274}}\n",
      "\n"
     ]
    },
    {
     "data": {
      "image/png": "[encoded data removed]",
      "text/plain": [
       "<Figure size 576x432 with 2 Axes>"
      ]
     },
     "metadata": {
      "needs_background": "light"
     },
     "output_type": "display_data"
    },
    {
     "data": {
      "image/png": "[encoded data removed]",
      "text/plain": [
       "<Figure size 576x432 with 2 Axes>"
      ]
     },
     "metadata": {
      "needs_background": "light"
     },
     "output_type": "display_data"
    },
    {
     "data": {
      "image/png": "[encoded data removed]",
      "text/plain": [
       "<Figure size 576x432 with 2 Axes>"
      ]
     },
     "metadata": {
      "needs_background": "light"
     },
     "output_type": "display_data"
    },
    {
     "data": {
      "image/png": "[encoded data removed]",
      "text/plain": [
       "<Figure size 576x432 with 2 Axes>"
      ]
     },
     "metadata": {
      "needs_background": "light"
     },
     "output_type": "display_data"
    },
    {
     "data": {
      "image/png": "[encoded data removed]",
      "text/plain": [
       "<Figure size 576x432 with 2 Axes>"
      ]
     },
     "metadata": {
      "needs_background": "light"
     },
     "output_type": "display_data"
    }
   ],
   "source": [
    "for key, model in models.items():\n",
    "\n",
    "    model, cv_dict, y_pred = run_model(model, X_train, y_train, X_test, y_test, 5)\n",
    "    model_perf[key] = {'Model': model, 'Performace': cv_dict}\n",
    "\n",
    "    print(f'Showing results for: {key}')\n",
    "    print(model_perf[key])\n",
    "    print()\n",
    "\n",
    "    cm = confusion_matrix(y_test, y_pred)\n",
    "    fig, ax = plt.subplots(figsize=(8,6))\n",
    "\n",
    "    sns.heatmap(cm/np.sum(cm), annot=True, fmt='.2%', cmap='Blues', xticklabels= model_labels, yticklabels= model_labels)\n",
    "    ax.set_title(key);\n",
    "\n",
    "\n"
   ]
  },
  {
   "cell_type": "code",
   "execution_count": 63,
   "metadata": {},
   "outputs": [
    {
     "data": {
      "text/plain": [
       "0    105\n",
       "1    104\n",
       "Name: sentiment, dtype: int64"
      ]
     },
     "execution_count": 63,
     "metadata": {},
     "output_type": "execute_result"
    }
   ],
   "source": [
    "y_test.value_counts()"
   ]
  },
  {
   "cell_type": "code",
   "execution_count": 64,
   "metadata": {},
   "outputs": [
    {
     "data": {
      "text/plain": [
       "0    0.502392\n",
       "1    0.497608\n",
       "Name: sentiment, dtype: float64"
      ]
     },
     "execution_count": 64,
     "metadata": {},
     "output_type": "execute_result"
    }
   ],
   "source": [
    "y_test.value_counts(normalize=True)"
   ]
  },
  {
   "cell_type": "markdown",
   "metadata": {},
   "source": [
    "## Tuned Models"
   ]
  },
  {
   "cell_type": "code",
   "execution_count": 65,
   "metadata": {},
   "outputs": [],
   "source": [
    "sgd_params = {\n",
    "    'vect__strip_accents':[None,'ascii','unicode'],\n",
    "    'vect__lowercase': [True, False],\n",
    "    'vect__ngram_range': [(1,1), (1,2), (2,2)],\n",
    "    'tfidf__smooth_idf': [True, False],\n",
    "    'clf__loss': ['hinge','log','modified_huber','squared_hinge'],\n",
    "    'clf__max_iter':[1000,2000],\n",
    "    'clf__class_weight': [None, 'balanced']\n",
    "}\n",
    "\n",
    "svc_params = {\n",
    "    'vect__strip_accents':[None,'ascii','unicode'],\n",
    "    'vect__lowercase': [True, False],\n",
    "    'vect__ngram_range': [(1,1), (1,2), (2,2)],\n",
    "    'tfidf__smooth_idf': [True, False],\n",
    "    'clf__C': [1,5,10],\n",
    "    'clf__kernel': ['linear','poly', 'rbf', 'sigmoid','precomputed'],\n",
    "    'clf__degree': [3,6,9],\n",
    "    'clf__gamma': ['auto', 'scale'],\n",
    "    'clf__class_weight':[None, 'balanced']\n",
    "}\n",
    "\n",
    "lr_params = {\n",
    "    'vect__strip_accents':[None,'ascii','unicode'],\n",
    "    'vect__lowercase': [True, False],\n",
    "    'vect__ngram_range': [(1,1), (1,2), (2,2)],\n",
    "    'tfidf__smooth_idf': [True, False],\n",
    "    'clf__C': [1,5,10],\n",
    "    'clf__solver': ['liblinear','lbfgs', 'sag', 'saga','newton-cg'],\n",
    "    'clf__class_weight': ['balanced', None],\n",
    "    'clf__multi_class': ['auto', 'ovr', 'multinomial'],\n",
    "    'clf__penalty':['l1','l2','elasticnet', 'none']\n",
    "}\n",
    "\n",
    "nb_params = {\n",
    "    'vect__strip_accents':[None,'ascii','unicode'],\n",
    "    'vect__lowercase': [True, False],\n",
    "    'vect__ngram_range': [(1,1), (1,2), (2,2)],\n",
    "    'tfidf__smooth_idf': [True, False]\n",
    "}\n",
    "\n",
    "rf_params = {\n",
    "    'vect__strip_accents':[None,'ascii','unicode'],\n",
    "    'vect__lowercase': [True, False],\n",
    "    'vect__ngram_range': [(1,1), (1,2), (2,2)],\n",
    "    'tfidf__smooth_idf': [True, False],\n",
    "    'clf__n_estimators': [100,200,300,400,500],\n",
    "    'clf__criterion': ['gini','entropy'],\n",
    "    'clf__max_depth': [1,3,5],\n",
    "    'clf__class_weight': [None,'balanced', 'balanced_subsample']\n",
    "}"
   ]
  },
  {
   "cell_type": "code",
   "execution_count": 66,
   "metadata": {},
   "outputs": [],
   "source": [
    "def grid_run(estimator, est_params, X_train, y_train, X_test, y_test, cv, score='accuracy'):\n",
    "\n",
    "  model, cv_dict, y_pred = run_model(estimator, X_train, y_train, X_test, y_test, cv)\n",
    "\n",
    "  grid = GridSearchCV(model,param_grid= est_params, cv=cv, verbose=1, n_jobs=-3, scoring= score)\n",
    "  grid = grid.fit(X_train, y_train)\n",
    "\n",
    "  return(grid)"
   ]
  },
  {
   "cell_type": "code",
   "execution_count": 67,
   "metadata": {},
   "outputs": [],
   "source": [
    "model_params = {'SGD':{sgd:sgd_params}, 'SVC': {svc:svc_params}, 'LogReg': {lr:lr_params}, 'Naive': {nb:nb_params}, 'RFC': {rf:rf_params}}"
   ]
  },
  {
   "cell_type": "code",
   "execution_count": 78,
   "metadata": {},
   "outputs": [
    {
     "name": "stdout",
     "output_type": "stream",
     "text": [
      "----------------------------------------------\n",
      "Now running SGD GridSearch\n",
      "Fitting 5 folds for each of 576 candidates, totalling 2880 fits\n"
     ]
    },
    {
     "name": "stderr",
     "output_type": "stream",
     "text": [
      "[Parallel(n_jobs=-3)]: Using backend LokyBackend with 10 concurrent workers.\n",
      "[Parallel(n_jobs=-3)]: Done  30 tasks      | elapsed:    5.8s\n",
      "[Parallel(n_jobs=-3)]: Done 750 tasks      | elapsed:    9.0s\n",
      "[Parallel(n_jobs=-3)]: Done 2750 tasks      | elapsed:   18.0s\n",
      "[Parallel(n_jobs=-3)]: Done 2880 out of 2880 | elapsed:   18.7s finished\n"
     ]
    },
    {
     "name": "stdout",
     "output_type": "stream",
     "text": [
      "\n",
      "0.6656000000000001\n",
      "{'clf__class_weight': 'balanced', 'clf__loss': 'hinge', 'clf__max_iter': 1000, 'tfidf__smooth_idf': True, 'vect__lowercase': True, 'vect__ngram_range': (1, 2), 'vect__strip_accents': None}\n",
      "\n",
      "----------------------------------------------\n",
      "Now running SVC GridSearch\n",
      "Fitting 5 folds for each of 6480 candidates, totalling 32400 fits\n"
     ]
    },
    {
     "name": "stderr",
     "output_type": "stream",
     "text": [
      "[Parallel(n_jobs=-3)]: Using backend LokyBackend with 10 concurrent workers.\n",
      "[Parallel(n_jobs=-3)]: Done  40 tasks      | elapsed:    0.3s\n",
      "[Parallel(n_jobs=-3)]: Done 620 tasks      | elapsed:    4.3s\n",
      "[Parallel(n_jobs=-3)]: Done 1620 tasks      | elapsed:   11.2s\n",
      "[Parallel(n_jobs=-3)]: Done 3020 tasks      | elapsed:   20.4s\n",
      "[Parallel(n_jobs=-3)]: Done 4820 tasks      | elapsed:   32.0s\n",
      "[Parallel(n_jobs=-3)]: Done 7020 tasks      | elapsed:   47.3s\n",
      "[Parallel(n_jobs=-3)]: Done 9620 tasks      | elapsed:  1.1min\n",
      "[Parallel(n_jobs=-3)]: Done 12620 tasks      | elapsed:  1.4min\n",
      "[Parallel(n_jobs=-3)]: Done 16020 tasks      | elapsed:  1.8min\n",
      "[Parallel(n_jobs=-3)]: Done 19820 tasks      | elapsed:  2.3min\n",
      "[Parallel(n_jobs=-3)]: Done 24020 tasks      | elapsed:  2.7min\n",
      "[Parallel(n_jobs=-3)]: Done 28620 tasks      | elapsed:  3.2min\n",
      "[Parallel(n_jobs=-3)]: Done 32381 out of 32400 | elapsed:  3.6min remaining:    0.0s\n",
      "[Parallel(n_jobs=-3)]: Done 32400 out of 32400 | elapsed:  3.6min finished\n"
     ]
    },
    {
     "name": "stdout",
     "output_type": "stream",
     "text": [
      "\n",
      "0.6704000000000001\n",
      "{'clf__C': 5, 'clf__class_weight': None, 'clf__degree': 3, 'clf__gamma': 'auto', 'clf__kernel': 'linear', 'tfidf__smooth_idf': True, 'vect__lowercase': True, 'vect__ngram_range': (1, 2), 'vect__strip_accents': None}\n",
      "\n",
      "----------------------------------------------\n",
      "Now running LogReg GridSearch\n",
      "Fitting 5 folds for each of 12960 candidates, totalling 64800 fits\n"
     ]
    },
    {
     "name": "stderr",
     "output_type": "stream",
     "text": [
      "[Parallel(n_jobs=-3)]: Using backend LokyBackend with 10 concurrent workers.\n",
      "[Parallel(n_jobs=-3)]: Done  40 tasks      | elapsed:    0.3s\n",
      "[Parallel(n_jobs=-3)]: Done 800 tasks      | elapsed:    3.9s\n",
      "[Parallel(n_jobs=-3)]: Done 2800 tasks      | elapsed:   13.4s\n",
      "[Parallel(n_jobs=-3)]: Done 5120 tasks      | elapsed:   27.7s\n",
      "[Parallel(n_jobs=-3)]: Done 8622 tasks      | elapsed:   48.3s\n",
      "[Parallel(n_jobs=-3)]: Done 10440 tasks      | elapsed:  1.0min\n",
      "[Parallel(n_jobs=-3)]: Done 15280 tasks      | elapsed:  1.4min\n",
      "[Parallel(n_jobs=-3)]: Done 21196 tasks      | elapsed:  2.0min\n",
      "[Parallel(n_jobs=-3)]: Done 23950 tasks      | elapsed:  2.4min\n",
      "[Parallel(n_jobs=-3)]: Done 27840 tasks      | elapsed:  2.9min\n",
      "[Parallel(n_jobs=-3)]: Done 32260 tasks      | elapsed:  3.4min\n",
      "[Parallel(n_jobs=-3)]: Done 36876 tasks      | elapsed:  4.0min\n",
      "[Parallel(n_jobs=-3)]: Done 42570 tasks      | elapsed:  4.7min\n",
      "[Parallel(n_jobs=-3)]: Done 48426 tasks      | elapsed:  6.3min\n",
      "[Parallel(n_jobs=-3)]: Done 53680 tasks      | elapsed:  6.9min\n",
      "[Parallel(n_jobs=-3)]: Done 60070 tasks      | elapsed:  8.3min\n",
      "[Parallel(n_jobs=-3)]: Done 64781 out of 64800 | elapsed:  8.9min remaining:    0.1s\n",
      "[Parallel(n_jobs=-3)]: Done 64800 out of 64800 | elapsed:  8.9min finished\n"
     ]
    },
    {
     "name": "stdout",
     "output_type": "stream",
     "text": [
      "\n",
      "0.6608\n",
      "{'clf__C': 5, 'clf__class_weight': 'balanced', 'clf__multi_class': 'auto', 'clf__penalty': 'l2', 'clf__solver': 'liblinear', 'tfidf__smooth_idf': True, 'vect__lowercase': True, 'vect__ngram_range': (1, 1), 'vect__strip_accents': None}\n",
      "\n",
      "----------------------------------------------\n",
      "Now running Naive GridSearch\n",
      "Fitting 5 folds for each of 36 candidates, totalling 180 fits\n"
     ]
    },
    {
     "name": "stderr",
     "output_type": "stream",
     "text": [
      "[Parallel(n_jobs=-3)]: Using backend LokyBackend with 10 concurrent workers.\n",
      "[Parallel(n_jobs=-3)]: Done  40 tasks      | elapsed:    0.2s\n",
      "[Parallel(n_jobs=-3)]: Done 180 out of 180 | elapsed:    0.8s finished\n"
     ]
    },
    {
     "name": "stdout",
     "output_type": "stream",
     "text": [
      "\n",
      "0.6464000000000001\n",
      "{'tfidf__smooth_idf': False, 'vect__lowercase': True, 'vect__ngram_range': (1, 1), 'vect__strip_accents': None}\n",
      "\n",
      "----------------------------------------------\n",
      "Now running RFC GridSearch\n",
      "Fitting 5 folds for each of 3240 candidates, totalling 16200 fits\n"
     ]
    },
    {
     "name": "stderr",
     "output_type": "stream",
     "text": [
      "[Parallel(n_jobs=-3)]: Using backend LokyBackend with 10 concurrent workers.\n",
      "[Parallel(n_jobs=-3)]: Done  30 tasks      | elapsed:    1.7s\n",
      "[Parallel(n_jobs=-3)]: Done 180 tasks      | elapsed:    8.7s\n",
      "[Parallel(n_jobs=-3)]: Done 430 tasks      | elapsed:   32.1s\n",
      "[Parallel(n_jobs=-3)]: Done 780 tasks      | elapsed:  1.4min\n",
      "[Parallel(n_jobs=-3)]: Done 1230 tasks      | elapsed:  2.2min\n",
      "[Parallel(n_jobs=-3)]: Done 1780 tasks      | elapsed:  3.7min\n",
      "[Parallel(n_jobs=-3)]: Done 2430 tasks      | elapsed:  4.8min\n",
      "[Parallel(n_jobs=-3)]: Done 3180 tasks      | elapsed:  6.2min\n",
      "[Parallel(n_jobs=-3)]: Done 4030 tasks      | elapsed:  8.0min\n",
      "[Parallel(n_jobs=-3)]: Done 4980 tasks      | elapsed: 10.0min\n",
      "[Parallel(n_jobs=-3)]: Done 6030 tasks      | elapsed: 12.3min\n",
      "[Parallel(n_jobs=-3)]: Done 7180 tasks      | elapsed: 15.2min\n",
      "[Parallel(n_jobs=-3)]: Done 8430 tasks      | elapsed: 17.3min\n",
      "[Parallel(n_jobs=-3)]: Done 9780 tasks      | elapsed: 19.8min\n",
      "[Parallel(n_jobs=-3)]: Done 11230 tasks      | elapsed: 22.3min\n",
      "[Parallel(n_jobs=-3)]: Done 12780 tasks      | elapsed: 26.0min\n",
      "[Parallel(n_jobs=-3)]: Done 14430 tasks      | elapsed: 30.0min\n",
      "[Parallel(n_jobs=-3)]: Done 16180 tasks      | elapsed: 34.2min\n",
      "[Parallel(n_jobs=-3)]: Done 16200 out of 16200 | elapsed: 34.2min finished\n"
     ]
    },
    {
     "name": "stdout",
     "output_type": "stream",
     "text": [
      "\n",
      "0.664\n",
      "{'clf__class_weight': 'balanced_subsample', 'clf__criterion': 'entropy', 'clf__max_depth': 1, 'clf__n_estimators': 500, 'tfidf__smooth_idf': True, 'vect__lowercase': True, 'vect__ngram_range': (1, 1), 'vect__strip_accents': None}\n",
      "\n"
     ]
    }
   ],
   "source": [
    "for key, estimators in model_params.items():\n",
    "  for estimator, params in estimators.items():\n",
    "\n",
    "    print('----------------------------------------------')\n",
    "    print(f'Now running {key} GridSearch')\n",
    "\n",
    "    grid = grid_run(estimator, params, X_train, y_train, X_test, y_test, 5, score='accuracy')\n",
    "\n",
    "    print()\n",
    "    print(grid.best_score_)\n",
    "    print(grid.best_params_)\n",
    "    print()"
   ]
  },
  {
   "cell_type": "code",
   "execution_count": 80,
   "metadata": {},
   "outputs": [
    {
     "name": "stdout",
     "output_type": "stream",
     "text": [
      "0.6656 0.6294\n",
      "0.689 0.7053\n"
     ]
    }
   ],
   "source": [
    "# {'clf__class_weight': None, \n",
    "# 'clf__loss': 'log', \n",
    "# 'clf__max_iter': 1000, \n",
    "# 'tfidf__smooth_idf': True, \n",
    "# 'vect__lowercase': True, \n",
    "# 'vect__ngram_range': (2, 2), \n",
    "# 'vect__strip_accents': None}\n",
    "\n",
    "sgd = Pipeline(\n",
    "    [   ('vect', CountVectorizer(ngram_range=(1,2))),\n",
    "        ('tfidf', TfidfTransformer()),\n",
    "        ('clf', SGDClassifier(loss='hinge', class_weight='balanced', random_state=SEED))\n",
    "    ])\n",
    "\n",
    "\n",
    "sgd.fit(X_train, y_train)\n",
    "\n",
    "cv_acc = round(np.mean(cross_val_score(sgd, X_train, y_train, cv= 5, scoring= 'accuracy')),4)\n",
    "cv_rec = round(np.mean(cross_val_score(sgd, X_train, y_train, cv= 5, scoring= 'recall')),4)\n",
    "\n",
    "\n",
    "y_pred = sgd.predict(X_test)\n",
    "\n",
    "test_acc = round(accuracy_score(y_pred, y_test), 4)\n",
    "test_rec = round(recall_score(y_pred, y_test), 4)\n",
    "\n",
    "print(cv_acc, cv_rec)\n",
    "print(test_acc, test_rec)"
   ]
  },
  {
   "cell_type": "code",
   "execution_count": 81,
   "metadata": {},
   "outputs": [
    {
     "data": {
      "image/png": "[encoded data removed]",
      "text/plain": [
       "<Figure size 576x432 with 2 Axes>"
      ]
     },
     "metadata": {
      "needs_background": "light"
     },
     "output_type": "display_data"
    }
   ],
   "source": [
    "cm = confusion_matrix(y_test, y_pred)\n",
    "fig, ax = plt.subplots(figsize=(8,6))\n",
    "\n",
    "sns.heatmap(cm/np.sum(cm), annot=True, fmt='.2%', cmap='Blues', xticklabels= model_labels, yticklabels= model_labels)\n",
    "ax.set_title('SGD');"
   ]
  },
  {
   "cell_type": "code",
   "execution_count": 84,
   "metadata": {},
   "outputs": [
    {
     "name": "stdout",
     "output_type": "stream",
     "text": [
      "0.6704 0.6229\n",
      "0.6699 0.6768\n"
     ]
    }
   ],
   "source": [
    "# {'clf__C': 1, \n",
    "# 'clf__class_weight': None, \n",
    "# 'clf__degree': 3, \n",
    "# 'clf__gamma': 'auto', \n",
    "# 'clf__kernel': 'poly', \n",
    "# 'tfidf__smooth_idf': True, \n",
    "# 'vect__lowercase': True, \n",
    "# 'vect__ngram_range': (1, 1), \n",
    "# 'vect__strip_accents': None}\n",
    "\n",
    "svc = Pipeline(\n",
    "    [   ('vect', CountVectorizer(ngram_range=(1,2))),\n",
    "        ('tfidf', TfidfTransformer()),\n",
    "        ('clf', SVC(C= 5, degree= 3, gamma= 'auto', kernel= 'linear', random_state=SEED))\n",
    "    ])\n",
    "\n",
    "\n",
    "svc.fit(X_train, y_train)\n",
    "\n",
    "cv_acc = round(np.mean(cross_val_score(svc, X_train, y_train, cv= 5, scoring= 'accuracy')),4)\n",
    "cv_rec = round(np.mean(cross_val_score(svc, X_train, y_train, cv= 5, scoring= 'recall')),4)\n",
    "\n",
    "\n",
    "y_pred = svc.predict(X_test)\n",
    "\n",
    "test_acc = round(accuracy_score(y_pred, y_test), 4)\n",
    "test_rec = round(recall_score(y_pred, y_test), 4)\n",
    "\n",
    "print(cv_acc, cv_rec)\n",
    "print(test_acc, test_rec)"
   ]
  },
  {
   "cell_type": "code",
   "execution_count": 85,
   "metadata": {},
   "outputs": [
    {
     "data": {
      "image/png": "[encoded data removed]",
      "text/plain": [
       "<Figure size 576x432 with 2 Axes>"
      ]
     },
     "metadata": {
      "needs_background": "light"
     },
     "output_type": "display_data"
    }
   ],
   "source": [
    "cm = confusion_matrix(y_test, y_pred)\n",
    "fig, ax = plt.subplots(figsize=(8,6))\n",
    "\n",
    "sns.heatmap(cm/np.sum(cm), annot=True, fmt='.2%', cmap='Blues', xticklabels= model_labels, yticklabels= model_labels)\n",
    "ax.set_title('SVC');"
   ]
  },
  {
   "cell_type": "code",
   "execution_count": null,
   "metadata": {},
   "outputs": [],
   "source": []
  }
 ],
 "metadata": {
  "interpreter": {
   "hash": "84ac4771d5764d64b27213ab6683f1ab5061e80733e0bd642ee92a0b0c9907f0"
  },
  "kernelspec": {
   "display_name": "Python 3.8.12 ('learn-env')",
   "language": "python",
   "name": "python3"
  },
  "language_info": {
   "codemirror_mode": {
    "name": "ipython",
    "version": 3
   },
   "file_extension": ".py",
   "mimetype": "text/x-python",
   "name": "python",
   "nbconvert_exporter": "python",
   "pygments_lexer": "ipython3",
   "version": "3.8.12"
  },
  "orig_nbformat": 4
 },
 "nbformat": 4,
 "nbformat_minor": 2
}
