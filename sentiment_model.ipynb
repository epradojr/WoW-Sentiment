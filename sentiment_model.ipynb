{
 "cells": [
  {
   "cell_type": "markdown",
   "metadata": {},
   "source": [
    "# Sentiment Model Building"
   ]
  },
  {
   "cell_type": "markdown",
   "metadata": {},
   "source": [
    "What this model should do:\n",
    "\n",
    "    - The model should be fed text from trade_chat_v3.csv. In this case, it will ONLY be fed Game catagorized text which was done in the previous model (classification model)."
   ]
  },
  {
   "cell_type": "markdown",
   "metadata": {},
   "source": [
    "## Imports"
   ]
  },
  {
   "cell_type": "code",
   "execution_count": 1,
   "metadata": {},
   "outputs": [],
   "source": [
    "import pandas as pd\n",
    "import numpy as np\n",
    "import seaborn as sns\n",
    "import matplotlib.pyplot as plt\n",
    "\n",
    "# Modeling imports\n",
    "from sklearn.pipeline import Pipeline\n",
    "from sklearn.model_selection import GridSearchCV\n",
    "from sklearn.feature_extraction.text import CountVectorizer\n",
    "from sklearn.feature_extraction.text import TfidfTransformer\n",
    "from sklearn.linear_model import SGDClassifier, LogisticRegression\n",
    "from sklearn.svm import SVC\n",
    "from sklearn.ensemble import RandomForestClassifier\n",
    "from sklearn.naive_bayes import MultinomialNB\n",
    "\n",
    "from sklearn.metrics import accuracy_score, confusion_matrix, classification_report, precision_score, recall_score\n",
    "from sklearn.model_selection import train_test_split, cross_val_score\n",
    "import time\n",
    "\n",
    "from functions import TradeChat\n",
    "tc = TradeChat()\n",
    "\n",
    "SEED = 22"
   ]
  },
  {
   "cell_type": "code",
   "execution_count": 2,
   "metadata": {},
   "outputs": [],
   "source": [
    "%store -r sm_df_token\n",
    "df = sm_df_token"
   ]
  },
  {
   "cell_type": "code",
   "execution_count": 3,
   "metadata": {},
   "outputs": [
    {
     "data": {
      "text/html": [
       "<div>\n",
       "<style scoped>\n",
       "    .dataframe tbody tr th:only-of-type {\n",
       "        vertical-align: middle;\n",
       "    }\n",
       "\n",
       "    .dataframe tbody tr th {\n",
       "        vertical-align: top;\n",
       "    }\n",
       "\n",
       "    .dataframe thead th {\n",
       "        text-align: right;\n",
       "    }\n",
       "</style>\n",
       "<table border=\"1\" class=\"dataframe\">\n",
       "  <thead>\n",
       "    <tr style=\"text-align: right;\">\n",
       "      <th></th>\n",
       "      <th>date</th>\n",
       "      <th>time</th>\n",
       "      <th>text</th>\n",
       "      <th>sentiment</th>\n",
       "      <th>target</th>\n",
       "      <th>text_tokenized</th>\n",
       "      <th>joined_tokens</th>\n",
       "    </tr>\n",
       "  </thead>\n",
       "  <tbody>\n",
       "    <tr>\n",
       "      <th>0</th>\n",
       "      <td>2/22/2022</td>\n",
       "      <td>8:08:08 PM</td>\n",
       "      <td>well penis</td>\n",
       "      <td>Negative</td>\n",
       "      <td>Game</td>\n",
       "      <td>[well, penis]</td>\n",
       "      <td>well penis</td>\n",
       "    </tr>\n",
       "    <tr>\n",
       "      <th>1</th>\n",
       "      <td>2/23/2022</td>\n",
       "      <td>7:43:05 PM</td>\n",
       "      <td>new hunter set is kinda ass lmao</td>\n",
       "      <td>Negative</td>\n",
       "      <td>Game</td>\n",
       "      <td>[new, hunter, set, kinda, ass, lmao]</td>\n",
       "      <td>new hunter set kinda ass lmao</td>\n",
       "    </tr>\n",
       "    <tr>\n",
       "      <th>2</th>\n",
       "      <td>2/22/2022</td>\n",
       "      <td>8:14:50 AM</td>\n",
       "      <td>prolly honestly 12 hours</td>\n",
       "      <td>Negative</td>\n",
       "      <td>Game</td>\n",
       "      <td>[prolly, honestly, hours]</td>\n",
       "      <td>prolly honestly hours</td>\n",
       "    </tr>\n",
       "    <tr>\n",
       "      <th>3</th>\n",
       "      <td>2/22/2022</td>\n",
       "      <td>8:58:55 PM</td>\n",
       "      <td>pvp gear is the same??? the whole purpose of ...</td>\n",
       "      <td>Negative</td>\n",
       "      <td>Game</td>\n",
       "      <td>[pvp, gear, whole, purpose, wow, pvp]</td>\n",
       "      <td>pvp gear whole purpose wow pvp</td>\n",
       "    </tr>\n",
       "    <tr>\n",
       "      <th>4</th>\n",
       "      <td>2/23/2022</td>\n",
       "      <td>1:05:25 AM</td>\n",
       "      <td>whats up with ogrimmar? cant tp there</td>\n",
       "      <td>Negative</td>\n",
       "      <td>Game</td>\n",
       "      <td>[whats, ogrimmar, cant, tp]</td>\n",
       "      <td>whats ogrimmar cant tp</td>\n",
       "    </tr>\n",
       "    <tr>\n",
       "      <th>...</th>\n",
       "      <td>...</td>\n",
       "      <td>...</td>\n",
       "      <td>...</td>\n",
       "      <td>...</td>\n",
       "      <td>...</td>\n",
       "      <td>...</td>\n",
       "      <td>...</td>\n",
       "    </tr>\n",
       "    <tr>\n",
       "      <th>829</th>\n",
       "      <td>2/22/2022</td>\n",
       "      <td>8:14:50 AM</td>\n",
       "      <td>thanks bros</td>\n",
       "      <td>Other</td>\n",
       "      <td>Game</td>\n",
       "      <td>[thanks, bros]</td>\n",
       "      <td>thanks bros</td>\n",
       "    </tr>\n",
       "    <tr>\n",
       "      <th>830</th>\n",
       "      <td>2/22/2022</td>\n",
       "      <td>6:10:41 PM</td>\n",
       "      <td>lol</td>\n",
       "      <td>Other</td>\n",
       "      <td>Game</td>\n",
       "      <td>[lol]</td>\n",
       "      <td>lol</td>\n",
       "    </tr>\n",
       "    <tr>\n",
       "      <th>831</th>\n",
       "      <td>2/23/2022</td>\n",
       "      <td>11:02:13 AM</td>\n",
       "      <td>find the most expensive farmable resource and...</td>\n",
       "      <td>Other</td>\n",
       "      <td>Game</td>\n",
       "      <td>[find, expensive, farmable, resource, go, farm]</td>\n",
       "      <td>find expensive farmable resource go farm</td>\n",
       "    </tr>\n",
       "    <tr>\n",
       "      <th>832</th>\n",
       "      <td>2/23/2022</td>\n",
       "      <td>6:50:05 PM</td>\n",
       "      <td>ddungeonss and quests</td>\n",
       "      <td>Other</td>\n",
       "      <td>Game</td>\n",
       "      <td>[ddungeonss, quests]</td>\n",
       "      <td>ddungeonss quests</td>\n",
       "    </tr>\n",
       "    <tr>\n",
       "      <th>833</th>\n",
       "      <td>2/23/2022</td>\n",
       "      <td>12:57:19 PM</td>\n",
       "      <td>mortal strike brrrrrrr</td>\n",
       "      <td>Other</td>\n",
       "      <td>Game</td>\n",
       "      <td>[mortal, strike, brrrrrrr]</td>\n",
       "      <td>mortal strike brrrrrrr</td>\n",
       "    </tr>\n",
       "  </tbody>\n",
       "</table>\n",
       "<p>834 rows × 7 columns</p>\n",
       "</div>"
      ],
      "text/plain": [
       "          date         time  \\\n",
       "0    2/22/2022   8:08:08 PM   \n",
       "1    2/23/2022   7:43:05 PM   \n",
       "2    2/22/2022   8:14:50 AM   \n",
       "3    2/22/2022   8:58:55 PM   \n",
       "4    2/23/2022   1:05:25 AM   \n",
       "..         ...          ...   \n",
       "829  2/22/2022   8:14:50 AM   \n",
       "830  2/22/2022   6:10:41 PM   \n",
       "831  2/23/2022  11:02:13 AM   \n",
       "832  2/23/2022   6:50:05 PM   \n",
       "833  2/23/2022  12:57:19 PM   \n",
       "\n",
       "                                                  text sentiment target  \\\n",
       "0                                           well penis  Negative   Game   \n",
       "1                     new hunter set is kinda ass lmao  Negative   Game   \n",
       "2                             prolly honestly 12 hours  Negative   Game   \n",
       "3     pvp gear is the same??? the whole purpose of ...  Negative   Game   \n",
       "4                whats up with ogrimmar? cant tp there  Negative   Game   \n",
       "..                                                 ...       ...    ...   \n",
       "829                                        thanks bros     Other   Game   \n",
       "830                                                lol     Other   Game   \n",
       "831   find the most expensive farmable resource and...     Other   Game   \n",
       "832                              ddungeonss and quests     Other   Game   \n",
       "833                             mortal strike brrrrrrr     Other   Game   \n",
       "\n",
       "                                      text_tokenized  \\\n",
       "0                                      [well, penis]   \n",
       "1               [new, hunter, set, kinda, ass, lmao]   \n",
       "2                          [prolly, honestly, hours]   \n",
       "3              [pvp, gear, whole, purpose, wow, pvp]   \n",
       "4                        [whats, ogrimmar, cant, tp]   \n",
       "..                                               ...   \n",
       "829                                   [thanks, bros]   \n",
       "830                                            [lol]   \n",
       "831  [find, expensive, farmable, resource, go, farm]   \n",
       "832                             [ddungeonss, quests]   \n",
       "833                       [mortal, strike, brrrrrrr]   \n",
       "\n",
       "                                joined_tokens  \n",
       "0                                  well penis  \n",
       "1               new hunter set kinda ass lmao  \n",
       "2                       prolly honestly hours  \n",
       "3              pvp gear whole purpose wow pvp  \n",
       "4                      whats ogrimmar cant tp  \n",
       "..                                        ...  \n",
       "829                               thanks bros  \n",
       "830                                       lol  \n",
       "831  find expensive farmable resource go farm  \n",
       "832                         ddungeonss quests  \n",
       "833                    mortal strike brrrrrrr  \n",
       "\n",
       "[834 rows x 7 columns]"
      ]
     },
     "execution_count": 3,
     "metadata": {},
     "output_type": "execute_result"
    }
   ],
   "source": [
    "df = tc.down_sample(df, 'sentiment')\n",
    "df"
   ]
  },
  {
   "cell_type": "code",
   "execution_count": 4,
   "metadata": {},
   "outputs": [
    {
     "data": {
      "text/plain": [
       "Negative    417\n",
       "Other       417\n",
       "Name: sentiment, dtype: int64"
      ]
     },
     "execution_count": 4,
     "metadata": {},
     "output_type": "execute_result"
    }
   ],
   "source": [
    "df.sentiment.value_counts()"
   ]
  },
  {
   "cell_type": "code",
   "execution_count": 5,
   "metadata": {},
   "outputs": [],
   "source": [
    "X = df.joined_tokens\n",
    "y = df.sentiment.replace(['Negative','Other'],[0,1])\n",
    "\n",
    "model_perf = {}\n",
    "model_labels = ['Negative', 'Non-negative']"
   ]
  },
  {
   "cell_type": "code",
   "execution_count": 6,
   "metadata": {},
   "outputs": [],
   "source": [
    "X_train, X_test, y_train, y_test = train_test_split(X, y, test_size= 0.25, random_state=22)\n"
   ]
  },
  {
   "cell_type": "code",
   "execution_count": 7,
   "metadata": {},
   "outputs": [],
   "source": [
    "def run_model(estimator, X_train, y_train, X_test, y_test, cv):\n",
    "\n",
    "  start = time.time()\n",
    "  pipe = Pipeline(\n",
    "      [ ('vect', CountVectorizer()),\n",
    "        ('tfidf', TfidfTransformer()),\n",
    "        ('clf', estimator)\n",
    "      ])\n",
    "  \n",
    "  pipe.fit(X_train, y_train)\n",
    "  end = time.time()\n",
    "\n",
    "  cv_acc = round(np.mean(cross_val_score(pipe, X_train, y_train, cv= cv, scoring= 'accuracy')),4)\n",
    "  cv_rec = round(np.mean(cross_val_score(pipe, X_train, y_train, cv= cv, scoring= 'recall')),4)\n",
    "\n",
    "\n",
    "  y_pred = pipe.predict(X_test)\n",
    "\n",
    "  test_acc = round(accuracy_score(y_pred, y_test), 4)\n",
    "  test_rec = round(recall_score(y_pred, y_test), 4)\n",
    "  \n",
    "  runtime = round((end-start), 4)\n",
    "\n",
    "  cv_dict = {'CV_Accuracy': cv_acc, 'CV_recall': cv_rec, 'Test_Accuracy': test_acc, 'Test_Recall': test_rec, 'Run Time': runtime}\n",
    "\n",
    "\n",
    "  return( pipe, cv_dict, y_pred)"
   ]
  },
  {
   "cell_type": "markdown",
   "metadata": {},
   "source": [
    "## Base Models"
   ]
  },
  {
   "cell_type": "code",
   "execution_count": 8,
   "metadata": {},
   "outputs": [],
   "source": [
    "sgd = SGDClassifier(random_state=SEED)\n",
    "svc = SVC(random_state=SEED)\n",
    "lr = LogisticRegression(random_state=SEED)\n",
    "nb = MultinomialNB()\n",
    "rf = RandomForestClassifier(random_state=SEED)\n",
    "\n",
    "models = {'SGD': sgd, 'SVC': svc, 'LogReg': lr, 'Naive': nb, 'RFC': rf}\n"
   ]
  },
  {
   "cell_type": "code",
   "execution_count": 9,
   "metadata": {},
   "outputs": [
    {
     "name": "stdout",
     "output_type": "stream",
     "text": [
      "Showing results for: SGD\n",
      "{'Model': Pipeline(steps=[('vect', CountVectorizer()), ('tfidf', TfidfTransformer()),\n",
      "                ('clf', SGDClassifier(random_state=22))]), 'Performace': {'CV_Accuracy': 0.664, 'CV_recall': 0.5784, 'Test_Accuracy': 0.7033, 'Test_Recall': 0.7283, 'Run Time': 0.016}}\n",
      "\n",
      "Showing results for: SVC\n",
      "{'Model': Pipeline(steps=[('vect', CountVectorizer()), ('tfidf', TfidfTransformer()),\n",
      "                ('clf', SVC(random_state=22))]), 'Performace': {'CV_Accuracy': 0.688, 'CV_recall': 0.5624, 'Test_Accuracy': 0.7273, 'Test_Recall': 0.8052, 'Run Time': 0.058}}\n",
      "\n",
      "Showing results for: LogReg\n",
      "{'Model': Pipeline(steps=[('vect', CountVectorizer()), ('tfidf', TfidfTransformer()),\n",
      "                ('clf', LogisticRegression(random_state=22))]), 'Performace': {'CV_Accuracy': 0.672, 'CV_recall': 0.5785, 'Test_Accuracy': 0.7081, 'Test_Recall': 0.7654, 'Run Time': 0.024}}\n",
      "\n",
      "Showing results for: Naive\n",
      "{'Model': Pipeline(steps=[('vect', CountVectorizer()), ('tfidf', TfidfTransformer()),\n",
      "                ('clf', MultinomialNB())]), 'Performace': {'CV_Accuracy': 0.6704, 'CV_recall': 0.5914, 'Test_Accuracy': 0.6651, 'Test_Recall': 0.67, 'Run Time': 0.008}}\n",
      "\n",
      "Showing results for: RFC\n",
      "{'Model': Pipeline(steps=[('vect', CountVectorizer()), ('tfidf', TfidfTransformer()),\n",
      "                ('clf', RandomForestClassifier(random_state=22))]), 'Performace': {'CV_Accuracy': 0.6704, 'CV_recall': 0.4472, 'Test_Accuracy': 0.6364, 'Test_Recall': 0.7692, 'Run Time': 0.341}}\n",
      "\n"
     ]
    },
    {
     "data": {
      "image/png": "[encoded data removed]",
      "text/plain": [
       "<Figure size 576x432 with 2 Axes>"
      ]
     },
     "metadata": {
      "needs_background": "light"
     },
     "output_type": "display_data"
    },
    {
     "data": {
      "image/png": "[encoded data removed]",
      "text/plain": [
       "<Figure size 576x432 with 2 Axes>"
      ]
     },
     "metadata": {
      "needs_background": "light"
     },
     "output_type": "display_data"
    },
    {
     "data": {
      "image/png": "[encoded data removed]",
      "text/plain": [
       "<Figure size 576x432 with 2 Axes>"
      ]
     },
     "metadata": {
      "needs_background": "light"
     },
     "output_type": "display_data"
    },
    {
     "data": {
      "image/png": "[encoded data removed]",
      "text/plain": [
       "<Figure size 576x432 with 2 Axes>"
      ]
     },
     "metadata": {
      "needs_background": "light"
     },
     "output_type": "display_data"
    },
    {
     "data": {
      "image/png": "[encoded data removed]",
      "text/plain": [
       "<Figure size 576x432 with 2 Axes>"
      ]
     },
     "metadata": {
      "needs_background": "light"
     },
     "output_type": "display_data"
    }
   ],
   "source": [
    "for key, model in models.items():\n",
    "\n",
    "    model, cv_dict, y_pred = run_model(model, X_train, y_train, X_test, y_test, 5)\n",
    "    model_perf[key] = {'Model': model, 'Performace': cv_dict}\n",
    "\n",
    "    print(f'Showing results for: {key}')\n",
    "    print(model_perf[key])\n",
    "    print()\n",
    "\n",
    "    cm = confusion_matrix(y_test, y_pred)\n",
    "    fig, ax = plt.subplots(figsize=(8,6))\n",
    "\n",
    "    sns.heatmap(cm/np.sum(cm), annot=True, fmt='.2%', cmap='Blues', xticklabels= model_labels, yticklabels= model_labels)\n",
    "    ax.set_title(key);\n",
    "\n",
    "\n"
   ]
  },
  {
   "cell_type": "code",
   "execution_count": 10,
   "metadata": {},
   "outputs": [
    {
     "data": {
      "text/plain": [
       "0    105\n",
       "1    104\n",
       "Name: sentiment, dtype: int64"
      ]
     },
     "execution_count": 10,
     "metadata": {},
     "output_type": "execute_result"
    }
   ],
   "source": [
    "y_test.value_counts()"
   ]
  },
  {
   "cell_type": "code",
   "execution_count": 11,
   "metadata": {},
   "outputs": [
    {
     "data": {
      "text/plain": [
       "0    0.502392\n",
       "1    0.497608\n",
       "Name: sentiment, dtype: float64"
      ]
     },
     "execution_count": 11,
     "metadata": {},
     "output_type": "execute_result"
    }
   ],
   "source": [
    "y_test.value_counts(normalize=True)"
   ]
  },
  {
   "cell_type": "markdown",
   "metadata": {},
   "source": [
    "## Tuned Models"
   ]
  },
  {
   "cell_type": "code",
   "execution_count": 12,
   "metadata": {},
   "outputs": [],
   "source": [
    "sgd_params = {\n",
    "    'vect__strip_accents':[None,'ascii','unicode'],\n",
    "    'vect__lowercase': [True, False],\n",
    "    'vect__ngram_range': [(1,1), (1,2), (2,2)],\n",
    "    'tfidf__smooth_idf': [True, False],\n",
    "    'clf__loss': ['hinge','log','modified_huber','squared_hinge'],\n",
    "    'clf__max_iter':[1000,2000],\n",
    "    'clf__class_weight': [None, 'balanced']\n",
    "}\n",
    "\n",
    "svc_params = {\n",
    "    'vect__strip_accents':[None,'ascii','unicode'],\n",
    "    'vect__lowercase': [True, False],\n",
    "    'vect__ngram_range': [(1,1), (1,2), (2,2)],\n",
    "    'tfidf__smooth_idf': [True, False],\n",
    "    'clf__C': [1,5,10],\n",
    "    'clf__kernel': ['linear','poly', 'rbf', 'sigmoid','precomputed'],\n",
    "    'clf__degree': [3,6,9],\n",
    "    'clf__gamma': ['auto', 'scale'],\n",
    "    'clf__class_weight':[None, 'balanced']\n",
    "}\n",
    "\n",
    "lr_params = {\n",
    "    'vect__strip_accents':[None,'ascii','unicode'],\n",
    "    'vect__lowercase': [True, False],\n",
    "    'vect__ngram_range': [(1,1), (1,2), (2,2)],\n",
    "    'tfidf__smooth_idf': [True, False],\n",
    "    'clf__C': [1,5,10],\n",
    "    'clf__solver': ['liblinear','lbfgs', 'sag', 'saga','newton-cg'],\n",
    "    'clf__class_weight': ['balanced', None],\n",
    "    'clf__multi_class': ['auto', 'ovr', 'multinomial'],\n",
    "    'clf__penalty':['l1','l2','elasticnet', 'none']\n",
    "}\n",
    "\n",
    "nb_params = {\n",
    "    'vect__strip_accents':[None,'ascii','unicode'],\n",
    "    'vect__lowercase': [True, False],\n",
    "    'vect__ngram_range': [(1,1), (1,2), (2,2)],\n",
    "    'tfidf__smooth_idf': [True, False]\n",
    "}\n",
    "\n",
    "rf_params = {\n",
    "    'vect__strip_accents':[None,'ascii','unicode'],\n",
    "    'vect__lowercase': [True, False],\n",
    "    'vect__ngram_range': [(1,1), (1,2), (2,2)],\n",
    "    'tfidf__smooth_idf': [True, False],\n",
    "    'clf__n_estimators': [100,200,300,400,500],\n",
    "    'clf__criterion': ['gini','entropy'],\n",
    "    'clf__max_depth': [1,3,5],\n",
    "    'clf__class_weight': [None,'balanced', 'balanced_subsample']\n",
    "}"
   ]
  },
  {
   "cell_type": "code",
   "execution_count": 13,
   "metadata": {},
   "outputs": [],
   "source": [
    "def grid_run(estimator, est_params, X_train, y_train, X_test, y_test, cv, score='accuracy'):\n",
    "\n",
    "  model, cv_dict, y_pred = run_model(estimator, X_train, y_train, X_test, y_test, cv)\n",
    "\n",
    "  grid = GridSearchCV(model,param_grid= est_params, cv=cv, verbose=1, n_jobs=-3, scoring= score)\n",
    "  grid = grid.fit(X_train, y_train)\n",
    "\n",
    "  return(grid)"
   ]
  },
  {
   "cell_type": "code",
   "execution_count": 14,
   "metadata": {},
   "outputs": [],
   "source": [
    "model_params = {'SGD':{sgd:sgd_params}, 'SVC': {svc:svc_params}, 'LogReg': {lr:lr_params}, 'Naive': {nb:nb_params}, 'RFC': {rf:rf_params}}"
   ]
  },
  {
   "cell_type": "code",
   "execution_count": 15,
   "metadata": {},
   "outputs": [],
   "source": [
    "# for key, estimators in model_params.items():\n",
    "#   for estimator, params in estimators.items():\n",
    "\n",
    "#     print('----------------------------------------------')\n",
    "#     print(f'Now running {key} GridSearch')\n",
    "\n",
    "#     grid = grid_run(estimator, params, X_train, y_train, X_test, y_test, 5, score='accuracy')\n",
    "\n",
    "#     print()\n",
    "#     print(grid.best_score_)\n",
    "#     print(grid.best_params_)\n",
    "#     print()"
   ]
  },
  {
   "cell_type": "code",
   "execution_count": 16,
   "metadata": {},
   "outputs": [
    {
     "name": "stdout",
     "output_type": "stream",
     "text": [
      "0.6608 0.5751\n",
      "0.6938 0.7381\n"
     ]
    }
   ],
   "source": [
    "# {'clf__class_weight': None, \n",
    "# 'clf__loss': 'log', \n",
    "# 'clf__max_iter': 1000, \n",
    "# 'tfidf__smooth_idf': True, \n",
    "# 'vect__lowercase': True, \n",
    "# 'vect__ngram_range': (2, 2), \n",
    "# 'vect__strip_accents': None}\n",
    "\n",
    "sgd = Pipeline(\n",
    "    [   ('vect', CountVectorizer(ngram_range=(1,2))),\n",
    "        ('tfidf', TfidfTransformer()),\n",
    "        ('clf', SGDClassifier(loss='hinge', class_weight='balanced', random_state=SEED))\n",
    "    ])\n",
    "\n",
    "\n",
    "sgd.fit(X_train, y_train)\n",
    "\n",
    "cv_acc = round(np.mean(cross_val_score(sgd, X_train, y_train, cv= 5, scoring= 'accuracy')),4)\n",
    "cv_rec = round(np.mean(cross_val_score(sgd, X_train, y_train, cv= 5, scoring= 'recall')),4)\n",
    "\n",
    "\n",
    "y_pred = sgd.predict(X_test)\n",
    "\n",
    "test_acc = round(accuracy_score(y_pred, y_test), 4)\n",
    "test_rec = round(recall_score(y_pred, y_test), 4)\n",
    "\n",
    "print(cv_acc, cv_rec)\n",
    "print(test_acc, test_rec)"
   ]
  },
  {
   "cell_type": "code",
   "execution_count": 17,
   "metadata": {},
   "outputs": [
    {
     "data": {
      "image/png": "[encoded data removed]",
      "text/plain": [
       "<Figure size 576x432 with 2 Axes>"
      ]
     },
     "metadata": {
      "needs_background": "light"
     },
     "output_type": "display_data"
    }
   ],
   "source": [
    "cm = confusion_matrix(y_test, y_pred)\n",
    "fig, ax = plt.subplots(figsize=(8,6))\n",
    "\n",
    "sns.heatmap(cm/np.sum(cm), annot=True, fmt='.2%', cmap='Blues', xticklabels= model_labels, yticklabels= model_labels)\n",
    "ax.set_title('SGD');"
   ]
  },
  {
   "cell_type": "code",
   "execution_count": 18,
   "metadata": {},
   "outputs": [
    {
     "name": "stdout",
     "output_type": "stream",
     "text": [
      "0.6752 0.5944\n",
      "0.6842 0.7209\n"
     ]
    }
   ],
   "source": [
    "# {'clf__C': 1, \n",
    "# 'clf__class_weight': None, \n",
    "# 'clf__degree': 3, \n",
    "# 'clf__gamma': 'auto', \n",
    "# 'clf__kernel': 'poly', \n",
    "# 'tfidf__smooth_idf': True, \n",
    "# 'vect__lowercase': True, \n",
    "# 'vect__ngram_range': (1, 1), \n",
    "# 'vect__strip_accents': None}\n",
    "\n",
    "svc = Pipeline(\n",
    "    [   ('vect', CountVectorizer(ngram_range=(1,2))),\n",
    "        ('tfidf', TfidfTransformer()),\n",
    "        ('clf', SVC(C= 5, degree= 3, gamma= 'auto', kernel= 'linear', random_state=SEED))\n",
    "    ])\n",
    "\n",
    "\n",
    "svc.fit(X_train, y_train)\n",
    "\n",
    "cv_acc = round(np.mean(cross_val_score(svc, X_train, y_train, cv= 5, scoring= 'accuracy')),4)\n",
    "cv_rec = round(np.mean(cross_val_score(svc, X_train, y_train, cv= 5, scoring= 'recall')),4)\n",
    "\n",
    "\n",
    "y_pred = svc.predict(X_test)\n",
    "\n",
    "test_acc = round(accuracy_score(y_pred, y_test), 4)\n",
    "test_rec = round(recall_score(y_pred, y_test), 4)\n",
    "\n",
    "print(cv_acc, cv_rec)\n",
    "print(test_acc, test_rec)"
   ]
  },
  {
   "cell_type": "code",
   "execution_count": 19,
   "metadata": {},
   "outputs": [
    {
     "data": {
      "image/png": "[encoded data removed]",
      "text/plain": [
       "<Figure size 576x432 with 2 Axes>"
      ]
     },
     "metadata": {
      "needs_background": "light"
     },
     "output_type": "display_data"
    }
   ],
   "source": [
    "cm = confusion_matrix(y_test, y_pred)\n",
    "fig, ax = plt.subplots(figsize=(8,6))\n",
    "\n",
    "sns.heatmap(cm/np.sum(cm), annot=True, fmt='.2%', cmap='Blues', xticklabels= model_labels, yticklabels= model_labels)\n",
    "ax.set_title('SVC');"
   ]
  },
  {
   "cell_type": "code",
   "execution_count": 23,
   "metadata": {},
   "outputs": [
    {
     "name": "stdout",
     "output_type": "stream",
     "text": [
      "0.68 0.5847\n",
      "0.7177 0.7848\n"
     ]
    }
   ],
   "source": [
    "lg = Pipeline(\n",
    "    [   ('vect', CountVectorizer(ngram_range=(1,2))),\n",
    "        ('tfidf', TfidfTransformer()),\n",
    "        ('clf', LogisticRegression(C= 5, class_weight = 'balanced', multi_class='auto', penalty= 'l2', solver='liblinear', random_state=SEED))\n",
    "    ])\n",
    "\n",
    "\n",
    "lg.fit(X_train, y_train)\n",
    "\n",
    "cv_acc = round(np.mean(cross_val_score(lg, X_train, y_train, cv= 5, scoring= 'accuracy')),4)\n",
    "cv_rec = round(np.mean(cross_val_score(lg, X_train, y_train, cv= 5, scoring= 'recall')),4)\n",
    "\n",
    "\n",
    "y_pred = lg.predict(X_test)\n",
    "\n",
    "test_acc = round(accuracy_score(y_pred, y_test), 4)\n",
    "test_rec = round(recall_score(y_pred, y_test), 4)\n",
    "\n",
    "print(cv_acc, cv_rec)\n",
    "print(test_acc, test_rec)"
   ]
  },
  {
   "cell_type": "code",
   "execution_count": 25,
   "metadata": {},
   "outputs": [
    {
     "data": {
      "image/png": "[encoded data removed]",
      "text/plain": [
       "<Figure size 576x432 with 2 Axes>"
      ]
     },
     "metadata": {
      "needs_background": "light"
     },
     "output_type": "display_data"
    }
   ],
   "source": [
    "cm = confusion_matrix(y_test, y_pred)\n",
    "fig, ax = plt.subplots(figsize=(8,6))\n",
    "\n",
    "sns.heatmap(cm/np.sum(cm), annot=True, fmt='.2%', cmap='Blues', xticklabels= model_labels, yticklabels= model_labels)\n",
    "ax.set_title('LogReg');"
   ]
  },
  {
   "cell_type": "code",
   "execution_count": null,
   "metadata": {},
   "outputs": [],
   "source": []
  }
 ],
 "metadata": {
  "interpreter": {
   "hash": "84ac4771d5764d64b27213ab6683f1ab5061e80733e0bd642ee92a0b0c9907f0"
  },
  "kernelspec": {
   "display_name": "Python 3.8.12 ('learn-env')",
   "language": "python",
   "name": "python3"
  },
  "language_info": {
   "codemirror_mode": {
    "name": "ipython",
    "version": 3
   },
   "file_extension": ".py",
   "mimetype": "text/x-python",
   "name": "python",
   "nbconvert_exporter": "python",
   "pygments_lexer": "ipython3",
   "version": "3.8.12"
  },
  "orig_nbformat": 4
 },
 "nbformat": 4,
 "nbformat_minor": 2
}
